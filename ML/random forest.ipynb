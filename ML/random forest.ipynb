{
 "cells": [
  {
   "cell_type": "code",
   "id": "initial_id",
   "metadata": {
    "collapsed": true,
    "ExecuteTime": {
     "end_time": "2025-09-04T11:46:19.520792Z",
     "start_time": "2025-09-04T11:46:19.395503Z"
    }
   },
   "source": [
    "import pandas as pd\n",
    "from sklearn.model_selection import train_test_split\n",
    "from sklearn.ensemble import RandomForestClassifier\n",
    "from sklearn.metrics import accuracy_score, classification_report, confusion_matrix\n",
    "\n",
    "# Sample dataset\n",
    "data = {\n",
    "   'Age': [25, 35, 22, 45, 30, 28, 40, 33, 27, 42, 26, 38, 29, 36, 31,\n",
    "               23, 41, 32, 39, 44, 24, 37, 34, 43, 21],\n",
    "\n",
    "        'Income': [30000, 60000, 25000, 80000, 45000, 35000, 70000, 55000, 32000, 75000,\n",
    "                  28000, 65000, 40000, 58000, 48000, 22000, 72000, 52000, 68000, 78000,\n",
    "                  26000, 62000, 50000, 76000, 20000],\n",
    "\n",
    "        'Credit_Score': [650, 750, 600, 800, 700, 680, 780, 720, 660, 790,\n",
    "                        640, 760, 690, 740, 710, 580, 770, 730, 750, 810,\n",
    "                        620, 740, 720, 790, 560],\n",
    "\n",
    "\n",
    "        'Loan_Amount': [200000, 500000, 150000, 800000, 300000, 250000, 600000, 400000, 180000, 700000,\n",
    "                       160000, 550000, 280000, 450000, 320000, 120000, 650000, 350000, 520000, 750000,\n",
    "                       140000, 480000, 380000, 720000, 100000],\n",
    "\n",
    "        'Loan_Approved': [0, 1, 0, 1, 1, 0, 1, 1, 0, 1,\n",
    "                         0, 1, 1, 1, 1, 0, 1, 1, 1, 1,\n",
    "                         0, 1, 1, 1, 0]  # 1=Approved, 0=Rejected\n",
    "}\n",
    "A=pd.DataFrame(data)\n",
    "# Features (X) and Target (y)\n",
    "X = A[['Age', 'Income', 'Credit_Score','Loan_Amount']]\n",
    "y = A['Loan_Approved']\n",
    "\n",
    "# Split into train/test\n",
    "X_train, X_test, y_train, y_test = train_test_split(X, y, test_size=0.3, random_state=42)\n",
    "\n",
    "# Create Random Forest Classifier\n",
    "model = RandomForestClassifier(n_estimators=100, random_state=42)\n",
    "\n",
    "# Train\n",
    "model.fit(X_train, y_train)\n",
    "\n",
    "# Predict\n",
    "y_pred = model.predict(X_test)\n",
    "\n",
    "# Results\n",
    "print(\"Predictions:\", y_pred)\n",
    "print(\"Accuracy:\", accuracy_score(y_test, y_pred))\n",
    "print(\"\\nClassification Report:\\n\", classification_report(y_test, y_pred))\n",
    "print(\"\\nConfusion Matrix:\\n\", confusion_matrix(y_test, y_pred))\n",
    "\n",
    "\n"
   ],
   "outputs": [
    {
     "name": "stdout",
     "output_type": "stream",
     "text": [
      "Predictions: [0 1 0 1 1 1 1 1]\n",
      "Accuracy: 1.0\n",
      "\n",
      "Classification Report:\n",
      "               precision    recall  f1-score   support\n",
      "\n",
      "           0       1.00      1.00      1.00         2\n",
      "           1       1.00      1.00      1.00         6\n",
      "\n",
      "    accuracy                           1.00         8\n",
      "   macro avg       1.00      1.00      1.00         8\n",
      "weighted avg       1.00      1.00      1.00         8\n",
      "\n",
      "\n",
      "Confusion Matrix:\n",
      " [[2 0]\n",
      " [0 6]]\n"
     ]
    }
   ],
   "execution_count": 21
  },
  {
   "metadata": {
    "ExecuteTime": {
     "end_time": "2025-09-04T11:46:28.550083Z",
     "start_time": "2025-09-04T11:46:19.534472Z"
    }
   },
   "cell_type": "code",
   "source": [
    "dataset = pd.read_csv('Applicant.csv')\n",
    "df=pd.DataFrame(dataset)\n",
    "# Features (X) and Target (y)\n",
    "X = df.drop('Loan_Default_Risk',axis=1)\n",
    "y = df['Loan_Default_Risk']\n",
    "from sklearn.preprocessing import LabelEncoder, StandardScaler\n",
    "for col in X.select_dtypes(include=['object']).columns:\n",
    "    X[col] = X[col].fillna(0)\n",
    "    le = LabelEncoder()\n",
    "    X[col] = le.fit_transform(X[col])\n",
    "\n",
    "# Split into train/test\n",
    "X_train, X_test, y_train, y_test = train_test_split(X, y, test_size=0.3, random_state=42)\n",
    "\n",
    "# Create Random Forest Classifier\n",
    "model = RandomForestClassifier(n_estimators=100, random_state=42)\n",
    "\n",
    "# Train\n",
    "model.fit(X_train, y_train)\n",
    "\n",
    "# Predict\n",
    "y_pred = model.predict(X_test)\n",
    "\n",
    "# Results\n",
    "print(\"Predictions:\", y_pred)\n",
    "print(\"Accuracy:\", accuracy_score(y_test, y_pred))\n",
    "print(\"\\nClassification Report:\\n\", classification_report(y_test, y_pred))\n",
    "print(\"\\nConfusion Matrix:\\n\", confusion_matrix(y_test, y_pred))\n"
   ],
   "id": "9e99e7b6ab361946",
   "outputs": [
    {
     "name": "stdout",
     "output_type": "stream",
     "text": [
      "Predictions: [1 0 0 ... 0 1 0]\n",
      "Accuracy: 0.9366\n",
      "\n",
      "Classification Report:\n",
      "               precision    recall  f1-score   support\n",
      "\n",
      "           0       0.96      0.97      0.96     26159\n",
      "           1       0.78      0.71      0.74      3841\n",
      "\n",
      "    accuracy                           0.94     30000\n",
      "   macro avg       0.87      0.84      0.85     30000\n",
      "weighted avg       0.93      0.94      0.94     30000\n",
      "\n",
      "\n",
      "Confusion Matrix:\n",
      " [[25375   784]\n",
      " [ 1118  2723]]\n"
     ]
    }
   ],
   "execution_count": 22
  }
 ],
 "metadata": {
  "kernelspec": {
   "display_name": "Python 3",
   "language": "python",
   "name": "python3"
  },
  "language_info": {
   "codemirror_mode": {
    "name": "ipython",
    "version": 2
   },
   "file_extension": ".py",
   "mimetype": "text/x-python",
   "name": "python",
   "nbconvert_exporter": "python",
   "pygments_lexer": "ipython2",
   "version": "2.7.6"
  }
 },
 "nbformat": 4,
 "nbformat_minor": 5
}
