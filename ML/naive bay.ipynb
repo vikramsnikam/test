{
 "cells": [
  {
   "cell_type": "code",
   "id": "initial_id",
   "metadata": {
    "collapsed": true,
    "ExecuteTime": {
     "end_time": "2025-09-07T11:05:01.402091Z",
     "start_time": "2025-09-07T11:05:01.386641Z"
    }
   },
   "source": [
    "import numpy as np\n",
    "import pandas as pd\n",
    "from sklearn.model_selection import train_test_split\n",
    "from sklearn.naive_bayes import GaussianNB\n",
    "from sklearn.metrics import accuracy_score\n",
    "\n",
    "# 1. Dataset (15 points)\n",
    "data = {\n",
    "    'temperature': [22, 25, 27, 30, 35, 28, 21, 20, 18, 33, 31, 29, 24, 26, 19],\n",
    "    'humidity':    [65, 70, 80, 85, 90, 75, 60, 55, 50, 88, 82, 77, 68, 72, 58],\n",
    "    'play':        [\"Yes\",\"Yes\",\"No\",\"No\",\"No\",\n",
    "                    \"Yes\",\"Yes\",\"Yes\",\"Yes\",\"No\",\n",
    "                    \"No\",\"No\",\"Yes\",\"Yes\",\"Yes\"]\n",
    "}\n",
    "\n",
    "df = pd.DataFrame(data)\n",
    "\n",
    "# Features and labels\n",
    "X = df[['temperature', 'humidity']].values\n",
    "y = df['play'].values\n",
    "\n",
    "# 2. Train-test split\n",
    "X_train, X_test, y_train, y_test = train_test_split(\n",
    "    X, y, test_size=0.3, random_state=42\n",
    ")\n",
    "\n",
    "# 3. Train Naive Bayes model\n",
    "nb = GaussianNB()\n",
    "nb.fit(X_train, y_train)\n",
    "\n",
    "# 4. Predictions\n",
    "y_pred = nb.predict(X_test)\n",
    "\n",
    "# 5. Accuracy\n",
    "acc = accuracy_score(y_test, y_pred)\n",
    "print(\"Predictions:\", y_pred)\n",
    "print(\"Actual     :\", y_test)\n",
    "print(\"Accuracy   :\", acc)\n",
    "\n",
    "# 6. Example new prediction\n",
    "new_day = np.array([[27, 65]])  # 27°C and 65% humidity\n",
    "new_pred = nb.predict(new_day)[0]\n",
    "print(\"New day prediction:\", new_pred)\n"
   ],
   "outputs": [
    {
     "name": "stdout",
     "output_type": "stream",
     "text": [
      "Predictions: ['No' 'No' 'Yes' 'Yes' 'No']\n",
      "Actual     : ['No' 'No' 'Yes' 'Yes' 'Yes']\n",
      "Accuracy   : 0.8\n",
      "New day prediction: Yes\n"
     ]
    }
   ],
   "execution_count": 3
  },
  {
   "metadata": {},
   "cell_type": "code",
   "outputs": [],
   "execution_count": null,
   "source": "",
   "id": "c8e4d4c19c3cfa5b"
  },
  {
   "metadata": {
    "ExecuteTime": {
     "end_time": "2025-09-07T11:05:01.451063Z",
     "start_time": "2025-09-07T11:05:01.441501Z"
    }
   },
   "cell_type": "code",
   "source": [
    "import pandas as pd\n",
    "from sklearn.model_selection import train_test_split\n",
    "from sklearn.naive_bayes import GaussianNB\n",
    "from sklearn.metrics import accuracy_score\n",
    "\n",
    "# Sample dataset\n",
    "data = {\n",
    "    'temperature': [85, 80, 83, 70, 68, 65, 72, 69],\n",
    "    'humidity':    [85, 90, 78, 96, 80, 70, 95, 70],\n",
    "    'windy':       [False, True, False, False, False, True, True, False],\n",
    "    'play':        ['No', 'No', 'Yes', 'Yes', 'Yes', 'No', 'Yes', 'Yes']\n",
    "}\n",
    "\n",
    "df = pd.DataFrame(data)\n",
    "\n",
    "# Features (X) and labels (y)\n",
    "X = df[['temperature', 'humidity', 'windy']]\n",
    "y = df['play']\n",
    "\n",
    "# Split train/test\n",
    "X_train, X_test, y_train, y_test = train_test_split(X, y, test_size=0.3, random_state=42)\n",
    "\n",
    "# Model: Gaussian Naive Bayes (for numeric features)\n",
    "model = GaussianNB()\n",
    "model.fit(X_train, y_train)\n",
    "\n",
    "# Predictions\n",
    "y_pred = model.predict(X_test)\n",
    "\n",
    "# Accuracy\n",
    "print(\"Predictions:\", y_pred)\n",
    "print(\"Accuracy:\", accuracy_score(y_test, y_pred))\n"
   ],
   "id": "96dedebd4e4b8876",
   "outputs": [
    {
     "name": "stdout",
     "output_type": "stream",
     "text": [
      "Predictions: ['Yes' 'Yes' 'Yes']\n",
      "Accuracy: 0.0\n"
     ]
    }
   ],
   "execution_count": 4
  }
 ],
 "metadata": {
  "kernelspec": {
   "display_name": "Python 3",
   "language": "python",
   "name": "python3"
  },
  "language_info": {
   "codemirror_mode": {
    "name": "ipython",
    "version": 2
   },
   "file_extension": ".py",
   "mimetype": "text/x-python",
   "name": "python",
   "nbconvert_exporter": "python",
   "pygments_lexer": "ipython2",
   "version": "2.7.6"
  }
 },
 "nbformat": 4,
 "nbformat_minor": 5
}
