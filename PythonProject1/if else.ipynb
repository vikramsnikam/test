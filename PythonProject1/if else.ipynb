{
 "cells": [
  {
   "metadata": {
    "ExecuteTime": {
     "end_time": "2025-07-30T14:32:09.589583Z",
     "start_time": "2025-07-30T14:32:09.583423Z"
    }
   },
   "cell_type": "code",
   "source": [
    "\"\"\"if else\"\"\"\n",
    "a=2\n",
    "if a>5:\n",
    "  print(\"a is greater than 5\")\n",
    "else:\n",
    "  print(\"a is not greater than 5\")"
   ],
   "id": "8194d2a8f257587f",
   "outputs": [
    {
     "name": "stdout",
     "output_type": "stream",
     "text": [
      "a is not greater than 5\n"
     ]
    }
   ],
   "execution_count": 11
  },
  {
   "metadata": {
    "ExecuteTime": {
     "end_time": "2025-07-30T14:33:57.289595Z",
     "start_time": "2025-07-30T14:33:45.503112Z"
    }
   },
   "cell_type": "code",
   "source": [
    "\"\"\"elif \"\"\"\n",
    "numa=input('enter a number')\n",
    "numb=input('enter b number')\n",
    "operator =input('enter a operator')\n",
    "if operator == '+':\n",
    "    print(int(numa)+int(numb))\n",
    "elif operator == '-':\n",
    "    print(int(numa)-int(numb))\n",
    "elif operator == '*':\n",
    "    print(int(numa)*int(numb))\n",
    "elif operator == '/':\n",
    "    print(int(numa)/int(numb))\n",
    "else:\n",
    "    print('operator not exist')\n",
    "\n",
    "\n"
   ],
   "id": "3964910c88edb884",
   "outputs": [
    {
     "name": "stdout",
     "output_type": "stream",
     "text": [
      "9\n"
     ]
    }
   ],
   "execution_count": 12
  }
 ],
 "metadata": {},
 "nbformat": 4,
 "nbformat_minor": 5
}
