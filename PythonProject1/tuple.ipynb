{
 "cells": [
  {
   "metadata": {
    "ExecuteTime": {
     "end_time": "2025-07-30T14:51:22.324777Z",
     "start_time": "2025-07-30T14:51:22.300479Z"
    }
   },
   "cell_type": "code",
   "source": [
    "'''Tuples'''\n",
    "'''tuple is data type stored inside () can be int, float, string, can have duplicate value'''\n",
    "'''tuple is immutable we cant modify it directly'''\n",
    "b=(1,2,3,4,5,6,3,7,8,)\n",
    "print(type(b))"
   ],
   "id": "6622979c398ce1d6",
   "outputs": [
    {
     "name": "stdout",
     "output_type": "stream",
     "text": [
      "<class 'tuple'>\n"
     ]
    }
   ],
   "execution_count": 28
  },
  {
   "metadata": {
    "ExecuteTime": {
     "end_time": "2025-07-30T14:38:24.664208Z",
     "start_time": "2025-07-30T14:38:24.643127Z"
    }
   },
   "cell_type": "code",
   "source": [
    "'''access data index'''\n",
    "'''index start from o and in reverse from -1'''\n",
    "print(b[1])\n",
    "print(b[-1])"
   ],
   "id": "cef0928130a39581",
   "outputs": [
    {
     "name": "stdout",
     "output_type": "stream",
     "text": [
      "2\n",
      "3\n"
     ]
    }
   ],
   "execution_count": 4
  },
  {
   "metadata": {
    "ExecuteTime": {
     "end_time": "2025-07-30T14:44:08.337567Z",
     "start_time": "2025-07-30T14:44:08.331513Z"
    }
   },
   "cell_type": "code",
   "source": [
    "'''find no of data pt in tuple(list/dictionary/set)'''\n",
    "print(len(b))"
   ],
   "id": "8197ee9f7f4cc7f0",
   "outputs": [
    {
     "name": "stdout",
     "output_type": "stream",
     "text": [
      "9\n"
     ]
    }
   ],
   "execution_count": 15
  },
  {
   "metadata": {
    "ExecuteTime": {
     "end_time": "2025-07-30T14:51:24.831489Z",
     "start_time": "2025-07-30T14:51:24.809349Z"
    }
   },
   "cell_type": "code",
   "source": [
    "'''access all data in tuple'''\n",
    "for i in b:\n",
    "    print(i)"
   ],
   "id": "41760ee3545ac162",
   "outputs": [
    {
     "name": "stdout",
     "output_type": "stream",
     "text": [
      "1\n",
      "2\n",
      "3\n",
      "4\n",
      "5\n",
      "6\n",
      "3\n",
      "7\n",
      "8\n"
     ]
    }
   ],
   "execution_count": 29
  },
  {
   "metadata": {
    "ExecuteTime": {
     "end_time": "2025-07-30T14:44:51.813484Z",
     "start_time": "2025-07-30T14:44:51.796185Z"
    }
   },
   "cell_type": "code",
   "source": [
    "'''empty tuples'''\n",
    "a=()\n",
    "print(type(a))"
   ],
   "id": "457ae2662918e62b",
   "outputs": [
    {
     "name": "stdout",
     "output_type": "stream",
     "text": [
      "<class 'tuple'>\n"
     ]
    }
   ],
   "execution_count": 18
  },
  {
   "metadata": {
    "ExecuteTime": {
     "end_time": "2025-07-30T14:45:50.367484Z",
     "start_time": "2025-07-30T14:45:50.351255Z"
    }
   },
   "cell_type": "code",
   "source": [
    "'''tuple conversion'''\n",
    "a=[1,2,3]\n",
    "print(type(a))\n",
    "b=tuple(a)\n",
    "print(type(b))"
   ],
   "id": "d2c087e0ac42d1c8",
   "outputs": [
    {
     "name": "stdout",
     "output_type": "stream",
     "text": [
      "<class 'list'>\n",
      "<class 'tuple'>\n"
     ]
    }
   ],
   "execution_count": 19
  },
  {
   "metadata": {
    "ExecuteTime": {
     "end_time": "2025-07-30T14:47:54.985314Z",
     "start_time": "2025-07-30T14:47:54.960337Z"
    }
   },
   "cell_type": "code",
   "source": [
    "\"\"\"creating range 0 will have all tuple value followed by 2,3,\"\"\"\n",
    "b=('a','b','c')\n",
    "for j in range (0,3):\n",
    "    print(j)\n",
    "    for i in b:\n",
    "        print(i)"
   ],
   "id": "a6bb83c7e6c8c406",
   "outputs": [
    {
     "name": "stdout",
     "output_type": "stream",
     "text": [
      "0\n",
      "a\n",
      "b\n",
      "c\n",
      "1\n",
      "a\n",
      "b\n",
      "c\n",
      "2\n",
      "a\n",
      "b\n",
      "c\n"
     ]
    }
   ],
   "execution_count": 22
  },
  {
   "metadata": {
    "ExecuteTime": {
     "end_time": "2025-07-30T14:48:03.292784Z",
     "start_time": "2025-07-30T14:48:03.269605Z"
    }
   },
   "cell_type": "code",
   "source": [
    "\n",
    "d=('vikram')\n",
    "for l in d:\n",
    "   print(l)\n"
   ],
   "id": "1f7a0c5f813353d6",
   "outputs": [
    {
     "name": "stdout",
     "output_type": "stream",
     "text": [
      "v\n",
      "i\n",
      "k\n",
      "r\n",
      "a\n",
      "m\n"
     ]
    }
   ],
   "execution_count": 23
  }
 ],
 "metadata": {},
 "nbformat": 4,
 "nbformat_minor": 5
}
