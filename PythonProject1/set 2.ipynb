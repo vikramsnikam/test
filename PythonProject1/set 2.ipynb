{
 "cells": [
  {
   "metadata": {
    "ExecuteTime": {
     "end_time": "2025-07-30T19:41:37.271345Z",
     "start_time": "2025-07-30T19:41:37.262427Z"
    }
   },
   "cell_type": "code",
   "source": [
    "'''enumerate'''\n",
    "t={1,2,3,4,5,6,7}\n",
    "d=enumerate(t)\n",
    "print(d)\n",
    "c=list(d)\n",
    "print(c)\n",
    "print(c[0])\n",
    "print(c[1])"
   ],
   "id": "6aa6d40d8ea92f1",
   "outputs": [
    {
     "name": "stdout",
     "output_type": "stream",
     "text": [
      "<enumerate object at 0x000001F3679B0D60>\n",
      "[(0, 1), (1, 2), (2, 3), (3, 4), (4, 5), (5, 6), (6, 7)]\n",
      "(0, 1)\n",
      "(1, 2)\n"
     ]
    }
   ],
   "execution_count": 10
  },
  {
   "metadata": {
    "ExecuteTime": {
     "end_time": "2025-07-30T19:41:37.317704Z",
     "start_time": "2025-07-30T19:41:37.313040Z"
    }
   },
   "cell_type": "code",
   "source": [
    "sell={1,2,3,4,5,3,3,6,7,8,0,45}\n",
    "print(sell)\n",
    "d=len(sell)#length of dict\n",
    "print(d)"
   ],
   "id": "e00c986f5cbb450e",
   "outputs": [
    {
     "name": "stdout",
     "output_type": "stream",
     "text": [
      "{0, 1, 2, 3, 4, 5, 6, 7, 8, 45}\n",
      "10\n"
     ]
    }
   ],
   "execution_count": 11
  },
  {
   "metadata": {
    "ExecuteTime": {
     "end_time": "2025-07-30T19:41:37.334732Z",
     "start_time": "2025-07-30T19:41:37.330978Z"
    }
   },
   "cell_type": "code",
   "source": [
    "'''max value of item in dic/set'''\n",
    "x=max(sell)\n",
    "print(x)"
   ],
   "id": "56b3d571d5b1b9a3",
   "outputs": [
    {
     "name": "stdout",
     "output_type": "stream",
     "text": [
      "45\n"
     ]
    }
   ],
   "execution_count": 12
  },
  {
   "metadata": {
    "ExecuteTime": {
     "end_time": "2025-07-30T19:42:13.875179Z",
     "start_time": "2025-07-30T19:42:13.864308Z"
    }
   },
   "cell_type": "code",
   "source": [
    "'''min value of item in dic/set'''\n",
    "y=min(sell)\n",
    "print(y)"
   ],
   "id": "2dad630f97ead3e5",
   "outputs": [
    {
     "name": "stdout",
     "output_type": "stream",
     "text": [
      "0\n"
     ]
    }
   ],
   "execution_count": 14
  },
  {
   "metadata": {
    "ExecuteTime": {
     "end_time": "2025-07-30T19:42:12.388662Z",
     "start_time": "2025-07-30T19:42:12.379937Z"
    }
   },
   "cell_type": "code",
   "source": [
    "'''create list according to order remove duplicate'''\n",
    "z=sorted(sell)\n",
    "print(z)"
   ],
   "id": "d955995dcb6dd651",
   "outputs": [
    {
     "name": "stdout",
     "output_type": "stream",
     "text": [
      "[0, 1, 2, 3, 4, 5, 6, 7, 8, 45]\n"
     ]
    }
   ],
   "execution_count": 13
  },
  {
   "metadata": {
    "ExecuteTime": {
     "end_time": "2025-07-30T19:43:00.682947Z",
     "start_time": "2025-07-30T19:43:00.672848Z"
    }
   },
   "cell_type": "code",
   "source": [
    "''' sum of item in dic/set'''\n",
    "q=sum(sell)\n",
    "print(q)"
   ],
   "id": "c8eebe5ba7069c6b",
   "outputs": [
    {
     "name": "stdout",
     "output_type": "stream",
     "text": [
      "81\n"
     ]
    }
   ],
   "execution_count": 16
  }
 ],
 "metadata": {},
 "nbformat": 4,
 "nbformat_minor": 5
}
