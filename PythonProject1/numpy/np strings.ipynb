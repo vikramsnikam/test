{
 "cells": [
  {
   "cell_type": "code",
   "id": "initial_id",
   "metadata": {
    "collapsed": true,
    "ExecuteTime": {
     "end_time": "2025-08-03T10:31:13.361197Z",
     "start_time": "2025-08-03T10:31:13.352188Z"
    }
   },
   "source": [
    "import numpy as np\n",
    "'''multiply'''\n",
    "# define array with three string elements\n",
    "a=np.array(['A', 'B', 'C'])\n",
    "\n",
    "#  repeat each element in array1 two times\n",
    "result = np.char.multiply(a, 2)\n",
    "\n",
    "print(result)\n",
    "\n",
    "# Output: ['AA' 'BB' 'CC']\n"
   ],
   "outputs": [
    {
     "name": "stdout",
     "output_type": "stream",
     "text": [
      "['AA' 'BB' 'CC']\n"
     ]
    }
   ],
   "execution_count": 2
  },
  {
   "metadata": {
    "ExecuteTime": {
     "end_time": "2025-08-03T10:33:07.637383Z",
     "start_time": "2025-08-03T10:33:07.623069Z"
    }
   },
   "cell_type": "code",
   "source": [
    "'''capitalize'''\n",
    "# define an array with three string elements\n",
    "b=np.array(['eric', 'paul', 'sean'])\n",
    "# capitalize the first letter of each string in array1\n",
    "result = np.char.capitalize(b)\n",
    "\n",
    "print(result)\n",
    "\n",
    "# Output: ['Eric' 'Paul' 'Sean']"
   ],
   "id": "2720e1d2f779278f",
   "outputs": [
    {
     "name": "stdout",
     "output_type": "stream",
     "text": [
      "['Eric' 'Paul' 'Sean']\n"
     ]
    }
   ],
   "execution_count": 4
  },
  {
   "metadata": {
    "ExecuteTime": {
     "end_time": "2025-08-03T10:35:49.531979Z",
     "start_time": "2025-08-03T10:35:49.522582Z"
    }
   },
   "cell_type": "code",
   "source": [
    "'''uppercase/lowercase'''\n",
    "c=np.array(['Ajay', 'Bimal', 'Cody'])\n",
    "r1 = np.char.upper(c)\n",
    "print(r1)\n",
    "r2 = np.char.lower(c)\n",
    "print(r2)"
   ],
   "id": "d63a30a317cf5b70",
   "outputs": [
    {
     "name": "stdout",
     "output_type": "stream",
     "text": [
      "['AJAY' 'BIMAL' 'CODY']\n",
      "['ajay' 'bimal' 'cody']\n"
     ]
    }
   ],
   "execution_count": 6
  },
  {
   "metadata": {
    "ExecuteTime": {
     "end_time": "2025-08-03T10:36:58.701813Z",
     "start_time": "2025-08-03T10:36:58.693887Z"
    }
   },
   "cell_type": "code",
   "source": [
    "'''add'''\n",
    "a1 = np.array(['iPhone ', 'price'])\n",
    "a2 = np.array(['15', '$900'])\n",
    "# perform element-wise array string concatenation\n",
    "result = np.char.add(a1, a2)\n",
    "print(result)"
   ],
   "id": "215d387cda9275ac",
   "outputs": [
    {
     "name": "stdout",
     "output_type": "stream",
     "text": [
      "['iPhone 15' 'price$900']\n"
     ]
    }
   ],
   "execution_count": 8
  },
  {
   "metadata": {
    "ExecuteTime": {
     "end_time": "2025-08-03T10:39:23.278871Z",
     "start_time": "2025-08-03T10:39:23.267044Z"
    }
   },
   "cell_type": "code",
   "source": [
    "'''join'''\n",
    "# create an array of strings\n",
    "array1 = np.array(['hello', 'world'])\n",
    "\n",
    "# join the strings in the array using a dash as the delimiter\n",
    "r1 = np.char.join('-', array1)\n",
    "print(r1)\n",
    "r2 = np.char.join('*', array1)\n",
    "print(r2)\n",
    "#out put depend on letter within comma"
   ],
   "id": "73b822c6de872768",
   "outputs": [
    {
     "name": "stdout",
     "output_type": "stream",
     "text": [
      "['h-e-l-l-o' 'w-o-r-l-d']\n",
      "['h*e*l*l*o' 'w*o*r*l*d']\n"
     ]
    }
   ],
   "execution_count": 10
  },
  {
   "metadata": {
    "ExecuteTime": {
     "end_time": "2025-08-03T10:40:14.321690Z",
     "start_time": "2025-08-03T10:40:14.309820Z"
    }
   },
   "cell_type": "code",
   "source": [
    "'''equal'''\n",
    "# create two arrays of strings\n",
    "array1 = np.array(['C', 'Python', 'Swift'])\n",
    "array2 = np.array(['C++', 'Python', 'Java'])\n",
    "\n",
    "# check if each element of the arrays is equal\n",
    "result = np.char.equal(array1, array2)\n",
    "\n",
    "print(result)\n",
    "\n",
    "# Output: [False True False]"
   ],
   "id": "688403e576e9bba9",
   "outputs": [
    {
     "name": "stdout",
     "output_type": "stream",
     "text": [
      "[False  True False]\n"
     ]
    }
   ],
   "execution_count": 11
  }
 ],
 "metadata": {
  "kernelspec": {
   "display_name": "Python 3",
   "language": "python",
   "name": "python3"
  },
  "language_info": {
   "codemirror_mode": {
    "name": "ipython",
    "version": 2
   },
   "file_extension": ".py",
   "mimetype": "text/x-python",
   "name": "python",
   "nbconvert_exporter": "python",
   "pygments_lexer": "ipython2",
   "version": "2.7.6"
  }
 },
 "nbformat": 4,
 "nbformat_minor": 5
}
