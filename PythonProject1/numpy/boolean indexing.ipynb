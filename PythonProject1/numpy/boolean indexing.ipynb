{
 "cells": [
  {
   "cell_type": "code",
   "id": "6e9b13c770e8fc09",
   "metadata": {
    "ExecuteTime": {
     "end_time": "2025-08-04T07:48:07.633301Z",
     "start_time": "2025-08-04T07:48:07.623527Z"
    }
   },
   "source": [
    "import numpy as np\n",
    "a= np.array([12, 24, 16, 21, 32, 29, 7, 15])\n",
    "r1=a>20\n",
    "print(r1)\n",
    "r2=a[r1]\n",
    "print(r2)"
   ],
   "outputs": [
    {
     "name": "stdout",
     "output_type": "stream",
     "text": [
      "[False  True False  True  True  True False False]\n",
      "[24 21 32 29]\n"
     ]
    }
   ],
   "execution_count": 10
  },
  {
   "metadata": {
    "ExecuteTime": {
     "end_time": "2025-08-04T07:46:01.466463Z",
     "start_time": "2025-08-04T07:46:01.444686Z"
    }
   },
   "cell_type": "code",
   "source": [
    "b = np.array([1, 2, 3, 4, 5, 6, 7, 8, 9, 10])\n",
    "b1 = b% 2 != 0\n",
    "result =b[b1]\n",
    "print(result)"
   ],
   "id": "initial_id",
   "outputs": [
    {
     "name": "stdout",
     "output_type": "stream",
     "text": [
      "[1 3 5 7 9]\n"
     ]
    }
   ],
   "execution_count": 8
  },
  {
   "metadata": {
    "ExecuteTime": {
     "end_time": "2025-08-04T07:48:54.447711Z",
     "start_time": "2025-08-04T07:48:54.434845Z"
    }
   },
   "cell_type": "code",
   "source": [
    "c = np.array([1, 2, 4, 9, 11, 16, 18, 22, 26, 31, 33, 47, 51, 52])\n",
    "c1= (c < 10) | (c> 40)\n",
    "result = c[c1]\n",
    "print(result)"
   ],
   "id": "32538c6e0a5189bf",
   "outputs": [
    {
     "name": "stdout",
     "output_type": "stream",
     "text": [
      "[ 1  2  4  9 47 51 52]\n"
     ]
    }
   ],
   "execution_count": 11
  },
  {
   "metadata": {
    "ExecuteTime": {
     "end_time": "2025-08-04T07:52:17.527669Z",
     "start_time": "2025-08-04T07:52:17.518250Z"
    }
   },
   "cell_type": "code",
   "source": [
    "d = np.array([1, 2, 3, 4, 5, 6, 7, 8, 9, 10])\n",
    "d1= d.copy()\n",
    "d1[d % 2 == 0] = 0\n",
    "print(d1)"
   ],
   "id": "65ccc55a2d6cf59d",
   "outputs": [
    {
     "name": "stdout",
     "output_type": "stream",
     "text": [
      "[1 0 3 0 5 0 7 0 9 0]\n"
     ]
    }
   ],
   "execution_count": 17
  },
  {
   "metadata": {},
   "cell_type": "code",
   "outputs": [],
   "execution_count": null,
   "source": "",
   "id": "f5517f3e9b9bd7ff"
  },
  {
   "metadata": {
    "ExecuteTime": {
     "end_time": "2025-08-04T07:54:23.362640Z",
     "start_time": "2025-08-04T07:54:23.349116Z"
    }
   },
   "cell_type": "code",
   "source": [
    "x = np.array([[1, 7, 9],\n",
    "                    [14, 19, 21],\n",
    "                    [25, 29, 35]])\n",
    "\n",
    "# create a boolean mask based on the condition\n",
    "# that elements are greater than 9\n",
    "x1 = x > 9\n",
    "print(x1)\n",
    "r1 = x[x1]\n",
    "print(r1)"
   ],
   "id": "55816da8bb28b9e7",
   "outputs": [
    {
     "name": "stdout",
     "output_type": "stream",
     "text": [
      "[[False False False]\n",
      " [ True  True  True]\n",
      " [ True  True  True]]\n",
      "[14 19 21 25 29 35]\n"
     ]
    }
   ],
   "execution_count": 20
  }
 ],
 "metadata": {
  "kernelspec": {
   "display_name": "Python 3",
   "language": "python",
   "name": "python3"
  },
  "language_info": {
   "codemirror_mode": {
    "name": "ipython",
    "version": 2
   },
   "file_extension": ".py",
   "mimetype": "text/x-python",
   "name": "python",
   "nbconvert_exporter": "python",
   "pygments_lexer": "ipython2",
   "version": "2.7.6"
  }
 },
 "nbformat": 4,
 "nbformat_minor": 5
}
