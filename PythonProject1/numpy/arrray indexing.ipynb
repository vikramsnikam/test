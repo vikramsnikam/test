{
 "cells": [
  {
   "cell_type": "code",
   "id": "initial_id",
   "metadata": {
    "collapsed": true,
    "ExecuteTime": {
     "end_time": "2025-08-02T11:13:24.260732Z",
     "start_time": "2025-08-02T11:13:24.252378Z"
    }
   },
   "source": [
    "import numpy as np\n",
    "# indexing start from 0 and slice,row,column\n",
    "c=np.array([[[1,2,3,4],\n",
    "         [5,6,7,8],\n",
    "         [9,10,11,12]],\n",
    "\n",
    "          [[13,14,15,16],\n",
    "           [17,18,19,20],\n",
    "           [21,22,23,24]]])\n",
    "\n",
    "print(c[0][0][3:])\n",
    "\n"
   ],
   "outputs": [
    {
     "name": "stdout",
     "output_type": "stream",
     "text": [
      "[4]\n"
     ]
    }
   ],
   "execution_count": 20
  },
  {
   "metadata": {
    "ExecuteTime": {
     "end_time": "2025-08-02T11:02:38.470777Z",
     "start_time": "2025-08-02T11:02:38.405714Z"
    }
   },
   "cell_type": "code",
   "source": [
    "'''np slicing'''\n",
    "\n",
    "# create a 2D array\n",
    "array1 = np.array([[1, 3, 5, 7],\n",
    "                      [9, 11, 13, 15],\n",
    "                      [2, 4, 6, 8]])\n",
    "\n",
    "\n",
    "# slice the array to get the first two rows and columns\n",
    "subarray1 = array1[:2, :2]\n",
    "\n",
    "# slice the array to get the last two rows and columns\n",
    "subarray2 = array1[1:3, 2:4]\n",
    "\n",
    "# print the subarrays\n",
    "print(\"First Two Rows and Columns: \\n\",subarray1)\n",
    "print(\"Last two Rows and Columns: \\n\",subarray2)"
   ],
   "id": "40f7442539a8394f",
   "outputs": [
    {
     "name": "stdout",
     "output_type": "stream",
     "text": [
      "First Two Rows and Columns: \n",
      " [[ 1  3]\n",
      " [ 9 11]]\n",
      "Last two Rows and Columns: \n",
      " [[13 15]\n",
      " [ 6  8]]\n"
     ]
    }
   ],
   "execution_count": 7
  }
 ],
 "metadata": {
  "kernelspec": {
   "display_name": "Python 3",
   "language": "python",
   "name": "python3"
  },
  "language_info": {
   "codemirror_mode": {
    "name": "ipython",
    "version": 2
   },
   "file_extension": ".py",
   "mimetype": "text/x-python",
   "name": "python",
   "nbconvert_exporter": "python",
   "pygments_lexer": "ipython2",
   "version": "2.7.6"
  }
 },
 "nbformat": 4,
 "nbformat_minor": 5
}
