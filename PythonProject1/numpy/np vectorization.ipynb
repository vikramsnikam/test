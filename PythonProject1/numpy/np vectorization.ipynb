{
 "cells": [
  {
   "cell_type": "code",
   "id": "initial_id",
   "metadata": {
    "collapsed": true,
    "ExecuteTime": {
     "end_time": "2025-08-04T09:44:41.308819Z",
     "start_time": "2025-08-04T09:44:41.297691Z"
    }
   },
   "source": [
    "import numpy as np\n",
    "'''gor 1d'''\n",
    "a=np.array([1,2,3])\n",
    "b=a+10\n",
    "print(b)\n"
   ],
   "outputs": [
    {
     "name": "stdout",
     "output_type": "stream",
     "text": [
      "[11 12 13]\n"
     ]
    }
   ],
   "execution_count": 3
  },
  {
   "metadata": {
    "ExecuteTime": {
     "end_time": "2025-08-04T09:45:15.901812Z",
     "start_time": "2025-08-04T09:45:15.896438Z"
    }
   },
   "cell_type": "code",
   "source": [
    "'''for 2d'''\n",
    "a1=np.array([[1,2,3],[4,5,6]])\n",
    "a2=np.array([[7,8,9],[10,11,12]])\n",
    "r1=a1+a2\n",
    "print(r1)"
   ],
   "id": "2c4209188c1145ba",
   "outputs": [
    {
     "name": "stdout",
     "output_type": "stream",
     "text": [
      "[[ 8 10 12]\n",
      " [14 16 18]]\n"
     ]
    }
   ],
   "execution_count": 5
  },
  {
   "metadata": {
    "ExecuteTime": {
     "end_time": "2025-08-04T09:59:29.384723Z",
     "start_time": "2025-08-04T09:59:29.368679Z"
    }
   },
   "cell_type": "code",
   "source": [
    "'''numpy loop'''\n",
    "'''using python list'''\n",
    "import time\n",
    "start = time.time()\n",
    "print('start time', start)\n",
    "a = [1, 2, 3, 4, 5]\n",
    "for i in range(len(a)):\n",
    "    a[i] += 10\n",
    "    print(a)\n",
    "\n",
    "print('outside loop')\n",
    "print(a)\n",
    "\n",
    "end = time.time()\n",
    "print('end time',end)\n",
    "\n",
    "print(\"For loop time:\", end - start)"
   ],
   "id": "7d22de8dd6404400",
   "outputs": [
    {
     "name": "stdout",
     "output_type": "stream",
     "text": [
      "start time 1754301569.3777914\n",
      "[11, 2, 3, 4, 5]\n",
      "[11, 12, 3, 4, 5]\n",
      "[11, 12, 13, 4, 5]\n",
      "[11, 12, 13, 14, 5]\n",
      "[11, 12, 13, 14, 15]\n",
      "outside loop\n",
      "[11, 12, 13, 14, 15]\n",
      "end time 1754301569.3798208\n",
      "For loop time: 0.0020294189453125\n"
     ]
    }
   ],
   "execution_count": 13
  },
  {
   "metadata": {
    "ExecuteTime": {
     "end_time": "2025-08-04T10:02:38.828657Z",
     "start_time": "2025-08-04T10:02:38.819020Z"
    }
   },
   "cell_type": "code",
   "source": [
    "'''using numpy'''\n",
    "start = time.time()\n",
    "print('start time', start)\n",
    "a1 = np.array([1, 2, 3, 4, 5 ])\n",
    "result = a1 + 10\n",
    "end = time.time()\n",
    "print('end time',end)\n",
    "\n",
    "print(\"Vectorization time:\", end - start)"
   ],
   "id": "e2a761992b7383e6",
   "outputs": [
    {
     "name": "stdout",
     "output_type": "stream",
     "text": [
      "start time 1754301758.8260868\n",
      "end time 1754301758.826586\n",
      "Vectorization time: 0.0004992485046386719\n"
     ]
    }
   ],
   "execution_count": 15
  },
  {
   "metadata": {
    "ExecuteTime": {
     "end_time": "2025-08-04T10:11:15.363914Z",
     "start_time": "2025-08-04T10:11:15.342552Z"
    }
   },
   "cell_type": "code",
   "source": [
    "print('numpy function ')\n",
    "a = np.array([-1, 2, 0, 4, 5])\n",
    "def square(x):\n",
    "    if x < 0:\n",
    "        return 0\n",
    "    else:\n",
    "         return x**2\n",
    "r1=np.vectorize(square)\n",
    "result=r1(a)\n",
    "print(result)\n"
   ],
   "id": "93b9678a15f2b410",
   "outputs": [
    {
     "name": "stdout",
     "output_type": "stream",
     "text": [
      "numpy function \n",
      "[ 0  4  0 16 25]\n"
     ]
    }
   ],
   "execution_count": 28
  }
 ],
 "metadata": {
  "kernelspec": {
   "display_name": "Python 3",
   "language": "python",
   "name": "python3"
  },
  "language_info": {
   "codemirror_mode": {
    "name": "ipython",
    "version": 2
   },
   "file_extension": ".py",
   "mimetype": "text/x-python",
   "name": "python",
   "nbconvert_exporter": "python",
   "pygments_lexer": "ipython2",
   "version": "2.7.6"
  }
 },
 "nbformat": 4,
 "nbformat_minor": 5
}
