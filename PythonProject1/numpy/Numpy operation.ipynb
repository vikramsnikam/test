{
 "cells": [
  {
   "cell_type": "code",
   "id": "initial_id",
   "metadata": {
    "collapsed": true,
    "ExecuteTime": {
     "end_time": "2025-08-02T11:33:17.466052Z",
     "start_time": "2025-08-02T11:33:17.457055Z"
    }
   },
   "source": [
    "import numpy as np\n",
    "from sympy.codegen.cxxnodes import using\n",
    "\n",
    "'''addition'''\n",
    "a=np.array([1,2,3])\n",
    "b=np.array([4,5,6])\n",
    "print(a+b)\n",
    "ab=np.add(a,b)\n",
    "print(ab)"
   ],
   "outputs": [
    {
     "name": "stdout",
     "output_type": "stream",
     "text": [
      "[5 7 9]\n",
      "[5 7 9]\n"
     ]
    }
   ],
   "execution_count": 5
  },
  {
   "metadata": {
    "ExecuteTime": {
     "end_time": "2025-08-02T11:34:23.862951Z",
     "start_time": "2025-08-02T11:34:23.853981Z"
    }
   },
   "cell_type": "code",
   "source": [
    "'''subtraction '''\n",
    "print(a-b)\n",
    "a_b=np.subtract(b,a)\n",
    "print(a_b)"
   ],
   "id": "1fa5f9b37d60634",
   "outputs": [
    {
     "name": "stdout",
     "output_type": "stream",
     "text": [
      "[-3 -3 -3]\n",
      "[3 3 3]\n"
     ]
    }
   ],
   "execution_count": 8
  },
  {
   "metadata": {
    "ExecuteTime": {
     "end_time": "2025-08-02T11:35:35.377307Z",
     "start_time": "2025-08-02T11:35:35.370087Z"
    }
   },
   "cell_type": "code",
   "source": [
    "'''multiplication'''\n",
    "print(a*b)\n",
    "axb=np.multiply(a,b)\n",
    "print(axb)"
   ],
   "id": "d054fe92e0363ba8",
   "outputs": [
    {
     "name": "stdout",
     "output_type": "stream",
     "text": [
      "[ 4 10 18]\n",
      "[ 4 10 18]\n"
     ]
    }
   ],
   "execution_count": 10
  },
  {
   "metadata": {
    "ExecuteTime": {
     "end_time": "2025-08-02T11:36:37.115168Z",
     "start_time": "2025-08-02T11:36:37.103247Z"
    }
   },
   "cell_type": "code",
   "source": [
    "'''division'''\n",
    "print(a/b)\n",
    "adb=np.divide(b,a)\n",
    "print(adb)"
   ],
   "id": "f0572ec3ca6582b5",
   "outputs": [
    {
     "name": "stdout",
     "output_type": "stream",
     "text": [
      "[0.25 0.4  0.5 ]\n",
      "[4.  2.5 2. ]\n"
     ]
    }
   ],
   "execution_count": 12
  },
  {
   "metadata": {
    "ExecuteTime": {
     "end_time": "2025-08-02T11:43:21.903080Z",
     "start_time": "2025-08-02T11:43:21.894215Z"
    }
   },
   "cell_type": "code",
   "source": [
    "'''exponentiation'''\n",
    "print(a**b)\n",
    "aabb=np.power(a,b)\n",
    "print(aabb)"
   ],
   "id": "4b9c926f979bfcdb",
   "outputs": [
    {
     "name": "stdout",
     "output_type": "stream",
     "text": [
      "[  1  32 729]\n",
      "[  1  32 729]\n"
     ]
    }
   ],
   "execution_count": 17
  },
  {
   "metadata": {
    "ExecuteTime": {
     "end_time": "2025-08-02T11:44:20.962578Z",
     "start_time": "2025-08-02T11:44:20.954142Z"
    }
   },
   "cell_type": "code",
   "source": [
    "'''modulus'''\n",
    "print(a%b)\n",
    "amb =np.mod(a,b)\n",
    "print(amb)"
   ],
   "id": "da168ab2361df76a",
   "outputs": [
    {
     "name": "stdout",
     "output_type": "stream",
     "text": [
      "[1 2 3]\n",
      "[1 2 3]\n"
     ]
    }
   ],
   "execution_count": 19
  },
  {
   "metadata": {
    "ExecuteTime": {
     "end_time": "2025-08-02T11:46:43.857889Z",
     "start_time": "2025-08-02T11:46:43.847821Z"
    }
   },
   "cell_type": "code",
   "source": [
    "'''mean'''\n",
    "x=np.array([19,27,38,44,56,78])\n",
    "mean=np.mean(x)\n",
    "print(mean)\n"
   ],
   "id": "d9a349ab5733da4",
   "outputs": [
    {
     "name": "stdout",
     "output_type": "stream",
     "text": [
      "43.666666666666664\n"
     ]
    }
   ],
   "execution_count": 22
  },
  {
   "metadata": {
    "ExecuteTime": {
     "end_time": "2025-08-02T11:53:51.082681Z",
     "start_time": "2025-08-02T11:53:51.060384Z"
    }
   },
   "cell_type": "code",
   "source": [
    "'''median'''\n",
    "median=np.median(x)\n",
    "print(median)\n"
   ],
   "id": "f8b3052c91e286c4",
   "outputs": [
    {
     "name": "stdout",
     "output_type": "stream",
     "text": [
      "41.0\n"
     ]
    }
   ],
   "execution_count": 24
  },
  {
   "metadata": {
    "ExecuteTime": {
     "end_time": "2025-08-02T11:57:31.395976Z",
     "start_time": "2025-08-02T11:57:31.330130Z"
    }
   },
   "cell_type": "code",
   "source": [
    "'''transpose'''\n",
    "originalArray = np.array([[1, 2, 3], [4, 5, 6], [7, 8, 9]])\n",
    "\n",
    "# if axes argument is skipped, the shape of array is reversed\n",
    "transposedArray = np.transpose(originalArray)\n",
    "\n",
    "print(transposedArray)"
   ],
   "id": "352fc6bc5df8ec7",
   "outputs": [
    {
     "name": "stdout",
     "output_type": "stream",
     "text": [
      "[[1 4 7]\n",
      " [2 5 8]\n",
      " [3 6 9]]\n"
     ]
    }
   ],
   "execution_count": 25
  }
 ],
 "metadata": {
  "kernelspec": {
   "display_name": "Python 3",
   "language": "python",
   "name": "python3"
  },
  "language_info": {
   "codemirror_mode": {
    "name": "ipython",
    "version": 2
   },
   "file_extension": ".py",
   "mimetype": "text/x-python",
   "name": "python",
   "nbconvert_exporter": "python",
   "pygments_lexer": "ipython2",
   "version": "2.7.6"
  }
 },
 "nbformat": 4,
 "nbformat_minor": 5
}
