{
 "cells": [
  {
   "cell_type": "code",
   "id": "54ec7b3864dcdd9d",
   "metadata": {
    "ExecuteTime": {
     "end_time": "2025-08-03T09:25:45.210272Z",
     "start_time": "2025-08-03T09:25:44.410176Z"
    }
   },
   "source": [
    "import numpy as np\n",
    "\"trignometry\"\n",
    "angles =np.array([30,60,90])\n",
    "print(angles)\n",
    "sin = np.sin(angles)\n",
    "cos = np.cos(angles)\n",
    "tan = np.tan(angles)\n",
    "print(sin)\n",
    "print(cos)\n",
    "print(tan)\n",
    "# we need to convert into radian to get std value"
   ],
   "outputs": [
    {
     "name": "stdout",
     "output_type": "stream",
     "text": [
      "[30 60 90]\n",
      "[-0.98803162 -0.30481062  0.89399666]\n",
      "[ 0.15425145 -0.95241298 -0.44807362]\n",
      "[-6.4053312   0.32004039 -1.99520041]\n"
     ]
    }
   ],
   "execution_count": 2
  },
  {
   "metadata": {
    "ExecuteTime": {
     "end_time": "2025-08-03T09:25:45.229349Z",
     "start_time": "2025-08-03T09:25:45.225562Z"
    }
   },
   "cell_type": "code",
   "source": [
    "ag=1.570796\n",
    "a1=np.degrees(ag)\n",
    "print(a1)"
   ],
   "id": "e9210a693344d695",
   "outputs": [
    {
     "name": "stdout",
     "output_type": "stream",
     "text": [
      "89.99998127603166\n"
     ]
    }
   ],
   "execution_count": 3
  },
  {
   "metadata": {
    "ExecuteTime": {
     "end_time": "2025-08-03T09:25:45.255082Z",
     "start_time": "2025-08-03T09:25:45.249840Z"
    }
   },
   "cell_type": "code",
   "source": [
    "'''round function'''\n",
    "numbers = np.array([1.23456, 2.34567, 3.45678, 4.56789])\n",
    "\n",
    "# round the array to two decimal places\n",
    "rounded_array = np.round(numbers, 2)\n",
    "\n",
    "print(rounded_array)\n",
    "\n",
    "# Output: [1.23 2.35 3.46 4.57]\n"
   ],
   "id": "initial_id",
   "outputs": [
    {
     "name": "stdout",
     "output_type": "stream",
     "text": [
      "[1.23 2.35 3.46 4.57]\n"
     ]
    }
   ],
   "execution_count": 4
  },
  {
   "metadata": {
    "ExecuteTime": {
     "end_time": "2025-08-03T09:25:45.299877Z",
     "start_time": "2025-08-03T09:25:45.295145Z"
    }
   },
   "cell_type": "code",
   "source": [
    "'''floor function'''\n",
    "\n",
    "array1 = np.array([1.23456, 2.34567, 3.45678, 4.56789])\n",
    "\n",
    "print(\"Array after floor():\", np.floor(array1))\n",
    "\n",
    "#convert to nearest integer\n",
    "\n",
    "\n",
    "print(\"Array after ceil():\", np.ceil(array1))"
   ],
   "id": "cb449903d0808625",
   "outputs": [
    {
     "name": "stdout",
     "output_type": "stream",
     "text": [
      "Array after floor(): [1. 2. 3. 4.]\n",
      "Array after ceil(): [2. 3. 4. 5.]\n"
     ]
    }
   ],
   "execution_count": 5
  },
  {
   "metadata": {
    "ExecuteTime": {
     "end_time": "2025-08-03T09:27:54.811424Z",
     "start_time": "2025-08-03T09:27:54.802047Z"
    }
   },
   "cell_type": "code",
   "source": [
    "print('numpy constant')\n",
    "'''pi'''\n",
    "y=np.pi\n",
    "print(y)\n",
    "radius=2\n",
    "circumference=2*np.pi*radius\n",
    "print(circumference)\n",
    "\n"
   ],
   "id": "9ff0bd66de9b63b8",
   "outputs": [
    {
     "name": "stdout",
     "output_type": "stream",
     "text": [
      "numpy constant\n",
      "3.141592653589793\n",
      "12.566370614359172\n"
     ]
    }
   ],
   "execution_count": 9
  },
  {
   "metadata": {
    "ExecuteTime": {
     "end_time": "2025-08-03T10:00:24.822953Z",
     "start_time": "2025-08-03T10:00:24.801163Z"
    }
   },
   "cell_type": "code",
   "source": [
    "x=np.e\n",
    "print(x)\n",
    "'expansion bu e '\n",
    "z=2\n",
    "l=np.exp(z)\n",
    "print(l)\n",
    "# z can be any number\n"
   ],
   "id": "24feff40e034f8b2",
   "outputs": [
    {
     "name": "stdout",
     "output_type": "stream",
     "text": [
      "2.718281828459045\n",
      "7.38905609893065\n"
     ]
    }
   ],
   "execution_count": 12
  },
  {
   "metadata": {
    "ExecuteTime": {
     "end_time": "2025-08-03T10:14:50.434409Z",
     "start_time": "2025-08-03T10:14:50.412674Z"
    }
   },
   "cell_type": "code",
   "source": [
    "print('numpy stat')\n",
    "'''2d median'''\n",
    "b=np.array([[1,2,3,4,5],\n",
    "                [6,7,8,9,10]])\n",
    "print(np.median(b))# overall median\n",
    "r1=np.median(b,axis=0)\n",
    "print(r1)#verticle axis median\n",
    "r2=np.median(b,axis=1)\n",
    "print(r2)# horizontal axis median\n"
   ],
   "id": "d4657afc31cfef5c",
   "outputs": [
    {
     "name": "stdout",
     "output_type": "stream",
     "text": [
      "numpy stat\n",
      "5.5\n",
      "[3.5 4.5 5.5 6.5 7.5]\n",
      "[3. 8.]\n"
     ]
    }
   ],
   "execution_count": 22
  },
  {
   "metadata": {
    "ExecuteTime": {
     "end_time": "2025-08-03T10:15:15.863304Z",
     "start_time": "2025-08-03T10:15:15.835791Z"
    }
   },
   "cell_type": "code",
   "source": [
    "'''Mean'''\n",
    "a=np.array([1,2,3,4,5])\n",
    "a1=np.mean(a)\n",
    "print(a1)\n",
    "\n",
    "'''2d mean'''\n",
    "b=np.array([[1,2,3,4,],\n",
    "                [6,7,8,9,]])\n",
    "b1=np.mean(b,axis=0)\n",
    "print(b1)\n",
    "b2=np.mean(b,axis=1)\n",
    "print(b2)\n",
    "b3=np.mean(b)\n",
    "print(b3)"
   ],
   "id": "8d0b44bfe84625c2",
   "outputs": [
    {
     "name": "stdout",
     "output_type": "stream",
     "text": [
      "3.0\n",
      "[3.5 4.5 5.5 6.5]\n",
      "[2.5 7.5]\n",
      "5.0\n"
     ]
    }
   ],
   "execution_count": 23
  },
  {
   "metadata": {
    "ExecuteTime": {
     "end_time": "2025-08-03T10:27:33.461596Z",
     "start_time": "2025-08-03T10:27:33.433287Z"
    }
   },
   "cell_type": "code",
   "source": [
    "'''np percentile'''\n",
    "az=np.array([0,1,19,26,39,41,55,78])\n",
    "az1=np.percentile(az,100)\n",
    "print(az1)\n",
    "az2=np.percentile(az,90)\n",
    "print(az2)\n",
    "az3=np.percentile(az,50)\n",
    "print(az3)\n"
   ],
   "id": "ba5eed12f220f513",
   "outputs": [
    {
     "name": "stdout",
     "output_type": "stream",
     "text": [
      "78.0\n",
      "61.9\n",
      "32.5\n"
     ]
    }
   ],
   "execution_count": 30
  },
  {
   "metadata": {
    "ExecuteTime": {
     "end_time": "2025-08-03T10:28:02.627342Z",
     "start_time": "2025-08-03T10:28:02.618870Z"
    }
   },
   "cell_type": "code",
   "source": [
    "'''np min and max'''\n",
    "az=np.array([0,1,19,26,39,41,55,78])\n",
    "az1=np.min(az)\n",
    "print(az1)\n",
    "az2=np.max(az)\n",
    "print(az2)"
   ],
   "id": "7963065cc50f0c84",
   "outputs": [
    {
     "name": "stdout",
     "output_type": "stream",
     "text": [
      "0\n",
      "78\n"
     ]
    }
   ],
   "execution_count": 31
  }
 ],
 "metadata": {
  "kernelspec": {
   "display_name": "Python 3",
   "language": "python",
   "name": "python3"
  },
  "language_info": {
   "codemirror_mode": {
    "name": "ipython",
    "version": 2
   },
   "file_extension": ".py",
   "mimetype": "text/x-python",
   "name": "python",
   "nbconvert_exporter": "python",
   "pygments_lexer": "ipython2",
   "version": "2.7.6"
  }
 },
 "nbformat": 4,
 "nbformat_minor": 5
}
