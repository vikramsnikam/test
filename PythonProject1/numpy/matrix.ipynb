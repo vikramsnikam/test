{
 "cells": [
  {
   "cell_type": "code",
   "id": "initial_id",
   "metadata": {
    "collapsed": true,
    "ExecuteTime": {
     "end_time": "2025-08-03T10:49:00.593670Z",
     "start_time": "2025-08-03T10:49:00.585747Z"
    }
   },
   "source": [
    "import numpy as np\n",
    "'''np broadcasting'''\n",
    "a=np.array([1,2,3,])#1d\n",
    "b=np.array([[4],[5],[6]])#2d\n",
    "#adding array of different dimension\n",
    "#size of a1 expands to match a2 matrix style addition\n",
    "sum=a+b\n",
    "print(sum)"
   ],
   "outputs": [
    {
     "name": "stdout",
     "output_type": "stream",
     "text": [
      "[[5 6 7]\n",
      " [6 7 8]\n",
      " [7 8 9]]\n"
     ]
    }
   ],
   "execution_count": 4
  },
  {
   "metadata": {
    "ExecuteTime": {
     "end_time": "2025-08-03T10:57:33.433879Z",
     "start_time": "2025-08-03T10:57:33.425463Z"
    }
   },
   "cell_type": "code",
   "source": [
    "'''creating matrix'''\n",
    "m1=np.array([[1,2],[3,4]])#2x2 matrix\n",
    "m2=np.array([[[5,6,7],[7,8,9],[10,11,12]]])#3x3 matrix\n",
    "print('2d',m1)\n",
    "print('3d',m2)\n"
   ],
   "id": "7d6831ec2a00e08e",
   "outputs": [
    {
     "name": "stdout",
     "output_type": "stream",
     "text": [
      "2d [[1 2]\n",
      " [3 4]]\n",
      "3d [[[ 5  6  7]\n",
      "  [ 7  8  9]\n",
      "  [10 11 12]]]\n"
     ]
    }
   ],
   "execution_count": 8
  },
  {
   "metadata": {
    "ExecuteTime": {
     "end_time": "2025-08-03T11:46:35.813192Z",
     "start_time": "2025-08-03T11:46:35.801Z"
    }
   },
   "cell_type": "code",
   "source": [
    "'''matrix multiplication'''\n",
    "a1=np.array([[1,3],[5,7]])\n",
    "b1=np.array([[2,6],[4,8]])\n",
    "c1=a1*b1\n",
    "c2=np.dot(a1,b1)\n",
    "c3=np.multiply(a1,b1)\n",
    "print('normal multiplication')\n",
    "print(c3)\n",
    "print(c1)\n",
    "print('matrix multiplication')\n",
    "print(c2)"
   ],
   "id": "f842adab545f7e6c",
   "outputs": [
    {
     "name": "stdout",
     "output_type": "stream",
     "text": [
      "normal multiplication\n",
      "[[ 2 18]\n",
      " [20 56]]\n",
      "[[ 2 18]\n",
      " [20 56]]\n",
      "matrix multiplication\n",
      "[[14 30]\n",
      " [38 86]]\n"
     ]
    }
   ],
   "execution_count": 16
  },
  {
   "metadata": {
    "ExecuteTime": {
     "end_time": "2025-08-03T11:47:11.706051Z",
     "start_time": "2025-08-03T11:47:11.693676Z"
    }
   },
   "cell_type": "code",
   "source": [
    "'''transpose matrix'''\n",
    "a=np.transpose([[1,2],[3,4]])\n",
    "print(a)"
   ],
   "id": "a4c9d6a8748d6277",
   "outputs": [
    {
     "name": "stdout",
     "output_type": "stream",
     "text": [
      "[[1 3]\n",
      " [2 4]]\n"
     ]
    }
   ],
   "execution_count": 18
  },
  {
   "metadata": {
    "ExecuteTime": {
     "end_time": "2025-08-03T11:49:11.063085Z",
     "start_time": "2025-08-03T11:49:11.031179Z"
    }
   },
   "cell_type": "code",
   "source": [
    "'''inverse matrix'''\n",
    "a=np.linalg.inv([[1,2],[3,4]])\n",
    "print(a)\n"
   ],
   "id": "134c61ba8bff5a32",
   "outputs": [
    {
     "name": "stdout",
     "output_type": "stream",
     "text": [
      "[[-2.   1. ]\n",
      " [ 1.5 -0.5]]\n"
     ]
    }
   ],
   "execution_count": 20
  },
  {
   "metadata": {
    "ExecuteTime": {
     "end_time": "2025-08-03T12:07:35.692550Z",
     "start_time": "2025-08-03T12:07:35.682014Z"
    }
   },
   "cell_type": "code",
   "source": [
    "'''determinant matrix'''\n",
    "a=np.linalg.det([[1,2],[3,4]])#ad-cb i.e 1*4-2*3\n",
    "print(a)\n",
    "#3d determinant\n",
    "import numpy as np\n",
    "\n",
    "matrix1 = np.array([[1, 2, 3],\n",
    "             \t\t[4, 5, 6],\n",
    "                    [7, 8 , 11]])\n",
    "#Step-by-step using cofactor expansion (along the first row):\n",
    "#det(𝐴)=𝑎11(𝑀11)-𝑎12(𝑀12)+𝑎13(𝑀13)\n",
    "# find determinant of matrix1\n",
    "result = np.linalg.det(matrix1)\n",
    "\n",
    "\n",
    "print(result)"
   ],
   "id": "33b83b902b864e47",
   "outputs": [
    {
     "name": "stdout",
     "output_type": "stream",
     "text": [
      "-2.0000000000000004\n",
      "-6.0\n"
     ]
    }
   ],
   "execution_count": 26
  },
  {
   "metadata": {
    "ExecuteTime": {
     "end_time": "2025-08-03T12:09:11.406564Z",
     "start_time": "2025-08-03T12:09:11.380544Z"
    }
   },
   "cell_type": "code",
   "source": [
    "''''flatten matrix'''\n",
    "a1=np.array([[1,3],[5,7]])\n",
    "r1=a1.flatten()\n",
    "print(r1)\n"
   ],
   "id": "311d138e6d9617b3",
   "outputs": [
    {
     "name": "stdout",
     "output_type": "stream",
     "text": [
      "[1 3 5 7]\n"
     ]
    }
   ],
   "execution_count": 27
  }
 ],
 "metadata": {
  "kernelspec": {
   "display_name": "Python 3",
   "language": "python",
   "name": "python3"
  },
  "language_info": {
   "codemirror_mode": {
    "name": "ipython",
    "version": 2
   },
   "file_extension": ".py",
   "mimetype": "text/x-python",
   "name": "python",
   "nbconvert_exporter": "python",
   "pygments_lexer": "ipython2",
   "version": "2.7.6"
  }
 },
 "nbformat": 4,
 "nbformat_minor": 5
}
