{
 "cells": [
  {
   "metadata": {
    "ExecuteTime": {
     "end_time": "2025-08-02T10:00:20.220035Z",
     "start_time": "2025-08-02T10:00:20.170842Z"
    }
   },
   "cell_type": "code",
   "source": [
    "import numpy as np\n",
    "#for type\n",
    "a=np.array([1,2,3])\n",
    "b=np.array([[1,2,3,4,],\n",
    "                [6,7,8,9,]])\n",
    "c=np.array([[[1,2,3,4],\n",
    "         [5,6,7,8],\n",
    "         [9,10,11,12]],\n",
    "\n",
    "          [[13,14,15,16],\n",
    "           [17,18,19,20],\n",
    "           [21,22,23,24]]])\n",
    "print(a.ndim)\n",
    "print(b.ndim)\n",
    "print(c.ndim)\n"
   ],
   "id": "c395aa526e3e27a1",
   "outputs": [
    {
     "name": "stdout",
     "output_type": "stream",
     "text": [
      "1\n",
      "2\n",
      "3\n"
     ]
    }
   ],
   "execution_count": 1
  },
  {
   "cell_type": "code",
   "id": "initial_id",
   "metadata": {
    "collapsed": true,
    "ExecuteTime": {
     "end_time": "2025-08-02T10:02:27.984771Z",
     "start_time": "2025-08-02T10:02:27.978017Z"
    }
   },
   "source": [
    "#for size\n",
    "print(a.size)\n",
    "print(b.size)\n",
    "print(c.size)"
   ],
   "outputs": [
    {
     "name": "stdout",
     "output_type": "stream",
     "text": [
      "3\n",
      "8\n",
      "24\n"
     ]
    }
   ],
   "execution_count": 5
  },
  {
   "metadata": {
    "ExecuteTime": {
     "end_time": "2025-08-02T10:03:47.495017Z",
     "start_time": "2025-08-02T10:03:47.487582Z"
    }
   },
   "cell_type": "code",
   "source": [
    "#slice , row ,column by shape\n",
    "print(a.shape)\n",
    "print(b.shape)\n",
    "print(c.shape)"
   ],
   "id": "d22e1465cf320680",
   "outputs": [
    {
     "name": "stdout",
     "output_type": "stream",
     "text": [
      "(3,)\n",
      "(2, 4)\n",
      "(2, 3, 4)\n"
     ]
    }
   ],
   "execution_count": 7
  },
  {
   "metadata": {
    "ExecuteTime": {
     "end_time": "2025-08-02T10:28:13.888078Z",
     "start_time": "2025-08-02T10:28:13.879821Z"
    }
   },
   "cell_type": "code",
   "source": [
    "#size in bytes\n",
    "print(a.itemsize)\n",
    "print(b.itemsize)\n",
    "print(c.itemsize)\n",
    "'''changing item size'''\n",
    "td=a.astype(np.int32)\n",
    "print(td.itemsize)"
   ],
   "id": "7d75c17d95af40d7",
   "outputs": [
    {
     "name": "stdout",
     "output_type": "stream",
     "text": [
      "8\n",
      "8\n",
      "8\n",
      "4\n"
     ]
    }
   ],
   "execution_count": 30
  },
  {
   "metadata": {
    "ExecuteTime": {
     "end_time": "2025-08-02T10:13:33.289010Z",
     "start_time": "2025-08-02T10:13:33.285281Z"
    }
   },
   "cell_type": "code",
   "source": [
    "#memory address of data\n",
    "print(a.data)\n",
    "print(b.data)\n",
    "print(c.data)"
   ],
   "id": "ae2331f0055aa480",
   "outputs": [
    {
     "name": "stdout",
     "output_type": "stream",
     "text": [
      "<memory at 0x00000221042E5840>\n",
      "<memory at 0x0000022104899970>\n",
      "<memory at 0x000002210483B970>\n"
     ]
    }
   ],
   "execution_count": 15
  },
  {
   "metadata": {
    "ExecuteTime": {
     "end_time": "2025-08-02T10:29:28.461045Z",
     "start_time": "2025-08-02T10:29:28.451694Z"
    }
   },
   "cell_type": "code",
   "source": [
    "#saving file in np\n",
    "np.save('numpy',a)#file creation in same dictionary might need refreshing in mu computer\n",
    "np.save('demot',b)\n"
   ],
   "id": "b51a737a9c592adb",
   "outputs": [],
   "execution_count": 33
  },
  {
   "metadata": {
    "ExecuteTime": {
     "end_time": "2025-08-02T10:36:05.420996Z",
     "start_time": "2025-08-02T10:36:05.413896Z"
    }
   },
   "cell_type": "code",
   "source": [
    "#loading file created by save function\n",
    "Aa=np.load('numpy.npy')\n",
    "Bb=np.load('demot.npy')\n",
    "print(Aa)\n",
    "print(Bb)"
   ],
   "id": "d3fe827147a05ed4",
   "outputs": [
    {
     "name": "stdout",
     "output_type": "stream",
     "text": [
      "[1 2 3]\n",
      "[[1 2 3 4]\n",
      " [6 7 8 9]]\n"
     ]
    }
   ],
   "execution_count": 37
  },
  {
   "metadata": {
    "ExecuteTime": {
     "end_time": "2025-08-02T10:38:11.339346Z",
     "start_time": "2025-08-02T10:38:11.329469Z"
    }
   },
   "cell_type": "code",
   "source": [
    "'''creating file in txt format'''\n",
    "Aaa=np.savetxt('a.txt',a)\n",
    "Bbb=np.savetxt('b.txt',b)\n"
   ],
   "id": "3a18652e32f47a0c",
   "outputs": [],
   "execution_count": 39
  },
  {
   "metadata": {
    "ExecuteTime": {
     "end_time": "2025-08-02T10:40:59.144728Z",
     "start_time": "2025-08-02T10:40:59.133933Z"
    }
   },
   "cell_type": "code",
   "source": [
    "'''loading txt file'''\n",
    "k=np.loadtxt('a.txt')\n",
    "l=np.loadtxt('b.txt')\n",
    "print(k)\n",
    "print(l)"
   ],
   "id": "6fa2309886847192",
   "outputs": [
    {
     "name": "stdout",
     "output_type": "stream",
     "text": [
      "[1. 2. 3.]\n",
      "[[1. 2. 3. 4.]\n",
      " [6. 7. 8. 9.]]\n"
     ]
    }
   ],
   "execution_count": 45
  }
 ],
 "metadata": {
  "kernelspec": {
   "display_name": "Python 3",
   "language": "python",
   "name": "python3"
  },
  "language_info": {
   "codemirror_mode": {
    "name": "ipython",
    "version": 2
   },
   "file_extension": ".py",
   "mimetype": "text/x-python",
   "name": "python",
   "nbconvert_exporter": "python",
   "pygments_lexer": "ipython2",
   "version": "2.7.6"
  }
 },
 "nbformat": 4,
 "nbformat_minor": 5
}
