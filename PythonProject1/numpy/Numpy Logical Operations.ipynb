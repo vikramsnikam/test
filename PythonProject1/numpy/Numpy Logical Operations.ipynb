{
 "cells": [
  {
   "cell_type": "code",
   "id": "initial_id",
   "metadata": {
    "collapsed": true,
    "ExecuteTime": {
     "end_time": "2025-08-02T12:15:15.342871Z",
     "start_time": "2025-08-02T12:15:15.329109Z"
    }
   },
   "source": [
    "import numpy as np\n",
    "'''comparison'''\n",
    "a=np.array([1,2,3])\n",
    "b=np.array([4,5,1])\n",
    "r1=a>b\n",
    "r2=a<b\n",
    "r3=a==b\n",
    "r4=a!=b\n",
    "r5=a>=b\n",
    "r6=a<=b\n",
    "print(r1,r2,r3,r4,r5,r6)\n",
    "print('using in built function')\n",
    "v1=np.less(a,b)#a<b\n",
    "v2=np.less_equal(a,b)#a<=b\n",
    "v3=np.greater(a,b)#a>b\n",
    "v4=np.equal(a,b)#a=b\n",
    "v5=np.greater_equal(a,b)#a>=b\n",
    "v6=np.not_equal(a,b)#a!=b\n",
    "print(v1,v2,v3,v4,v5,v6,)\n"
   ],
   "outputs": [
    {
     "name": "stdout",
     "output_type": "stream",
     "text": [
      "[False False  True] [ True  True False] [False False False] [ True  True  True] [False False  True] [ True  True False]\n",
      "using in built function\n",
      "[ True  True False] [ True  True False] [False False  True] [False False False] [False False  True] [ True  True  True]\n"
     ]
    }
   ],
   "execution_count": 7
  },
  {
   "metadata": {
    "ExecuteTime": {
     "end_time": "2025-08-02T12:18:39.783398Z",
     "start_time": "2025-08-02T12:18:39.774356Z"
    }
   },
   "cell_type": "code",
   "source": [
    "'''logical operators'''\n",
    "f1=np.array([True,False,True])\n",
    "f2=np.array([False,False,True])\n",
    "print(np.logical_and(f1,f2))\n",
    "print(np.logical_or(f1,f2))\n",
    "print(np.logical_not(f1,f2))"
   ],
   "id": "42eaa48d65fb283f",
   "outputs": [
    {
     "name": "stdout",
     "output_type": "stream",
     "text": [
      "[False False  True]\n",
      "[ True False  True]\n",
      "[False  True False]\n"
     ]
    }
   ],
   "execution_count": 9
  },
  {
   "metadata": {},
   "cell_type": "code",
   "outputs": [],
   "execution_count": null,
   "source": "",
   "id": "6bfff4411d96ce90"
  }
 ],
 "metadata": {
  "kernelspec": {
   "display_name": "Python 3",
   "language": "python",
   "name": "python3"
  },
  "language_info": {
   "codemirror_mode": {
    "name": "ipython",
    "version": 2
   },
   "file_extension": ".py",
   "mimetype": "text/x-python",
   "name": "python",
   "nbconvert_exporter": "python",
   "pygments_lexer": "ipython2",
   "version": "2.7.6"
  }
 },
 "nbformat": 4,
 "nbformat_minor": 5
}
