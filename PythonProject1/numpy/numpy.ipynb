{
 "cells": [
  {
   "cell_type": "code",
   "id": "initial_id",
   "metadata": {
    "collapsed": true,
    "ExecuteTime": {
     "end_time": "2025-08-02T09:49:24.681795Z",
     "start_time": "2025-08-02T09:49:24.611520Z"
    }
   },
   "source": [
    "print('hello world')\n",
    "import numpy as np\n",
    "my_array = np.array([1,2,3,4,5])\n",
    "print(my_array)\n",
    "# can acess arrray similar to list in python\n",
    "\n",
    "print('creating new array using addition')\n",
    "#if we try this operation in list it will simply include 5\n",
    "new_array=my_array+5\n",
    "print(new_array)\n",
    "a=[1,2,3,4,5]+[10]\n",
    "print(a)\n",
    "\n",
    "\n",
    "\n",
    "\n"
   ],
   "outputs": [
    {
     "name": "stdout",
     "output_type": "stream",
     "text": [
      "hello world\n",
      "[1 2 3 4 5]\n",
      "creating new array using addition\n",
      "[ 6  7  8  9 10]\n",
      "[1, 2, 3, 4, 5, 10]\n"
     ]
    }
   ],
   "execution_count": 3
  },
  {
   "metadata": {
    "ExecuteTime": {
     "end_time": "2025-08-02T09:49:24.697614Z",
     "start_time": "2025-08-02T09:49:24.693504Z"
    }
   },
   "cell_type": "code",
   "source": "print(my_array)",
   "id": "8d685ab00b2014a8",
   "outputs": [
    {
     "name": "stdout",
     "output_type": "stream",
     "text": [
      "[1 2 3 4 5]\n"
     ]
    }
   ],
   "execution_count": 4
  },
  {
   "metadata": {
    "ExecuteTime": {
     "end_time": "2025-08-02T09:49:24.733619Z",
     "start_time": "2025-08-02T09:49:24.726279Z"
    }
   },
   "cell_type": "code",
   "source": [
    "#creating array multiple zeros\n",
    "array=np.zeros(5)\n",
    "array"
   ],
   "id": "b6aec0b358bdb95b",
   "outputs": [
    {
     "data": {
      "text/plain": [
       "array([0., 0., 0., 0., 0.])"
      ]
     },
     "execution_count": 5,
     "metadata": {},
     "output_type": "execute_result"
    }
   ],
   "execution_count": 5
  },
  {
   "metadata": {
    "ExecuteTime": {
     "end_time": "2025-08-02T09:49:24.752315Z",
     "start_time": "2025-08-02T09:49:24.748237Z"
    }
   },
   "cell_type": "code",
   "source": [
    "array1=np.arange(10)\n",
    "print(array1)"
   ],
   "id": "663944ab59944e0c",
   "outputs": [
    {
     "name": "stdout",
     "output_type": "stream",
     "text": [
      "[0 1 2 3 4 5 6 7 8 9]\n"
     ]
    }
   ],
   "execution_count": 6
  },
  {
   "metadata": {
    "ExecuteTime": {
     "end_time": "2025-08-02T09:49:24.784788Z",
     "start_time": "2025-08-02T09:49:24.779907Z"
    }
   },
   "cell_type": "code",
   "source": [
    "#creating array with range with  increment\n",
    "array2=np.arange(7,24,3)\n",
    "print(array2)"
   ],
   "id": "ddad7032d570b9a1",
   "outputs": [
    {
     "name": "stdout",
     "output_type": "stream",
     "text": [
      "[ 7 10 13 16 19 22]\n"
     ]
    }
   ],
   "execution_count": 7
  },
  {
   "metadata": {
    "ExecuteTime": {
     "end_time": "2025-08-02T09:49:24.827835Z",
     "start_time": "2025-08-02T09:49:24.811223Z"
    }
   },
   "cell_type": "code",
   "source": [
    "#creating random array\n",
    "array3=np.random.random(5)\n",
    "print(array3)\n"
   ],
   "id": "275c8afad499cbff",
   "outputs": [
    {
     "name": "stdout",
     "output_type": "stream",
     "text": [
      "[0.04620744 0.10394298 0.23301625 0.03974481 0.57743764]\n"
     ]
    }
   ],
   "execution_count": 8
  },
  {
   "metadata": {
    "ExecuteTime": {
     "end_time": "2025-08-02T09:49:24.842792Z",
     "start_time": "2025-08-02T09:49:24.838576Z"
    }
   },
   "cell_type": "code",
   "source": [
    "array4=np.empty(5)\n",
    "print(array4)\n",
    "#numpy will add random value but it does not have significance"
   ],
   "id": "3e11a90f2c46d1d7",
   "outputs": [
    {
     "name": "stdout",
     "output_type": "stream",
     "text": [
      "[0.04620744 0.10394298 0.23301625 0.03974481 0.57743764]\n"
     ]
    }
   ],
   "execution_count": 9
  },
  {
   "metadata": {
    "ExecuteTime": {
     "end_time": "2025-08-02T09:49:24.892090Z",
     "start_time": "2025-08-02T09:49:24.889564Z"
    }
   },
   "cell_type": "code",
   "source": "",
   "id": "198b5767bf1a3994",
   "outputs": [],
   "execution_count": null
  },
  {
   "metadata": {
    "ExecuteTime": {
     "end_time": "2025-08-02T09:49:24.921614Z",
     "start_time": "2025-08-02T09:49:24.914045Z"
    }
   },
   "cell_type": "code",
   "source": [
    "# accessing data type in np\n",
    "n=np.array([1,2,3,4,5])\n",
    "j=np.array({1,2,3,4,5})\n",
    "k=np.array(['a','b','c','d','e'])\n",
    "l=np.array([-1,-2,-3,-4,-5])\n",
    "m=np.array([0.1,0.2,0.3,0.4,0.5])\n",
    "print(n.dtype)\n",
    "print(j.dtype)\n",
    "print(k.dtype)\n",
    "print(l.dtype)\n",
    "print(m.dtype)"
   ],
   "id": "1ce477a6bf899e45",
   "outputs": [
    {
     "name": "stdout",
     "output_type": "stream",
     "text": [
      "int64\n",
      "object\n",
      "<U1\n",
      "int64\n",
      "float64\n"
     ]
    }
   ],
   "execution_count": 10
  },
  {
   "metadata": {
    "ExecuteTime": {
     "end_time": "2025-08-02T09:53:49.983942Z",
     "start_time": "2025-08-02T09:53:49.976510Z"
    }
   },
   "cell_type": "code",
   "source": [
    "'''converting numpy array to another tyoe'''\n",
    "a_array=np.array([1,2,3,4,5])\n",
    "print(a_array)\n",
    "print(a_array.dtype)\n",
    "b=a_array.astype(np.float64)\n",
    "print(b.dtype)\n",
    "print(b)"
   ],
   "id": "f4954993203de373",
   "outputs": [
    {
     "name": "stdout",
     "output_type": "stream",
     "text": [
      "[1 2 3 4 5]\n",
      "int64\n",
      "float64\n",
      "[1. 2. 3. 4. 5.]\n"
     ]
    }
   ],
   "execution_count": 15
  },
  {
   "metadata": {},
   "cell_type": "code",
   "outputs": [],
   "execution_count": null,
   "source": "",
   "id": "2daad444fb586fff"
  }
 ],
 "metadata": {
  "kernelspec": {
   "display_name": "Python 3",
   "language": "python",
   "name": "python3"
  },
  "language_info": {
   "codemirror_mode": {
    "name": "ipython",
    "version": 2
   },
   "file_extension": ".py",
   "mimetype": "text/x-python",
   "name": "python",
   "nbconvert_exporter": "python",
   "pygments_lexer": "ipython2",
   "version": "2.7.6"
  }
 },
 "nbformat": 4,
 "nbformat_minor": 5
}
