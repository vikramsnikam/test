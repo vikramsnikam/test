{
 "cells": [
  {
   "cell_type": "code",
   "id": "initial_id",
   "metadata": {
    "collapsed": true,
    "ExecuteTime": {
     "end_time": "2025-08-02T09:48:46.569493Z",
     "start_time": "2025-08-02T09:48:45.853233Z"
    }
   },
   "source": [
    "#creating 2d array\n",
    "import numpy as np\n",
    "array=np.array([[1,2,3,4,],\n",
    "                [6,7,8,9,]])\n",
    "array[1]\n"
   ],
   "outputs": [
    {
     "data": {
      "text/plain": [
       "array([6, 7, 8, 9])"
      ]
     },
     "execution_count": 5,
     "metadata": {},
     "output_type": "execute_result"
    }
   ],
   "execution_count": 5
  },
  {
   "metadata": {
    "ExecuteTime": {
     "end_time": "2025-08-02T09:48:46.590465Z",
     "start_time": "2025-08-02T09:48:46.584174Z"
    }
   },
   "cell_type": "code",
   "source": "array",
   "id": "2da4cbf1a346294e",
   "outputs": [
    {
     "data": {
      "text/plain": [
       "array([[1, 2, 3, 4],\n",
       "       [6, 7, 8, 9]])"
      ]
     },
     "execution_count": 6,
     "metadata": {},
     "output_type": "execute_result"
    }
   ],
   "execution_count": 6
  },
  {
   "metadata": {
    "ExecuteTime": {
     "end_time": "2025-08-02T09:48:46.629831Z",
     "start_time": "2025-08-02T09:48:46.625816Z"
    }
   },
   "cell_type": "code",
   "source": [
    "a=array[1][1]\n",
    "print(a)\n",
    "#acces certain value\n"
   ],
   "id": "2ad564182ee8fb44",
   "outputs": [
    {
     "name": "stdout",
     "output_type": "stream",
     "text": [
      "7\n"
     ]
    }
   ],
   "execution_count": 7
  },
  {
   "metadata": {},
   "cell_type": "markdown",
   "source": "",
   "id": "1834b50dd2f6ec42"
  },
  {
   "metadata": {
    "ExecuteTime": {
     "end_time": "2025-08-02T09:48:46.658789Z",
     "start_time": "2025-08-02T09:48:46.653201Z"
    }
   },
   "cell_type": "code",
   "source": [
    "td=np.array([[[1,2,3,4],\n",
    "         [5,6,7,8],\n",
    "         [9,10,11,12]],\n",
    "\n",
    "          [[13,14,15,16],\n",
    "           [17,18,19,20],\n",
    "           [21,22,23,24]]])\n",
    "print(td)\n"
   ],
   "id": "da72d44428b29a60",
   "outputs": [
    {
     "name": "stdout",
     "output_type": "stream",
     "text": [
      "[[[ 1  2  3  4]\n",
      "  [ 5  6  7  8]\n",
      "  [ 9 10 11 12]]\n",
      "\n",
      " [[13 14 15 16]\n",
      "  [17 18 19 20]\n",
      "  [21 22 23 24]]]\n"
     ]
    }
   ],
   "execution_count": 8
  },
  {
   "metadata": {
    "ExecuteTime": {
     "end_time": "2025-08-02T09:48:46.694030Z",
     "start_time": "2025-08-02T09:48:46.688878Z"
    }
   },
   "cell_type": "code",
   "source": [
    "print(td[0][1][2])\n",
    "#first will select slice 1 or 2 second will select row third column\n"
   ],
   "id": "e0e3f7db232cc87d",
   "outputs": [
    {
     "name": "stdout",
     "output_type": "stream",
     "text": [
      "7\n"
     ]
    }
   ],
   "execution_count": 9
  },
  {
   "metadata": {
    "ExecuteTime": {
     "end_time": "2025-08-02T09:48:46.719208Z",
     "start_time": "2025-08-02T09:48:46.714384Z"
    }
   },
   "cell_type": "code",
   "source": [
    "#2d array with zero\n",
    "c=np.zeros((3,3))\n",
    "print(c)"
   ],
   "id": "cae96f60190e95d7",
   "outputs": [
    {
     "name": "stdout",
     "output_type": "stream",
     "text": [
      "[[0. 0. 0.]\n",
      " [0. 0. 0.]\n",
      " [0. 0. 0.]]\n"
     ]
    }
   ],
   "execution_count": 10
  },
  {
   "metadata": {
    "ExecuteTime": {
     "end_time": "2025-08-02T09:48:46.755457Z",
     "start_time": "2025-08-02T09:48:46.748817Z"
    }
   },
   "cell_type": "code",
   "source": [
    "#3d array with zero\n",
    "d=np.zeros((3,3,3))\n",
    "print(d)"
   ],
   "id": "115c0e6e4497ead2",
   "outputs": [
    {
     "name": "stdout",
     "output_type": "stream",
     "text": [
      "[[[0. 0. 0.]\n",
      "  [0. 0. 0.]\n",
      "  [0. 0. 0.]]\n",
      "\n",
      " [[0. 0. 0.]\n",
      "  [0. 0. 0.]\n",
      "  [0. 0. 0.]]\n",
      "\n",
      " [[0. 0. 0.]\n",
      "  [0. 0. 0.]\n",
      "  [0. 0. 0.]]]\n"
     ]
    }
   ],
   "execution_count": 11
  },
  {
   "metadata": {
    "ExecuteTime": {
     "end_time": "2025-08-02T09:48:46.784276Z",
     "start_time": "2025-08-02T09:48:46.778718Z"
    }
   },
   "cell_type": "code",
   "source": [
    "#create full array with element\n",
    "a=np.full((3,3,5),1)\n",
    "print(a)"
   ],
   "id": "5af850a9af2fb613",
   "outputs": [
    {
     "name": "stdout",
     "output_type": "stream",
     "text": [
      "[[[1 1 1 1 1]\n",
      "  [1 1 1 1 1]\n",
      "  [1 1 1 1 1]]\n",
      "\n",
      " [[1 1 1 1 1]\n",
      "  [1 1 1 1 1]\n",
      "  [1 1 1 1 1]]\n",
      "\n",
      " [[1 1 1 1 1]\n",
      "  [1 1 1 1 1]\n",
      "  [1 1 1 1 1]]]\n"
     ]
    }
   ],
   "execution_count": 12
  },
  {
   "metadata": {
    "ExecuteTime": {
     "end_time": "2025-08-02T09:48:46.990101Z",
     "start_time": "2025-08-02T09:48:46.803589Z"
    }
   },
   "cell_type": "code",
   "source": [
    "#creating random  2d array and empty\n",
    "a=np.random.random((3,3,3))\n",
    "print(a)\n",
    "print('empty')\n",
    "b=np.empty((3,3,3))\n",
    "print(b)"
   ],
   "id": "bbe92d75b515275",
   "outputs": [
    {
     "name": "stdout",
     "output_type": "stream",
     "text": [
      "[[[0.88000595 0.80523204 0.43162464]\n",
      "  [0.79021711 0.86341174 0.5458514 ]\n",
      "  [0.57803904 0.27359337 0.35528659]]\n",
      "\n",
      " [[0.61492695 0.63960015 0.58208047]\n",
      "  [0.62144295 0.77105247 0.90884287]\n",
      "  [0.73707681 0.66822278 0.29836725]]\n",
      "\n",
      " [[0.63915621 0.33434214 0.58455264]\n",
      "  [0.96333243 0.46864743 0.18239021]\n",
      "  [0.06734147 0.19702575 0.10923393]]]\n",
      "empty\n",
      "[[[0.88000595 0.80523204 0.43162464]\n",
      "  [0.79021711 0.86341174 0.5458514 ]\n",
      "  [0.57803904 0.27359337 0.35528659]]\n",
      "\n",
      " [[0.61492695 0.63960015 0.58208047]\n",
      "  [0.62144295 0.77105247 0.90884287]\n",
      "  [0.73707681 0.66822278 0.29836725]]\n",
      "\n",
      " [[0.63915621 0.33434214 0.58455264]\n",
      "  [0.96333243 0.46864743 0.18239021]\n",
      "  [0.06734147 0.19702575 0.10923393]]]\n"
     ]
    }
   ],
   "execution_count": 13
  }
 ],
 "metadata": {
  "kernelspec": {
   "display_name": "Python 3",
   "language": "python",
   "name": "python3"
  },
  "language_info": {
   "codemirror_mode": {
    "name": "ipython",
    "version": 2
   },
   "file_extension": ".py",
   "mimetype": "text/x-python",
   "name": "python",
   "nbconvert_exporter": "python",
   "pygments_lexer": "ipython2",
   "version": "2.7.6"
  }
 },
 "nbformat": 4,
 "nbformat_minor": 5
}
