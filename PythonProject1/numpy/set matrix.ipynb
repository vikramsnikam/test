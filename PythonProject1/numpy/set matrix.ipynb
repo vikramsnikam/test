{
 "cells": [
  {
   "cell_type": "code",
   "id": "initial_id",
   "metadata": {
    "collapsed": true,
    "ExecuteTime": {
     "end_time": "2025-08-03T12:13:53.252066Z",
     "start_time": "2025-08-03T12:13:53.241958Z"
    }
   },
   "source": [
    "import numpy as np\n",
    "A = np.array([1, 3, 5])\n",
    "B = np.array([0, 2, 3])\n",
    "\n",
    "# union of two arrays\n",
    "result = np.union1d(A, B)\n",
    "\n",
    "print(result)\n",
    "\n",
    "# Output: [0 1 2 3 5]"
   ],
   "outputs": [
    {
     "name": "stdout",
     "output_type": "stream",
     "text": [
      "[0 1 2 3 5]\n"
     ]
    }
   ],
   "execution_count": 2
  },
  {
   "metadata": {
    "ExecuteTime": {
     "end_time": "2025-08-03T12:15:25.102405Z",
     "start_time": "2025-08-03T12:15:25.093438Z"
    }
   },
   "cell_type": "code",
   "source": [
    "'''intersection'''\n",
    "r1 = np.intersect1d(A, B)#giving only common value\n",
    "print(r1)"
   ],
   "id": "a8f2bcf7112b1da3",
   "outputs": [
    {
     "name": "stdout",
     "output_type": "stream",
     "text": [
      "[3]\n"
     ]
    }
   ],
   "execution_count": 4
  },
  {
   "metadata": {
    "ExecuteTime": {
     "end_time": "2025-08-03T12:23:00.258085Z",
     "start_time": "2025-08-03T12:23:00.251097Z"
    }
   },
   "cell_type": "code",
   "source": [
    "'''difference'''\n",
    "r2 = np.setdiff1d(A, B)\n",
    "#A-B gives value of A excludes common values\n",
    "print(r2)\n",
    "print('b-a')\n",
    "r3 = np.setdiff1d(B, A)\n",
    "#B-A gives value of B excludes common values\n",
    "print(r3)"
   ],
   "id": "13f27f8a709f6730",
   "outputs": [
    {
     "name": "stdout",
     "output_type": "stream",
     "text": [
      "[1 5]\n",
      "b-a\n",
      "[0 2]\n"
     ]
    }
   ],
   "execution_count": 8
  },
  {
   "metadata": {
    "ExecuteTime": {
     "end_time": "2025-08-03T12:24:07.265847Z",
     "start_time": "2025-08-03T12:24:07.251080Z"
    }
   },
   "cell_type": "code",
   "source": [
    "'''symmetry difference'''\n",
    "r4 = np.setxor1d(A,B)\n",
    "#gives matrix with uncommon value\n",
    "print(r4)"
   ],
   "id": "d360c818b325523e",
   "outputs": [
    {
     "name": "stdout",
     "output_type": "stream",
     "text": [
      "[0 1 2 5]\n"
     ]
    }
   ],
   "execution_count": 10
  },
  {
   "metadata": {
    "ExecuteTime": {
     "end_time": "2025-08-03T12:24:40.993126Z",
     "start_time": "2025-08-03T12:24:40.983027Z"
    }
   },
   "cell_type": "code",
   "source": [
    "'''uniq'''\n",
    "array1 = np.array([1,1, 2, 2, 4, 7, 7, 3, 5, 2, 5])\n",
    "# unique values from array1\n",
    "result = np.unique(array1)\n",
    "\n",
    "print(result)\n",
    "\n",
    "# Output: [1 2 3 4 5 7]"
   ],
   "id": "36edd4e9b6e8a79b",
   "outputs": [
    {
     "name": "stdout",
     "output_type": "stream",
     "text": [
      "[1 2 3 4 5 7]\n"
     ]
    }
   ],
   "execution_count": 11
  }
 ],
 "metadata": {
  "kernelspec": {
   "display_name": "Python 3",
   "language": "python",
   "name": "python3"
  },
  "language_info": {
   "codemirror_mode": {
    "name": "ipython",
    "version": 2
   },
   "file_extension": ".py",
   "mimetype": "text/x-python",
   "name": "python",
   "nbconvert_exporter": "python",
   "pygments_lexer": "ipython2",
   "version": "2.7.6"
  }
 },
 "nbformat": 4,
 "nbformat_minor": 5
}
