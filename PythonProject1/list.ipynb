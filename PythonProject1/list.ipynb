{
 "cells": [
  {
   "metadata": {
    "ExecuteTime": {
     "end_time": "2025-07-30T15:58:23.057241Z",
     "start_time": "2025-07-30T15:58:23.051139Z"
    }
   },
   "cell_type": "code",
   "source": [
    "'''list'''\n",
    "'''list is data type stored in [] ,similar to tuple but we can modify list '''\n",
    "a=[10,20,30,40,50,60,70,80,60,40]\n",
    "print(a)"
   ],
   "id": "37cf985b599701f6",
   "outputs": [
    {
     "name": "stdout",
     "output_type": "stream",
     "text": [
      "[10, 20, 30, 40, 50, 60, 70, 80, 60, 40]\n"
     ]
    }
   ],
   "execution_count": 54
  },
  {
   "metadata": {
    "ExecuteTime": {
     "end_time": "2025-07-30T15:58:23.094079Z",
     "start_time": "2025-07-30T15:58:23.084861Z"
    }
   },
   "cell_type": "code",
   "source": [
    "'''accessing data by index in list'''\n",
    "print(a[4])\n",
    "print(a[-1])\n",
    "print(a[-2])"
   ],
   "id": "4ffdef22e98430ba",
   "outputs": [
    {
     "name": "stdout",
     "output_type": "stream",
     "text": [
      "50\n",
      "40\n",
      "60\n"
     ]
    }
   ],
   "execution_count": 55
  },
  {
   "metadata": {
    "ExecuteTime": {
     "end_time": "2025-07-30T15:58:23.122624Z",
     "start_time": "2025-07-30T15:58:23.112354Z"
    }
   },
   "cell_type": "code",
   "source": [
    "'''accessing portion of list'''\n",
    "'''slicing list does not include last no of index'''\n",
    "a=[0,10,20,30,40,50,60,70,80,]\n",
    "print(a[4:6]) #will not include index 6 i.e 60'''\n",
    "print(a[2:-2])# will not include index -2 i.e 70\n",
    "print(a[4:-2])"
   ],
   "id": "86f98455e46cf72c",
   "outputs": [
    {
     "name": "stdout",
     "output_type": "stream",
     "text": [
      "[40, 50]\n",
      "[20, 30, 40, 50, 60]\n",
      "[40, 50, 60]\n"
     ]
    }
   ],
   "execution_count": 56
  },
  {
   "metadata": {
    "ExecuteTime": {
     "end_time": "2025-07-30T15:58:23.155983Z",
     "start_time": "2025-07-30T15:58:23.146210Z"
    }
   },
   "cell_type": "code",
   "source": [
    "'''if does not end value to get all indexes'''\n",
    "print(a[2:])#here we will get all values from index 2\n",
    "print(a[:-2])#here we will get all value until index -2 i.e.\n",
    "print(a[:])# we will get all value"
   ],
   "id": "10671cdeeaf151dd",
   "outputs": [
    {
     "name": "stdout",
     "output_type": "stream",
     "text": [
      "[20, 30, 40, 50, 60, 70, 80]\n",
      "[0, 10, 20, 30, 40, 50, 60]\n",
      "[0, 10, 20, 30, 40, 50, 60, 70, 80]\n"
     ]
    }
   ],
   "execution_count": 57
  },
  {
   "metadata": {
    "ExecuteTime": {
     "end_time": "2025-07-30T16:01:19.289980Z",
     "start_time": "2025-07-30T16:01:19.266300Z"
    }
   },
   "cell_type": "code",
   "source": [
    "'''append can add element/list to end of list '''\n",
    "# adding an element to the list end\n",
    "b= [10, 20, 30, 40, 50, 100]\n",
    "print(b)\n",
    "b.append('dot')\n",
    "print(b)\n",
    "\n"
   ],
   "id": "50fc5a8d80943b76",
   "outputs": [
    {
     "name": "stdout",
     "output_type": "stream",
     "text": [
      "[10, 20, 30, 40, 50, 100]\n",
      "[10, 20, 30, 40, 50, 100, 'dot']\n"
     ]
    }
   ],
   "execution_count": 73
  },
  {
   "metadata": {
    "ExecuteTime": {
     "end_time": "2025-07-30T15:58:23.211794Z",
     "start_time": "2025-07-30T15:58:23.199051Z"
    }
   },
   "cell_type": "code",
   "source": [
    "'''creating nested list using append function'''\n",
    "c=[10,20,30,40,50]\n",
    "print(c)\n",
    "c.append([100,200])\n",
    "print(c)\n"
   ],
   "id": "21c20d85d8464bf1",
   "outputs": [
    {
     "name": "stdout",
     "output_type": "stream",
     "text": [
      "[10, 20, 30, 40, 50]\n",
      "[10, 20, 30, 40, 50, [100, 200]]\n"
     ]
    }
   ],
   "execution_count": 59
  },
  {
   "metadata": {
    "ExecuteTime": {
     "end_time": "2025-07-30T15:58:23.232260Z",
     "start_time": "2025-07-30T15:58:23.224131Z"
    }
   },
   "cell_type": "code",
   "source": [
    "'''adding element at specific index'''\n",
    "c=[10,20,30,40,50,70]\n",
    "c.insert(6,75)\n",
    "print(c)\n",
    "c.insert(0,'list')\n",
    "print(c)"
   ],
   "id": "f0456f73a9190c1",
   "outputs": [
    {
     "name": "stdout",
     "output_type": "stream",
     "text": [
      "[10, 20, 30, 40, 50, 70, 75]\n",
      "['list', 10, 20, 30, 40, 50, 70, 75]\n"
     ]
    }
   ],
   "execution_count": 60
  },
  {
   "metadata": {
    "ExecuteTime": {
     "end_time": "2025-07-30T15:58:23.265797Z",
     "start_time": "2025-07-30T15:58:23.259745Z"
    }
   },
   "cell_type": "code",
   "source": [
    "'''merging 2 lists '''\n",
    "h=[10,20,30,40,50,60,70,80,]\n",
    "e=[1,2,3,4,5,6,7]\n",
    "e.extend(h)\n",
    "print(e)\n",
    "h.extend(e)\n",
    "print(h) #result included extended e from line 36"
   ],
   "id": "8c874d25b440ba0",
   "outputs": [
    {
     "name": "stdout",
     "output_type": "stream",
     "text": [
      "[1, 2, 3, 4, 5, 6, 7, 10, 20, 30, 40, 50, 60, 70, 80]\n",
      "[10, 20, 30, 40, 50, 60, 70, 80, 1, 2, 3, 4, 5, 6, 7, 10, 20, 30, 40, 50, 60, 70, 80]\n"
     ]
    }
   ],
   "execution_count": 61
  },
  {
   "metadata": {
    "ExecuteTime": {
     "end_time": "2025-07-30T15:58:23.305865Z",
     "start_time": "2025-07-30T15:58:23.300488Z"
    }
   },
   "cell_type": "code",
   "source": [
    "'''merging 2 data types/can use +  '''\n",
    "h=('a','b','c')\n",
    "k=[1,2,3]\n",
    "k.extend(h)\n",
    "print(k)# added tuples into list\n",
    "i={10,20,30,40,}\n",
    "k.extend(i)\n",
    "print(k) # added dictionary into list"
   ],
   "id": "6c5b62fb440aaa6",
   "outputs": [
    {
     "name": "stdout",
     "output_type": "stream",
     "text": [
      "[1, 2, 3, 'a', 'b', 'c']\n",
      "[1, 2, 3, 'a', 'b', 'c', 40, 10, 20, 30]\n"
     ]
    }
   ],
   "execution_count": 62
  },
  {
   "metadata": {
    "ExecuteTime": {
     "end_time": "2025-07-30T15:58:23.323728Z",
     "start_time": "2025-07-30T15:58:23.319049Z"
    }
   },
   "cell_type": "code",
   "source": [
    "'''removing specific item from a list'''\n",
    "a=['a','b','c','d','e']\n",
    "print(a)\n",
    "a.remove('b')\n",
    "print(a)"
   ],
   "id": "ccaefe4f185f198d",
   "outputs": [
    {
     "name": "stdout",
     "output_type": "stream",
     "text": [
      "['a', 'b', 'c', 'd', 'e']\n",
      "['a', 'c', 'd', 'e']\n"
     ]
    }
   ],
   "execution_count": 63
  },
  {
   "metadata": {
    "ExecuteTime": {
     "end_time": "2025-07-30T15:58:23.346132Z",
     "start_time": "2025-07-30T15:58:23.338207Z"
    }
   },
   "cell_type": "code",
   "source": [
    "'''removing specific index  from list'''\n",
    "a=['a','b','c','d','e']\n",
    "del a[2]\n",
    "print(a) #remove c at index 2"
   ],
   "id": "3fc3d935a95e8a8f",
   "outputs": [
    {
     "name": "stdout",
     "output_type": "stream",
     "text": [
      "['a', 'b', 'd', 'e']\n"
     ]
    }
   ],
   "execution_count": 64
  },
  {
   "metadata": {
    "ExecuteTime": {
     "end_time": "2025-07-30T15:58:23.382559Z",
     "start_time": "2025-07-30T15:58:23.376391Z"
    }
   },
   "cell_type": "code",
   "source": [
    "'''pop function also work same'''\n",
    "a.pop(2)\n",
    "print(a)#remove d at index 2"
   ],
   "id": "66e37d9af6add3c2",
   "outputs": [
    {
     "name": "stdout",
     "output_type": "stream",
     "text": [
      "['a', 'b', 'e']\n"
     ]
    }
   ],
   "execution_count": 65
  },
  {
   "metadata": {
    "ExecuteTime": {
     "end_time": "2025-07-30T15:58:23.410455Z",
     "start_time": "2025-07-30T15:58:23.405087Z"
    }
   },
   "cell_type": "code",
   "source": [
    "'''exclude last mentioned index no similar to slicing'''\n",
    "a=['a','b','c','d','e']\n",
    "del a[1:3]\n",
    "print(a)# will remove band c from index 1 and 2"
   ],
   "id": "91562129096599b5",
   "outputs": [
    {
     "name": "stdout",
     "output_type": "stream",
     "text": [
      "['a', 'd', 'e']\n"
     ]
    }
   ],
   "execution_count": 66
  },
  {
   "metadata": {
    "ExecuteTime": {
     "end_time": "2025-07-30T15:58:23.441554Z",
     "start_time": "2025-07-30T15:58:23.436902Z"
    }
   },
   "cell_type": "code",
   "source": [
    "a=['a','b','c','d','e']\n",
    "del a[1:]\n",
    "print(a) # will remove all data after from index 1"
   ],
   "id": "8acf801cf4b5b047",
   "outputs": [
    {
     "name": "stdout",
     "output_type": "stream",
     "text": [
      "['a']\n"
     ]
    }
   ],
   "execution_count": 67
  },
  {
   "metadata": {
    "ExecuteTime": {
     "end_time": "2025-07-30T15:58:23.462661Z",
     "start_time": "2025-07-30T15:58:23.458775Z"
    }
   },
   "cell_type": "code",
   "source": [
    "a=['a','b','c','d','e']\n",
    "del a[:-2]\n",
    "print(a)# will remove all data after  index -2"
   ],
   "id": "df931d3725b63b0f",
   "outputs": [
    {
     "name": "stdout",
     "output_type": "stream",
     "text": [
      "['d', 'e']\n"
     ]
    }
   ],
   "execution_count": 68
  },
  {
   "metadata": {
    "ExecuteTime": {
     "end_time": "2025-07-30T15:58:23.481103Z",
     "start_time": "2025-07-30T15:58:23.477581Z"
    }
   },
   "cell_type": "code",
   "source": [
    "'''calculating no of dat point'''\n",
    "a=['a','b','c','d','e','f']\n",
    "print(len(a))"
   ],
   "id": "5b09b46a4bff508c",
   "outputs": [
    {
     "name": "stdout",
     "output_type": "stream",
     "text": [
      "6\n"
     ]
    }
   ],
   "execution_count": 69
  },
  {
   "metadata": {
    "ExecuteTime": {
     "end_time": "2025-07-30T15:58:23.499011Z",
     "start_time": "2025-07-30T15:58:23.494898Z"
    }
   },
   "cell_type": "code",
   "source": [
    "'''changing data item at specific index'''\n",
    "a=['a','b','c','d','e','f']\n",
    "a[2]=2\n",
    "print(a) #2 will replace c\n",
    "a[0]='got'\n",
    "print(a) #got will replace a"
   ],
   "id": "84a10f830a78c497",
   "outputs": [
    {
     "name": "stdout",
     "output_type": "stream",
     "text": [
      "['a', 'b', 2, 'd', 'e', 'f']\n",
      "['got', 'b', 2, 'd', 'e', 'f']\n"
     ]
    }
   ],
   "execution_count": 70
  },
  {
   "metadata": {
    "ExecuteTime": {
     "end_time": "2025-07-30T15:58:08.039052Z",
     "start_time": "2025-07-30T15:58:08.018957Z"
    }
   },
   "cell_type": "code",
   "source": [
    "'''display all data in list separately'''\n",
    "a=['a','b','c','d','e','f']\n",
    "for i in a:\n",
    "    print(i)"
   ],
   "id": "ec2442b65ed5bae8",
   "outputs": [
    {
     "name": "stdout",
     "output_type": "stream",
     "text": [
      "a\n",
      "b\n",
      "c\n",
      "d\n",
      "e\n",
      "f\n"
     ]
    }
   ],
   "execution_count": 53
  },
  {
   "metadata": {
    "ExecuteTime": {
     "end_time": "2025-07-30T16:00:34.662741Z",
     "start_time": "2025-07-30T16:00:34.636566Z"
    }
   },
   "cell_type": "code",
   "source": [
    "'''removing all data from list'''\n",
    "a=['a','b','c','d','e','f']\n",
    "a.clear()\n",
    "print(a)"
   ],
   "id": "ea288e1b5df85f83",
   "outputs": [
    {
     "name": "stdout",
     "output_type": "stream",
     "text": [
      "removing all data from list\n",
      "[]\n"
     ]
    }
   ],
   "execution_count": 71
  },
  {
   "metadata": {
    "ExecuteTime": {
     "end_time": "2025-07-30T16:02:49.703842Z",
     "start_time": "2025-07-30T16:02:49.693698Z"
    }
   },
   "cell_type": "code",
   "source": [
    "'''only pop command removes last data item'''\n",
    "a=['a','b','c','d','e','f']\n",
    "a.pop()\n",
    "print(a)"
   ],
   "id": "37d4abf5e75049bc",
   "outputs": [
    {
     "name": "stdout",
     "output_type": "stream",
     "text": [
      "['a', 'b', 'c', 'd', 'e']\n"
     ]
    }
   ],
   "execution_count": 75
  },
  {
   "metadata": {
    "ExecuteTime": {
     "end_time": "2025-07-30T16:05:11.651399Z",
     "start_time": "2025-07-30T16:05:11.628203Z"
    }
   },
   "cell_type": "code",
   "source": [
    "'''counting data value repat'''\n",
    "a=[10,20,30,40,50,60,70,80,60,40]\n",
    "b=a.count(40)\n",
    "print(b)\n",
    "c=a.count(10)\n",
    "print(c)\n"
   ],
   "id": "44975675a46c6ce2",
   "outputs": [
    {
     "name": "stdout",
     "output_type": "stream",
     "text": [
      "2\n",
      "1\n"
     ]
    }
   ],
   "execution_count": 81
  },
  {
   "metadata": {
    "ExecuteTime": {
     "end_time": "2025-07-30T19:32:04.945338Z",
     "start_time": "2025-07-30T19:32:04.920711Z"
    }
   },
   "cell_type": "code",
   "source": [
    "'''reversing order of data item'''\n",
    "a=['a','b','c','d','e','f']\n",
    "a.reverse()\n",
    "print(a)"
   ],
   "id": "5db500a2e54ca7e8",
   "outputs": [
    {
     "name": "stdout",
     "output_type": "stream",
     "text": [
      "['f', 'e', 'd', 'c', 'b', 'a']\n"
     ]
    }
   ],
   "execution_count": 84
  },
  {
   "metadata": {
    "ExecuteTime": {
     "end_time": "2025-07-30T19:35:36.714513Z",
     "start_time": "2025-07-30T19:35:36.695066Z"
    }
   },
   "cell_type": "code",
   "source": [
    "'''indexing with enumerate from any value'''\n",
    "a = [1, 2, 3, 4, 5, 6, 7]\n",
    "d = enumerate(a, 10) #here indexing start with 10\n",
    "for i, v in d:\n",
    "    print(i, v)"
   ],
   "id": "996f0a6d7e97666d",
   "outputs": [
    {
     "name": "stdout",
     "output_type": "stream",
     "text": [
      "10 1\n",
      "11 2\n",
      "12 3\n",
      "13 4\n",
      "14 5\n",
      "15 6\n",
      "16 7\n"
     ]
    }
   ],
   "execution_count": 86
  },
  {
   "metadata": {
    "ExecuteTime": {
     "end_time": "2025-07-30T19:40:20.724862Z",
     "start_time": "2025-07-30T19:40:20.700671Z"
    }
   },
   "cell_type": "code",
   "source": [
    "'''indexing with enumerate from any value'''\n",
    "s=[13,2,3,4,5,3,3,6,7]\n",
    "d=enumerate(s,10)\n",
    "print(next(d))\n",
    "h=max(s)\n",
    "print(h)"
   ],
   "id": "62a79a00ba49b01b",
   "outputs": [
    {
     "name": "stdout",
     "output_type": "stream",
     "text": [
      "(10, 13)\n",
      "13\n"
     ]
    }
   ],
   "execution_count": 91
  }
 ],
 "metadata": {},
 "nbformat": 4,
 "nbformat_minor": 5
}
