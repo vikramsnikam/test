{
 "cells": [
  {
   "metadata": {
    "ExecuteTime": {
     "end_time": "2025-07-30T16:22:33.345337Z",
     "start_time": "2025-07-30T16:22:33.340528Z"
    }
   },
   "cell_type": "code",
   "source": [
    "\n",
    "a,b,c=10,20,30\n",
    "print(a,b,c)\n",
    "print(a)\n",
    "print(b)\n",
    "print(c)"
   ],
   "id": "d771b56542e05db0",
   "outputs": [
    {
     "name": "stdout",
     "output_type": "stream",
     "text": [
      "10 20 30\n",
      "10\n",
      "20\n",
      "30\n"
     ]
    }
   ],
   "execution_count": 1
  },
  {
   "metadata": {
    "ExecuteTime": {
     "end_time": "2025-07-30T16:22:49.389976Z",
     "start_time": "2025-07-30T16:22:49.384119Z"
    }
   },
   "cell_type": "code",
   "source": [
    "'''relational operator >='''\n",
    "print(5>=4)\n",
    "print(5>=5)\n",
    "print(5>=6)"
   ],
   "id": "424035d5fb8a3b60",
   "outputs": [
    {
     "name": "stdout",
     "output_type": "stream",
     "text": [
      "True\n",
      "True\n",
      "False\n"
     ]
    }
   ],
   "execution_count": 2
  },
  {
   "metadata": {
    "ExecuteTime": {
     "end_time": "2025-07-30T16:23:37.490629Z",
     "start_time": "2025-07-30T16:23:37.481414Z"
    }
   },
   "cell_type": "code",
   "source": [
    "'''relational operator <='''\n",
    "print(5<=4)\n",
    "print(5<=5)\n",
    "print(5<=6)"
   ],
   "id": "7c5e7ca0cd4d2bee",
   "outputs": [
    {
     "name": "stdout",
     "output_type": "stream",
     "text": [
      "False\n",
      "True\n",
      "True\n"
     ]
    }
   ],
   "execution_count": 3
  },
  {
   "metadata": {
    "ExecuteTime": {
     "end_time": "2025-07-30T16:23:53.400960Z",
     "start_time": "2025-07-30T16:23:53.393966Z"
    }
   },
   "cell_type": "code",
   "source": [
    "'''relational operator not equal to !='''\n",
    "print(5!=4)\n",
    "print(5!=5)\n",
    "print(5!=6)"
   ],
   "id": "1889ecbe94ced32c",
   "outputs": [
    {
     "name": "stdout",
     "output_type": "stream",
     "text": [
      "True\n",
      "False\n",
      "True\n"
     ]
    }
   ],
   "execution_count": 4
  },
  {
   "metadata": {
    "ExecuteTime": {
     "end_time": "2025-07-30T16:25:04.076784Z",
     "start_time": "2025-07-30T16:25:04.066433Z"
    }
   },
   "cell_type": "code",
   "source": [
    "'''relational operator equal to =='''\n",
    "print(5==4)\n",
    "print(5==5)\n",
    "print(5==4)\n",
    "print(5==5)\n",
    "print(5==6)"
   ],
   "id": "1a0c49c5d39eadc4",
   "outputs": [
    {
     "name": "stdout",
     "output_type": "stream",
     "text": [
      "False\n",
      "True\n",
      "False\n",
      "True\n",
      "False\n"
     ]
    }
   ],
   "execution_count": 5
  },
  {
   "metadata": {},
   "cell_type": "code",
   "outputs": [
    {
     "name": "stdout",
     "output_type": "stream",
     "text": [
      "True\n",
      "False\n",
      "False\n"
     ]
    }
   ],
   "execution_count": 6,
   "source": [
    "'''relational operator >'''\n",
    "print(5>4)\n",
    "print(5>5)\n",
    "print(5>6)"
   ],
   "id": "6cf17bd395b80326"
  },
  {
   "metadata": {},
   "cell_type": "code",
   "execution_count": null,
   "source": [
    "'''relational operator <'''\n",
    "print(5<4)\n",
    "print(5<5)\n",
    "print(5<6)"
   ],
   "id": "9309ce93688a2ca6",
   "outputs": []
  },
  {
   "metadata": {
    "ExecuteTime": {
     "end_time": "2025-07-30T16:26:38.979963Z",
     "start_time": "2025-07-30T16:26:38.973286Z"
    }
   },
   "cell_type": "code",
   "source": [
    "''' logical operators or '''\n",
    "'''only false when both result are false'''\n",
    "print(\"result is\",True or False)\n",
    "print(\"result is\",True or True)\n",
    "print(\"result is\",False or False)"
   ],
   "id": "665bd6b1a9fff27e",
   "outputs": [
    {
     "name": "stdout",
     "output_type": "stream",
     "text": [
      "result is True\n",
      "result is True\n",
      "result is False\n"
     ]
    }
   ],
   "execution_count": 7
  },
  {
   "metadata": {
    "ExecuteTime": {
     "end_time": "2025-07-30T16:29:12.319511Z",
     "start_time": "2025-07-30T16:29:12.309177Z"
    }
   },
   "cell_type": "code",
   "source": [
    "''' logical operators and '''\n",
    "'''only True  when both result are True'''\n",
    "print(\"result is \",True and False)\n",
    "print(\"result is \",True and True)\n",
    "print(\"result is \",False and False)"
   ],
   "id": "2842a4aef303da5f",
   "outputs": [
    {
     "name": "stdout",
     "output_type": "stream",
     "text": [
      "result is  False\n",
      "result is  True\n",
      "result is  False\n"
     ]
    }
   ],
   "execution_count": 9
  },
  {
   "metadata": {
    "ExecuteTime": {
     "end_time": "2025-07-30T16:29:57.613771Z",
     "start_time": "2025-07-30T16:29:57.592652Z"
    }
   },
   "cell_type": "code",
   "source": [
    "''' logical operators not '''\n",
    "'''reverse logical operators '''\n",
    "print(\"result is\",not False)\n",
    "print(\"result is\",not True)"
   ],
   "id": "3844fe4009cc3867",
   "outputs": [
    {
     "name": "stdout",
     "output_type": "stream",
     "text": [
      "result is True\n",
      "result is False\n"
     ]
    }
   ],
   "execution_count": 10
  },
  {
   "metadata": {
    "ExecuteTime": {
     "end_time": "2025-07-30T16:30:40.818131Z",
     "start_time": "2025-07-30T16:30:40.809221Z"
    }
   },
   "cell_type": "code",
   "source": [
    "\n",
    "a=5>7\n",
    "b=6<4\n",
    "print(a or b)\n",
    "'''will be false because both statement are false'''"
   ],
   "id": "5d8291235b4ae0b8",
   "outputs": [
    {
     "name": "stdout",
     "output_type": "stream",
     "text": [
      "False\n"
     ]
    }
   ],
   "execution_count": 11
  },
  {
   "metadata": {
    "ExecuteTime": {
     "end_time": "2025-07-30T16:31:52.097311Z",
     "start_time": "2025-07-30T16:31:52.088580Z"
    }
   },
   "cell_type": "code",
   "source": [
    "\n",
    "#special operators\n",
    "\n",
    "a=5\n",
    "b=7\n",
    "c= '5'\n",
    "d=5\n",
    "\n",
    "print(a is b)\n",
    "print(a is c)\n",
    "print(a is d)"
   ],
   "id": "8003be43c77db0d5",
   "outputs": [
    {
     "name": "stdout",
     "output_type": "stream",
     "text": [
      "False\n",
      "False\n",
      "True\n"
     ]
    }
   ],
   "execution_count": 14
  },
  {
   "metadata": {
    "ExecuteTime": {
     "end_time": "2025-07-30T16:31:49.249399Z",
     "start_time": "2025-07-30T16:31:49.240098Z"
    }
   },
   "cell_type": "code",
   "source": [
    "\n",
    "print(a is not b)\n",
    "print(a is not c)\n",
    "print(a is not d)"
   ],
   "id": "505d2d2a30aceb24",
   "outputs": [
    {
     "name": "stdout",
     "output_type": "stream",
     "text": [
      "True\n",
      "True\n",
      "False\n"
     ]
    }
   ],
   "execution_count": 13
  }
 ],
 "metadata": {},
 "nbformat": 4,
 "nbformat_minor": 5
}
