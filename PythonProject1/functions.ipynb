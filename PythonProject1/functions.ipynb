{
 "cells": [
  {
   "metadata": {
    "ExecuteTime": {
     "end_time": "2025-07-30T19:43:58.298554Z",
     "start_time": "2025-07-30T19:43:58.292702Z"
    }
   },
   "cell_type": "code",
   "source": [
    "def even():\n",
    "    print('hello')\n",
    "    print(\"cad\")\n",
    "even()"
   ],
   "id": "f56b20d4e2981783",
   "outputs": [
    {
     "name": "stdout",
     "output_type": "stream",
     "text": [
      "hello\n",
      "cad\n"
     ]
    }
   ],
   "execution_count": 1
  },
  {
   "metadata": {
    "ExecuteTime": {
     "end_time": "2025-07-30T19:45:21.761737Z",
     "start_time": "2025-07-30T19:45:21.753406Z"
    }
   },
   "cell_type": "code",
   "source": [
    "\n",
    "print('function argument')\n",
    "def joke(k):\n",
    "    print(k)\n",
    "\n",
    "joke('hello')\n",
    "joke('world')\n",
    "joke('python')\n",
    "joke('programming')"
   ],
   "id": "361bca3f3c30192b",
   "outputs": [
    {
     "name": "stdout",
     "output_type": "stream",
     "text": [
      "function argument\n",
      "hello\n",
      "world\n",
      "python\n",
      "programming\n"
     ]
    }
   ],
   "execution_count": 3
  },
  {
   "metadata": {
    "ExecuteTime": {
     "end_time": "2025-07-30T19:47:03.132136Z",
     "start_time": "2025-07-30T19:47:03.122976Z"
    }
   },
   "cell_type": "code",
   "source": [
    "def add1():\n",
    "    print('add1')\n",
    "add1()"
   ],
   "id": "ab60f1440e118221",
   "outputs": [
    {
     "name": "stdout",
     "output_type": "stream",
     "text": [
      "add1\n"
     ]
    }
   ],
   "execution_count": 7
  },
  {
   "metadata": {
    "ExecuteTime": {
     "end_time": "2025-07-30T19:47:07.373716Z",
     "start_time": "2025-07-30T19:47:07.361966Z"
    }
   },
   "cell_type": "code",
   "source": [
    "\n",
    "#in def\n",
    "def add2():\n",
    "    print('add2')\n",
    "    def add3():\n",
    "        print('add3')\n",
    "    add3()\n",
    "add2()\n",
    "#add3()\n",
    "#here we cant call add3 separately  because it is inside add2\n",
    "\n"
   ],
   "id": "113ff98a95e857d9",
   "outputs": [
    {
     "name": "stdout",
     "output_type": "stream",
     "text": [
      "add2\n",
      "add3\n"
     ]
    }
   ],
   "execution_count": 8
  }
 ],
 "metadata": {},
 "nbformat": 4,
 "nbformat_minor": 5
}
