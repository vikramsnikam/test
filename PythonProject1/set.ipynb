{
 "cells": [
  {
   "metadata": {
    "ExecuteTime": {
     "end_time": "2025-07-30T18:58:35.036427Z",
     "start_time": "2025-07-30T18:58:35.031928Z"
    }
   },
   "cell_type": "code",
   "source": [
    "'''Set'''\n",
    "'''Set is data type stored inside {} can be int, float, string, do not have duplicate value'''\n",
    "temp={1,2,3,4,5,3}# will show 3 once\n",
    "b={1,2,3,4,5,6,'a'}\n",
    "print(b)\n",
    "print(temp)\n",
    "print(type(temp))\n",
    "#in set duplication is not allowed it will not show duplicate in output after print"
   ],
   "id": "752cb1978430c480",
   "outputs": [
    {
     "name": "stdout",
     "output_type": "stream",
     "text": [
      "{1, 2, 3, 4, 5, 6, 'a'}\n",
      "{1, 2, 3, 4, 5}\n",
      "<class 'set'>\n"
     ]
    }
   ],
   "execution_count": 1
  },
  {
   "metadata": {
    "ExecuteTime": {
     "end_time": "2025-07-30T18:59:30.058529Z",
     "start_time": "2025-07-30T18:59:30.050458Z"
    }
   },
   "cell_type": "code",
   "source": [
    "''\"conversion into set\"''\n",
    "lest=[1,2,3,4,5,3,3]\n",
    "print(type(list))\n",
    "print(lest)\n",
    "data=set(lest)\n",
    "print(data)\n",
    "print(type(data))"
   ],
   "id": "a70372c5674c811e",
   "outputs": [
    {
     "name": "stdout",
     "output_type": "stream",
     "text": [
      "conversion set\n",
      "<class 'list'>\n",
      "[1, 2, 3, 4, 5, 3, 3]\n",
      "{1, 2, 3, 4, 5}\n",
      "<class 'set'>\n"
     ]
    }
   ],
   "execution_count": 2
  },
  {
   "metadata": {
    "ExecuteTime": {
     "end_time": "2025-07-30T19:01:46.785216Z",
     "start_time": "2025-07-30T19:01:46.777631Z"
    }
   },
   "cell_type": "code",
   "source": [
    "'''add string/int/float set'''\n",
    "set={1,2,3,4,5,3,3}\n",
    "set.add('a',)\n",
    "set.add(0.4)\n",
    "set.add(4)\n",
    "set.add(-67)\n",
    "print(set)"
   ],
   "id": "151c1509465d170d",
   "outputs": [
    {
     "name": "stdout",
     "output_type": "stream",
     "text": [
      "{0.4, 1, 2, 3, 4, 5, 'a', -67}\n"
     ]
    }
   ],
   "execution_count": 6
  },
  {
   "metadata": {
    "ExecuteTime": {
     "end_time": "2025-07-30T19:14:25.494858Z",
     "start_time": "2025-07-30T19:14:25.483641Z"
    }
   },
   "cell_type": "code",
   "source": [
    "'''updating set with tuple/list'''\n",
    "set={1,2,3,4,5,3,3}\n",
    "lest=['a','b','c','d','e','f']\n",
    "tuple=(10,20,30)\n",
    "set.update(lest)\n",
    "set.update(tuple)\n",
    "print(set)"
   ],
   "id": "3306d769adc26e28",
   "outputs": [
    {
     "name": "stdout",
     "output_type": "stream",
     "text": [
      "{1, 2, 3, 4, 5, 'b', 10, 20, 'c', 'a', 30, 'e', 'f', 'd'}\n"
     ]
    }
   ],
   "execution_count": 21
  },
  {
   "metadata": {
    "ExecuteTime": {
     "end_time": "2025-07-30T19:03:24.107158Z",
     "start_time": "2025-07-30T19:03:24.095761Z"
    }
   },
   "cell_type": "code",
   "source": [
    "'''removing specific data from set'''\n",
    "set={1,2,3,4,5,3,3}\n",
    "set.remove(3)\n",
    "print(set)\n",
    "set={1,2,3,4,5,3,3}\n",
    "set.discard(1)\n",
    "print(set)"
   ],
   "id": "c223c0c3a73b145d",
   "outputs": [
    {
     "name": "stdout",
     "output_type": "stream",
     "text": [
      "remove specific data from set\n",
      "{1, 2, 4, 5}\n",
      "{2, 3, 4, 5}\n"
     ]
    }
   ],
   "execution_count": 9
  },
  {
   "metadata": {
    "ExecuteTime": {
     "end_time": "2025-07-30T19:07:51.235776Z",
     "start_time": "2025-07-30T19:07:51.224837Z"
    }
   },
   "cell_type": "code",
   "source": [
    "'''all command -will give false if there is 0 as value inside set'''\n",
    "set={1,2,3,4,5,3,}\n",
    "print(all(set))\n",
    "set={0,1}\n",
    "print(all(set))\n",
    "set={}\n",
    "print(all(set))# empty set will be True"
   ],
   "id": "2c80f5ec77355725",
   "outputs": [
    {
     "name": "stdout",
     "output_type": "stream",
     "text": [
      "True\n",
      "False\n",
      "True\n"
     ]
    }
   ],
   "execution_count": 13
  },
  {
   "metadata": {
    "ExecuteTime": {
     "end_time": "2025-07-30T19:06:33.318100Z",
     "start_time": "2025-07-30T19:06:33.309231Z"
    }
   },
   "cell_type": "code",
   "source": [
    "'''empty sting will return as false '''\n",
    "set={'a','b','c','d','e','f'}\n",
    "print(all(set))\n",
    "set={''}\n",
    "print(all(set))"
   ],
   "id": "22e85be3477b3efe",
   "outputs": [
    {
     "name": "stdout",
     "output_type": "stream",
     "text": [
      "True\n",
      "False\n"
     ]
    }
   ],
   "execution_count": 12
  },
  {
   "metadata": {
    "ExecuteTime": {
     "end_time": "2025-07-30T19:10:48.252458Z",
     "start_time": "2025-07-30T19:10:48.231841Z"
    }
   },
   "cell_type": "code",
   "source": [
    "'''any command all output same expect for an empty set'''\n",
    "set={}\n",
    "print(all(set))\n",
    "print(any(set))"
   ],
   "id": "b5f3e64060d6a453",
   "outputs": [
    {
     "name": "stdout",
     "output_type": "stream",
     "text": [
      "True\n",
      "False\n"
     ]
    }
   ],
   "execution_count": 15
  }
 ],
 "metadata": {},
 "nbformat": 4,
 "nbformat_minor": 5
}
