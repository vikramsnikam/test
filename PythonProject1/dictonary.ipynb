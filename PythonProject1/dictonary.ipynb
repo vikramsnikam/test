{
 "cells": [
  {
   "metadata": {
    "ExecuteTime": {
     "end_time": "2025-07-30T18:19:52.274606Z",
     "start_time": "2025-07-30T18:19:52.207924Z"
    }
   },
   "cell_type": "code",
   "source": [
    "'''A Python dictionary is a built-in data type used to store key-value pairs.'''\n",
    "auto={'car name':'swift','company':'maruti','value':'6L','milage':'15'}\n",
    "print(auto) #car name is key and swift is value\n",
    "print(type(auto))"
   ],
   "id": "be3170f70f2caa58",
   "outputs": [
    {
     "name": "stdout",
     "output_type": "stream",
     "text": [
      "{'car name': 'swift', 'company': 'maruti', 'value': '6L', 'milage': '15'}\n",
      "<class 'dict'>\n"
     ]
    }
   ],
   "execution_count": 2
  },
  {
   "metadata": {
    "ExecuteTime": {
     "end_time": "2025-07-30T18:20:07.994778Z",
     "start_time": "2025-07-30T18:20:07.980243Z"
    }
   },
   "cell_type": "code",
   "source": [
    "'''accessing value'''\n",
    "print(auto['car name'])\n",
    "print(auto['milage'])\n",
    "print(auto['value'])\n",
    "print(auto['company'])"
   ],
   "id": "6941f9cb3e750edc",
   "outputs": [
    {
     "name": "stdout",
     "output_type": "stream",
     "text": [
      "swift\n",
      "15\n",
      "6L\n",
      "maruti\n"
     ]
    }
   ],
   "execution_count": 3
  },
  {
   "metadata": {
    "ExecuteTime": {
     "end_time": "2025-07-30T18:23:14.267215Z",
     "start_time": "2025-07-30T18:23:14.245382Z"
    }
   },
   "cell_type": "code",
   "source": [
    "'''can use get /steadfast function to access value'''\n",
    "auto1={'car name':'indica ','company':'tata','value':'8L','milage':'18'}\n",
    "print(auto1.get('milage'))\n",
    "auto1={'car name':'indica ','company':'tata','value':'8L','milage':'18'}\n",
    "j=auto1.setdefault('milage')\n",
    "print(j)"
   ],
   "id": "4b2bcf0e22f1f201",
   "outputs": [
    {
     "name": "stdout",
     "output_type": "stream",
     "text": [
      "18\n",
      "18\n"
     ]
    }
   ],
   "execution_count": 4
  },
  {
   "metadata": {
    "ExecuteTime": {
     "end_time": "2025-07-30T18:28:11.147495Z",
     "start_time": "2025-07-30T18:28:11.136520Z"
    }
   },
   "cell_type": "code",
   "source": [
    "'''adding/updating item in dict'''\n",
    "auto={'car name':'swift','company':'maruti','value':'6L','milage':'15'}\n",
    "print(auto)\n",
    "auto['seat']='5'# adding new key-value pair\n",
    "print(auto)\n",
    "auto.update({'color':'blue'})# adding new key-value pair using update\n",
    "print(auto)\n",
    "auto['car name']='wangler'\n",
    "print(auto)# changing value of exiting key"
   ],
   "id": "4809ac73395d57f2",
   "outputs": [
    {
     "name": "stdout",
     "output_type": "stream",
     "text": [
      "{'car name': 'swift', 'company': 'maruti', 'value': '6L', 'milage': '15'}\n",
      "{'car name': 'swift', 'company': 'maruti', 'value': '6L', 'milage': '15', 'seat': '5'}\n",
      "{'car name': 'swift', 'company': 'maruti', 'value': '6L', 'milage': '15', 'seat': '5', 'color': 'blue'}\n",
      "{'car name': 'wangler', 'company': 'maruti', 'value': '6L', 'milage': '15', 'seat': '5', 'color': 'blue'}\n"
     ]
    }
   ],
   "execution_count": 13
  },
  {
   "metadata": {
    "ExecuteTime": {
     "end_time": "2025-07-30T18:33:36.319822Z",
     "start_time": "2025-07-30T18:33:36.311109Z"
    }
   },
   "cell_type": "code",
   "source": [
    "'''remove item in dict pop/del'''\n",
    "b={'car name': 'wangler', 'company': 'maruti', 'value': '6L', 'milage': '15', 'seat': '5', 'color': 'blue'}\n",
    "del b['color']\n",
    "print(b)\n",
    "h=b.pop('milage')\n",
    "print(b)\n",
    "print(h)#here we can access value of deleted key if pop functon is used\n",
    "#pop also give value even element is not present\n",
    "d=b.pop('tigor','land rover')\n",
    "print(d)"
   ],
   "id": "55bde938360e0c20",
   "outputs": [
    {
     "name": "stdout",
     "output_type": "stream",
     "text": [
      "{'car name': 'wangler', 'company': 'maruti', 'value': '6L', 'milage': '15', 'seat': '5'}\n",
      "{'car name': 'wangler', 'company': 'maruti', 'value': '6L', 'seat': '5'}\n",
      "15\n",
      "land rover\n"
     ]
    }
   ],
   "execution_count": 19
  },
  {
   "metadata": {
    "ExecuteTime": {
     "end_time": "2025-07-30T18:36:26.229909Z",
     "start_time": "2025-07-30T18:36:26.221481Z"
    }
   },
   "cell_type": "code",
   "source": [
    "'''deleting dict'''\n",
    "print(auto)\n",
    "auto.clear()\n",
    "print(auto)"
   ],
   "id": "79020063d5d8e5c7",
   "outputs": [
    {
     "name": "stdout",
     "output_type": "stream",
     "text": [
      "{'car name': 'wangler', 'company': 'maruti', 'value': '6L', 'seat': '5'}\n",
      "{}\n"
     ]
    }
   ],
   "execution_count": 24
  },
  {
   "metadata": {
    "ExecuteTime": {
     "end_time": "2025-07-30T18:39:11.881470Z",
     "start_time": "2025-07-30T18:39:11.874886Z"
    }
   },
   "cell_type": "code",
   "source": [
    "print('iterate key in dict')\n",
    "auto={'car name':'swift','company':'maruti','value':'6L','milage':'15'}\n",
    "for i in auto:\n",
    "    print(i)\n",
    "print('iterating value in dict')\n",
    "for i in auto:\n",
    "    print(auto[i])"
   ],
   "id": "795874d0a1314842",
   "outputs": [
    {
     "name": "stdout",
     "output_type": "stream",
     "text": [
      "iterate key in dict\n",
      "car name\n",
      "company\n",
      "value\n",
      "milage\n",
      "iterating value in dict\n",
      "swift\n",
      "maruti\n",
      "6L\n",
      "15\n"
     ]
    }
   ],
   "execution_count": 31
  },
  {
   "metadata": {
    "ExecuteTime": {
     "end_time": "2025-07-30T18:39:27.290199Z",
     "start_time": "2025-07-30T18:39:27.284310Z"
    }
   },
   "cell_type": "code",
   "source": [
    "'''accesing length'''\n",
    "print(len(auto))"
   ],
   "id": "a3f2b2736e3b2078",
   "outputs": [
    {
     "name": "stdout",
     "output_type": "stream",
     "text": [
      "4\n"
     ]
    }
   ],
   "execution_count": 32
  },
  {
   "metadata": {
    "ExecuteTime": {
     "end_time": "2025-07-30T18:39:58.645619Z",
     "start_time": "2025-07-30T18:39:58.639660Z"
    }
   },
   "cell_type": "code",
   "source": [
    "'''copying dict'''\n",
    "vehicle=auto.copy()\n",
    "print(vehicle)"
   ],
   "id": "ed697043ae078a05",
   "outputs": [
    {
     "name": "stdout",
     "output_type": "stream",
     "text": [
      "copying dict\n",
      "{'car name': 'swift', 'company': 'maruti', 'value': '6L', 'milage': '15'}\n"
     ]
    }
   ],
   "execution_count": 33
  },
  {
   "metadata": {
    "ExecuteTime": {
     "end_time": "2025-07-30T18:41:13.677875Z",
     "start_time": "2025-07-30T18:41:13.669361Z"
    }
   },
   "cell_type": "code",
   "source": [
    "'''creating dict by assignee same value to different key'''\n",
    "alphabate={'a','b','c','d','e','f','g'}\n",
    "value=1 #here we used int as value\n",
    "dict=dict.fromkeys(alphabate,value)\n",
    "print(dict)"
   ],
   "id": "18ea622b00bc6e35",
   "outputs": [
    {
     "name": "stdout",
     "output_type": "stream",
     "text": [
      "{'c': 1, 'd': 1, 'b': 1, 'g': 1, 'a': 1, 'f': 1, 'e': 1}\n"
     ]
    }
   ],
   "execution_count": 34
  },
  {
   "metadata": {
    "ExecuteTime": {
     "end_time": "2025-07-30T18:48:41.283082Z",
     "start_time": "2025-07-30T18:48:41.247671Z"
    }
   },
   "cell_type": "code",
   "source": [
    "\n",
    "print('adding vlue in key dict')\n",
    "alphabate={'a','b','c','d','e','f','g'}\n",
    "value=[1] #used list as value\n",
    "dict=dict.fromkeys(alphabate,value)\n",
    "print(dict)\n",
    "alphabate={'a','b','c',}\n",
    "value.append(3)# added second value\n",
    "print(dict)"
   ],
   "id": "d003a8fc567c36e0",
   "outputs": [
    {
     "name": "stdout",
     "output_type": "stream",
     "text": [
      "adding vlue in key dict\n",
      "{'c': [1], 'd': [1], 'b': [1], 'g': [1], 'a': [1], 'f': [1], 'e': [1]}\n",
      "{'c': [1, 3], 'd': [1, 3], 'b': [1, 3], 'g': [1, 3], 'a': [1, 3], 'f': [1, 3], 'e': [1, 3]}\n"
     ]
    }
   ],
   "execution_count": 60
  },
  {
   "metadata": {
    "ExecuteTime": {
     "end_time": "2025-07-30T18:49:36.425744Z",
     "start_time": "2025-07-30T18:49:36.412972Z"
    }
   },
   "cell_type": "code",
   "source": [
    "'''using for loop to add value in  dict'''\n",
    "alphabate={'a','b','c','d','e','f','g'}\n",
    "value=[1]\n",
    "dict={i:list(value) for i in alphabate}\n",
    "print(dict)"
   ],
   "id": "f8468d4de72c772f",
   "outputs": [
    {
     "name": "stdout",
     "output_type": "stream",
     "text": [
      "using for loop instead of  dict\n",
      "{'c': [1], 'd': [1], 'b': [1], 'g': [1], 'a': [1], 'f': [1], 'e': [1]}\n"
     ]
    }
   ],
   "execution_count": 61
  },
  {
   "metadata": {
    "ExecuteTime": {
     "end_time": "2025-07-30T18:50:43.207354Z",
     "start_time": "2025-07-30T18:50:43.196579Z"
    }
   },
   "cell_type": "code",
   "source": [
    "'''converting dictionary in to tuple pair'''\n",
    "marks={'p':64,'c':87,'m':66}\n",
    "print(marks.items())\n",
    "del marks['p']\n",
    "print(marks)"
   ],
   "id": "5de2e0c7ffdcf8d4",
   "outputs": [
    {
     "name": "stdout",
     "output_type": "stream",
     "text": [
      "converting dictionary in to tuple pair\n",
      "dict_items([('p', 64), ('c', 87), ('m', 66)])\n",
      "{'c': 87, 'm': 66}\n"
     ]
    }
   ],
   "execution_count": 62
  },
  {
   "metadata": {
    "ExecuteTime": {
     "end_time": "2025-07-30T18:52:03.476722Z",
     "start_time": "2025-07-30T18:52:03.466133Z"
    }
   },
   "cell_type": "code",
   "source": [
    "print('dictionary keys/value into separate list')\n",
    "marks={'p':64,'c':87,'m':66}\n",
    "print(marks.keys())\n",
    "print(marks.values())"
   ],
   "id": "eee9caad9590318c",
   "outputs": [
    {
     "name": "stdout",
     "output_type": "stream",
     "text": [
      "dictionary keys/value into separate list\n",
      "dict_keys(['p', 'c', 'm'])\n",
      "dict_values([64, 87, 66])\n"
     ]
    }
   ],
   "execution_count": 64
  }
 ],
 "metadata": {},
 "nbformat": 4,
 "nbformat_minor": 5
}
