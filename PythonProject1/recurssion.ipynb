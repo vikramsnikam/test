{
 "cells": [
  {
   "metadata": {
    "ExecuteTime": {
     "end_time": "2025-07-30T18:53:32.496940Z",
     "start_time": "2025-07-30T18:53:32.492074Z"
    }
   },
   "cell_type": "code",
   "source": [
    "def factorial(n):\n",
    "    if n == 1:\n",
    "        return 1\n",
    "    else:\n",
    "        return n*factorial(n-1)\n",
    "print(factorial(5))\n",
    "print(factorial(3))"
   ],
   "id": "841f82e61edf1667",
   "outputs": [
    {
     "name": "stdout",
     "output_type": "stream",
     "text": [
      "120\n",
      "6\n"
     ]
    }
   ],
   "execution_count": 1
  },
  {
   "metadata": {
    "ExecuteTime": {
     "end_time": "2025-07-30T18:54:04.699877Z",
     "start_time": "2025-07-30T18:54:04.690195Z"
    }
   },
   "cell_type": "code",
   "source": [
    "def add(a):\n",
    "    if (a<7):\n",
    "        print(a)\n",
    "        add((a+1))\n",
    "add(1)"
   ],
   "id": "f033a723d647f42a",
   "outputs": [
    {
     "name": "stdout",
     "output_type": "stream",
     "text": [
      "1\n",
      "2\n",
      "3\n",
      "4\n",
      "5\n",
      "6\n"
     ]
    }
   ],
   "execution_count": 2
  }
 ],
 "metadata": {},
 "nbformat": 4,
 "nbformat_minor": 5
}
