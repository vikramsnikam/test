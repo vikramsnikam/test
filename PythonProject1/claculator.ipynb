{
 "cells": [
  {
   "metadata": {
    "ExecuteTime": {
     "end_time": "2025-07-30T16:35:43.833271Z",
     "start_time": "2025-07-30T16:35:26.492017Z"
    }
   },
   "cell_type": "code",
   "source": [
    "print('calculator using function')\n",
    "def add(a,b):\n",
    "     print(float(a) + float(b))\n",
    "def sub(a,b):\n",
    "    print(float(a) - float(b))\n",
    "def mult(a,b):\n",
    "    print(float(a) * float(b))\n",
    "def div(a,b):\n",
    "    print(float(a) / float(b))\n",
    "def power(a,b):\n",
    "    print(float(a) **float(b))\n",
    "a = input('enter a number')\n",
    "b = input('enter a second number')\n",
    "c = input('enter a operation')\n",
    "\n",
    "if c=='+':\n",
    "    add(a,b)\n",
    "if c=='-':\n",
    "    sub(a,b)\n",
    "if c=='*':\n",
    "    mult(a,b)\n",
    "if c=='/':\n",
    "    div(a,b)\n",
    "if c=='**':\n",
    "    power(a,b)\n"
   ],
   "id": "b1e68c618d7803fa",
   "outputs": [
    {
     "name": "stdout",
     "output_type": "stream",
     "text": [
      "calculator using function\n",
      "445.0\n"
     ]
    }
   ],
   "execution_count": 2
  },
  {
   "metadata": {},
   "cell_type": "code",
   "outputs": [],
   "execution_count": null,
   "source": [
    "\n",
    "\n",
    "def add(a, b):\n",
    "    print(float(a) + float(b))\n",
    "    user()\n",
    "\n",
    "\n",
    "def sub(a, b):\n",
    "    print(float(a) - float(b))\n",
    "    user()\n",
    "\n",
    "\n",
    "def mult(a, b):\n",
    "    print(float(a) * float(b))\n",
    "    user()\n",
    "\n",
    "\n",
    "def div(a, b):\n",
    "    print(float(a) / float(b))\n",
    "    user()\n",
    "\n",
    "\n",
    "def power(a, b):\n",
    "    print(float(a) ** float(b))\n",
    "    user()\n",
    "\n",
    "def user():\n",
    "    a = input('enter a number')\n",
    "    b = input('enter a second number')\n",
    "    c = input('enter a operation')\n",
    "\n",
    "    if c == '+':\n",
    "       add(a, b)\n",
    "    if c == '-':\n",
    "       sub(a, b)\n",
    "    if c == '*':\n",
    "       mult(a, b)\n",
    "    if c == '/':\n",
    "       div(a, b)\n",
    "    if c == '**':\n",
    "       power(a, b)\n",
    "user()"
   ],
   "id": "cf2326022217c697"
  }
 ],
 "metadata": {},
 "nbformat": 4,
 "nbformat_minor": 5
}
