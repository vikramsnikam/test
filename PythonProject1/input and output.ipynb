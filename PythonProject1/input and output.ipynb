{
 "cells": [
  {
   "metadata": {
    "ExecuteTime": {
     "end_time": "2025-07-30T16:15:53.060280Z",
     "start_time": "2025-07-30T16:15:53.048899Z"
    }
   },
   "cell_type": "code",
   "source": [
    "'''output/end'''\n",
    "'''space between comma affect output'''\n",
    "print('hello',end=' ' )\n",
    "print('world')\n",
    "print ('hello',end='                  ')\n",
    "print('world')"
   ],
   "id": "d42956ab408738c1",
   "outputs": [
    {
     "name": "stdout",
     "output_type": "stream",
     "text": [
      "hello world\n",
      "hello                  world\n"
     ]
    }
   ],
   "execution_count": 5
  },
  {
   "metadata": {
    "ExecuteTime": {
     "end_time": "2025-07-30T16:20:36.728913Z",
     "start_time": "2025-07-30T16:20:36.710913Z"
    }
   },
   "cell_type": "code",
   "source": [
    "'''output/sep'''\n",
    "'''space between comma affect output'''\n",
    "print('ajay',\"vijay \", 123, sep='/')\n",
    "print('ajay',\"vijay \", 123, sep='/         ')\n",
    "\n",
    "'''can be used for loop without joining'''\n",
    "for i in range(8):\n",
    "    print(i, end=' ')\n",
    "\n"
   ],
   "id": "8616f175e03f1f8b",
   "outputs": [
    {
     "name": "stdout",
     "output_type": "stream",
     "text": [
      "ajay/vijay /123\n",
      "ajay/         vijay /         123\n",
      "0 1 2 3 4 5 6 7 "
     ]
    }
   ],
   "execution_count": 11
  },
  {
   "metadata": {
    "ExecuteTime": {
     "end_time": "2025-07-30T16:20:50.507688Z",
     "start_time": "2025-07-30T16:20:50.485693Z"
    }
   },
   "cell_type": "code",
   "source": [
    "\n",
    "a='ajay'+ 'vijay'\n",
    "print(a)"
   ],
   "id": "efb54b0f73f4931c",
   "outputs": [
    {
     "name": "stdout",
     "output_type": "stream",
     "text": [
      "ajayvijay\n"
     ]
    }
   ],
   "execution_count": 12
  },
  {
   "metadata": {
    "ExecuteTime": {
     "end_time": "2025-07-30T16:21:20.773281Z",
     "start_time": "2025-07-30T16:21:14.554014Z"
    }
   },
   "cell_type": "code",
   "source": [
    "'''input'''\n",
    "\n",
    "a=input('enter a number')\n",
    "b=input('enter a second number')\n",
    "print(a)\n",
    "print(b)\n",
    "print('result is',a+b)\n",
    "\n",
    "print('result is ',int(a)+int(b))"
   ],
   "id": "57777c552c5ae791",
   "outputs": [
    {
     "name": "stdout",
     "output_type": "stream",
     "text": [
      "4\n",
      "5\n",
      "result is 45\n",
      "result is  9\n"
     ]
    }
   ],
   "execution_count": 13
  }
 ],
 "metadata": {},
 "nbformat": 4,
 "nbformat_minor": 5
}
