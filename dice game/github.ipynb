{
 "cells": [
  {
   "cell_type": "code",
   "id": "initial_id",
   "metadata": {
    "collapsed": true,
    "ExecuteTime": {
     "end_time": "2025-09-17T09:56:55.534411Z",
     "start_time": "2025-09-17T09:56:55.526561Z"
    }
   },
   "source": [
    "print('hello world')\n",
    "print('calculator using function')\n",
    "def add(a,b):\n",
    "     print(float(a) + float(b))\n",
    "def sub(a,b):\n",
    "    print(float(a) - float(b))\n",
    "def mult(a,b):\n",
    "    print(float(a) * float(b))\n",
    "def div(a,b):\n",
    "    print(float(a) / float(b))\n",
    "def power(a,b):\n",
    "    print(float(a) **float(b))\n",
    "a = input('enter a number')\n",
    "b = input('enter a second number')\n",
    "c = input('enter a operation')\n",
    "\n",
    "if c=='+':\n",
    "    add(a,b)\n",
    "if c=='-':\n",
    "    sub(a,b)\n",
    "if c=='*':\n",
    "    mult(a,b)\n",
    "if c=='/':\n",
    "    div(a,b)\n",
    "if c=='**':\n",
    "    power(a,b)\n"
   ],
   "outputs": [
    {
     "name": "stdout",
     "output_type": "stream",
     "text": [
      "hello world\n"
     ]
    }
   ],
   "execution_count": 1
  }
 ],
 "metadata": {
  "kernelspec": {
   "display_name": "Python 3",
   "language": "python",
   "name": "python3"
  },
  "language_info": {
   "codemirror_mode": {
    "name": "ipython",
    "version": 2
   },
   "file_extension": ".py",
   "mimetype": "text/x-python",
   "name": "python",
   "nbconvert_exporter": "python",
   "pygments_lexer": "ipython2",
   "version": "2.7.6"
  }
 },
 "nbformat": 4,
 "nbformat_minor": 5
}
