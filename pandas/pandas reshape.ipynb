{
 "cells": [
  {
   "cell_type": "code",
   "id": "initial_id",
   "metadata": {
    "collapsed": true,
    "ExecuteTime": {
     "end_time": "2025-08-06T11:01:21.926157Z",
     "start_time": "2025-08-06T11:01:21.903440Z"
    }
   },
   "source": [
    "import pandas as pd\n",
    "'''pivot'''\n",
    "a = {'Date': ['2023-08-01', '2023-08-01', '2023-08-02', '2023-08-02'],\n",
    "        'Category': ['A', 'B', 'A', 'B'],\n",
    "        'Value': [10, 20, 30, 40]}\n",
    "a1 = pd.DataFrame(a)\n",
    "\n",
    "print(\"Original Dataframe:\\n\", a1)\n",
    "\n",
    "# pivot the  DataFrame\n",
    "pivot_a1 = a1.pivot(index='Date', columns='Category', values='Value')\n",
    "print(\"Reshaped DataFrame:\\n\", pivot_a1)"
   ],
   "outputs": [
    {
     "name": "stdout",
     "output_type": "stream",
     "text": [
      "Original Dataframe:\n",
      "          Date Category  Value\n",
      "0  2023-08-01        A     10\n",
      "1  2023-08-01        B     20\n",
      "2  2023-08-02        A     30\n",
      "3  2023-08-02        B     40\n",
      "Reshaped DataFrame:\n",
      " Category     A   B\n",
      "Date              \n",
      "2023-08-01  10  20\n",
      "2023-08-02  30  40\n"
     ]
    }
   ],
   "execution_count": 3
  },
  {
   "metadata": {
    "ExecuteTime": {
     "end_time": "2025-08-06T11:03:05.211238Z",
     "start_time": "2025-08-06T11:03:05.188790Z"
    }
   },
   "cell_type": "code",
   "source": [
    "b = {'Category': ['A', 'B', 'A', 'B', 'A', 'B'],\n",
    "        'Value': [10, 20, 30, 40, 50, 60]}\n",
    "b1 = pd.DataFrame(b)\n",
    "print(\"Original Dataframe:\\n\", b1)\n",
    "\n",
    "# create a pivot table will give mean of index\n",
    "pivot_table_b1 = b1.pivot_table(index='Category', values='Value', aggfunc='mean')\n",
    "print(\"Reshaped Dataframe:\\n\", pivot_table_b1)"
   ],
   "id": "f7b64f7b3c140d24",
   "outputs": [
    {
     "name": "stdout",
     "output_type": "stream",
     "text": [
      "Original Dataframe:\n",
      "   Category  Value\n",
      "0        A     10\n",
      "1        B     20\n",
      "2        A     30\n",
      "3        B     40\n",
      "4        A     50\n",
      "5        B     60\n",
      "Reshaped Dataframe:\n",
      "           Value\n",
      "Category       \n",
      "A          30.0\n",
      "B          40.0\n"
     ]
    }
   ],
   "execution_count": 6
  },
  {
   "metadata": {
    "ExecuteTime": {
     "end_time": "2025-08-06T11:09:35.299616Z",
     "start_time": "2025-08-06T11:09:35.267648Z"
    }
   },
   "cell_type": "code",
   "source": [
    "'''stack and unstack'''\n",
    "import pandas as pd\n",
    "\n",
    "# create a DataFrame\n",
    "c = {'Date': ['2023-08-01', '2023-08-02'],\n",
    "        'Category_A': [10, 20],\n",
    "        'Category_B': [30, 40]}\n",
    "df = pd.DataFrame(c)\n",
    "print(\"Original Dataframe:\\n\", df)\n",
    "\n",
    "# set 'Date' column as the index\n",
    "df.set_index('Date', inplace=True)\n",
    "print(\"index Dataframe:\\n\", df)\n",
    "# stack the columns into rows\n",
    "stacked_df = df.stack()\n",
    "print(\"Stack:\\n\", stacked_df)\n",
    "print()\n",
    "\n",
    "# unstack the rows back to columns\n",
    "unstacked_df = stacked_df.unstack()\n",
    "print(\"Unstack: \\n\", unstacked_df)"
   ],
   "id": "18c214815cc8bdd0",
   "outputs": [
    {
     "name": "stdout",
     "output_type": "stream",
     "text": [
      "Original Dataframe:\n",
      "          Date  Category_A  Category_B\n",
      "0  2023-08-01          10          30\n",
      "1  2023-08-02          20          40\n",
      "index Dataframe:\n",
      "             Category_A  Category_B\n",
      "Date                              \n",
      "2023-08-01          10          30\n",
      "2023-08-02          20          40\n",
      "Stack:\n",
      " Date                  \n",
      "2023-08-01  Category_A    10\n",
      "            Category_B    30\n",
      "2023-08-02  Category_A    20\n",
      "            Category_B    40\n",
      "dtype: int64\n",
      "\n",
      "Unstack: \n",
      "             Category_A  Category_B\n",
      "Date                              \n",
      "2023-08-01          10          30\n",
      "2023-08-02          20          40\n"
     ]
    }
   ],
   "execution_count": 11
  },
  {
   "metadata": {
    "ExecuteTime": {
     "end_time": "2025-08-06T11:22:56.215871Z",
     "start_time": "2025-08-06T11:22:56.178517Z"
    }
   },
   "cell_type": "code",
   "source": [
    "'''melt'''\n",
    "import pandas as pd\n",
    "\n",
    "k = {'Name': ['Alice', 'Bob'],\n",
    "        'Math': [90, 85],\n",
    "        'History': [75, 92]}\n",
    "k1 = pd.DataFrame(k)\n",
    "print(\"Original Dataframe:\\n\", k1)\n",
    "print()\n",
    "print('melt the DataFrame')\n",
    "melted_k1 = pd.melt(k1, id_vars='Name', var_name='Subject', value_name='Score')\n",
    "\n",
    "print(melted_k1)\n",
    "'''jjj'''"
   ],
   "id": "83cc1365ef71c91f",
   "outputs": [
    {
     "name": "stdout",
     "output_type": "stream",
     "text": [
      "Original Dataframe:\n",
      "     Name  Math  History\n",
      "0  Alice    90       75\n",
      "1    Bob    85       92\n",
      "\n",
      "melt the DataFrame\n"
     ]
    },
    {
     "data": {
      "text/plain": [
       "'jjj'"
      ]
     },
     "execution_count": 16,
     "metadata": {},
     "output_type": "execute_result"
    }
   ],
   "execution_count": 16
  }
 ],
 "metadata": {
  "kernelspec": {
   "display_name": "Python 3",
   "language": "python",
   "name": "python3"
  },
  "language_info": {
   "codemirror_mode": {
    "name": "ipython",
    "version": 2
   },
   "file_extension": ".py",
   "mimetype": "text/x-python",
   "name": "python",
   "nbconvert_exporter": "python",
   "pygments_lexer": "ipython2",
   "version": "2.7.6"
  }
 },
 "nbformat": 4,
 "nbformat_minor": 5
}
