{
 "cells": [
  {
   "cell_type": "code",
   "id": "initial_id",
   "metadata": {
    "collapsed": true,
    "ExecuteTime": {
     "end_time": "2025-08-05T09:20:44.928941Z",
     "start_time": "2025-08-05T09:20:44.904756Z"
    }
   },
   "source": [
    "import pandas as pd\n",
    "print('panda head')\n",
    "data = {'Name': ['John', 'Alice', 'Bob', 'Emma', 'Mike', 'Sarah', 'David', 'Linda', 'Tom', 'Emily'],\n",
    "        'Age': [25, 30, 35, 28, 32, 27, 40, 33, 29, 31],\n",
    "        'City': ['New York', 'Paris', 'London', 'Sydney', 'Tokyo', 'Berlin', 'Rome', 'Madrid', 'Toronto', 'Moscow']}\n",
    "a=pd.DataFrame(data)\n",
    "print(a)\n",
    "r1=a.head(3)\n",
    "print('first 3 row',r1)\n",
    "r2=a.head()\n",
    "print('default row',r2)#first 5 row\n",
    "\n",
    "\n",
    "\n",
    "\n"
   ],
   "outputs": [
    {
     "name": "stdout",
     "output_type": "stream",
     "text": [
      "panda head\n",
      "    Name  Age      City\n",
      "0   John   25  New York\n",
      "1  Alice   30     Paris\n",
      "2    Bob   35    London\n",
      "3   Emma   28    Sydney\n",
      "4   Mike   32     Tokyo\n",
      "5  Sarah   27    Berlin\n",
      "6  David   40      Rome\n",
      "7  Linda   33    Madrid\n",
      "8    Tom   29   Toronto\n",
      "9  Emily   31    Moscow\n",
      "first 3 row     Name  Age      City\n",
      "0   John   25  New York\n",
      "1  Alice   30     Paris\n",
      "2    Bob   35    London\n",
      "default row     Name  Age      City\n",
      "0   John   25  New York\n",
      "1  Alice   30     Paris\n",
      "2    Bob   35    London\n",
      "3   Emma   28    Sydney\n",
      "4   Mike   32     Tokyo\n"
     ]
    }
   ],
   "execution_count": 5
  },
  {
   "metadata": {
    "ExecuteTime": {
     "end_time": "2025-08-05T09:21:27.818099Z",
     "start_time": "2025-08-05T09:21:27.798954Z"
    }
   },
   "cell_type": "code",
   "source": [
    "print('panda tail')\n",
    "r3=a.tail(3)\n",
    "print('last 3 row',r3)\n",
    "r4=a.tail()\n",
    "print('default row',r4)#last 5 row"
   ],
   "id": "2325bd95f4696a0c",
   "outputs": [
    {
     "name": "stdout",
     "output_type": "stream",
     "text": [
      "panda tail\n",
      "last 3 row     Name  Age     City\n",
      "7  Linda   33   Madrid\n",
      "8    Tom   29  Toronto\n",
      "9  Emily   31   Moscow\n",
      "default row     Name  Age     City\n",
      "5  Sarah   27   Berlin\n",
      "6  David   40     Rome\n",
      "7  Linda   33   Madrid\n",
      "8    Tom   29  Toronto\n",
      "9  Emily   31   Moscow\n"
     ]
    }
   ],
   "execution_count": 7
  },
  {
   "metadata": {
    "ExecuteTime": {
     "end_time": "2025-08-05T09:25:28.877780Z",
     "start_time": "2025-08-05T09:25:28.847165Z"
    }
   },
   "cell_type": "code",
   "source": [
    "'''data frame info gives information about data frame'''\n",
    "a.info()"
   ],
   "id": "32972ad6a5490ae",
   "outputs": [
    {
     "name": "stdout",
     "output_type": "stream",
     "text": [
      "<class 'pandas.core.frame.DataFrame'>\n",
      "RangeIndex: 10 entries, 0 to 9\n",
      "Data columns (total 3 columns):\n",
      " #   Column  Non-Null Count  Dtype \n",
      "---  ------  --------------  ----- \n",
      " 0   Name    10 non-null     object\n",
      " 1   Age     10 non-null     int64 \n",
      " 2   City    10 non-null     object\n",
      "dtypes: int64(1), object(2)\n",
      "memory usage: 372.0+ bytes\n"
     ]
    }
   ],
   "execution_count": 9
  },
  {
   "metadata": {
    "ExecuteTime": {
     "end_time": "2025-08-05T09:31:21.231355Z",
     "start_time": "2025-08-05T09:31:21.196846Z"
    }
   },
   "cell_type": "code",
   "source": [
    "''''adding dataframe columns'''\n",
    "d = {'Name': ['John', 'Emma', 'Michael', 'Sophia'],\n",
    "        'Height': [5.5, 6.0, 5.8, 5.3],\n",
    "        'Qualification': ['BSc', 'BBA', 'MBA', 'BSc']}\n",
    "d1 = pd.DataFrame(d)\n",
    "'''create new list '''\n",
    "address=['london', 'paris', 'sydney', 'tokyo']\n",
    "'''assigned new column'''\n",
    "d1['Address']=address\n",
    "print(d1)"
   ],
   "id": "626c90c88f67388e",
   "outputs": [
    {
     "name": "stdout",
     "output_type": "stream",
     "text": [
      "      Name  Height Qualification Address\n",
      "0     John     5.5           BSc  london\n",
      "1     Emma     6.0           BBA   paris\n",
      "2  Michael     5.8           MBA  sydney\n",
      "3   Sophia     5.3           BSc   tokyo\n"
     ]
    }
   ],
   "execution_count": 12
  },
  {
   "metadata": {
    "ExecuteTime": {
     "end_time": "2025-08-05T09:45:44.493767Z",
     "start_time": "2025-08-05T09:45:44.467152Z"
    }
   },
   "cell_type": "code",
   "source": [
    "d2=pd.DataFrame(d)\n",
    "print('original data')\n",
    "print(d2)\n",
    "print('no of row')\n",
    "print(len(d2.index))\n",
    "d2.loc[len(d2.index)]=['amy',5.2,'BIT']\n",
    "print('modified data')\n",
    "'''if yoy know no of row '''\n",
    "print(d2)\n",
    "d2.loc[6]=['aj',5.7,'BA']\n",
    "print(d2)\n"
   ],
   "id": "48bdc19a79d3f861",
   "outputs": [
    {
     "name": "stdout",
     "output_type": "stream",
     "text": [
      "original data\n",
      "      Name  Height Qualification\n",
      "0     John     5.5           BSc\n",
      "1     Emma     6.0           BBA\n",
      "2  Michael     5.8           MBA\n",
      "3   Sophia     5.3           BSc\n",
      "no of row\n",
      "4\n",
      "modified data\n",
      "      Name  Height Qualification\n",
      "0     John     5.5           BSc\n",
      "1     Emma     6.0           BBA\n",
      "2  Michael     5.8           MBA\n",
      "3   Sophia     5.3           BSc\n",
      "4      amy     5.2           BIT\n",
      "      Name  Height Qualification\n",
      "0     John     5.5           BSc\n",
      "1     Emma     6.0           BBA\n",
      "2  Michael     5.8           MBA\n",
      "3   Sophia     5.3           BSc\n",
      "4      amy     5.2           BIT\n",
      "6       aj     5.7            BA\n"
     ]
    }
   ],
   "execution_count": 27
  },
  {
   "metadata": {
    "ExecuteTime": {
     "end_time": "2025-08-05T09:58:16.601195Z",
     "start_time": "2025-08-05T09:58:16.570109Z"
    }
   },
   "cell_type": "code",
   "source": [
    "k = {'Name': ['Alice', 'Bob', 'Charlie', 'David', 'Felipe', 'Rita'],\n",
    "        'Age': [25, 30, 35, 40, 22, 29],\n",
    "        'City': ['New York', 'London', 'Paris', 'Tokyo', 'Bogota', 'Banglore']}\n",
    "k1= pd.DataFrame(k)\n",
    "print(\"Original DataFrame:\")\n",
    "print(k1)\n",
    "print()\n",
    "\n",
    "# delete row with index 4\n",
    "k1.drop(4, axis=0, inplace=True)\n",
    "print('modified data')\n",
    "print(k1)\n",
    "'''another method'''\n",
    "#  delete row with index 5\n",
    "k1.drop(index=5, inplace=True)\n",
    "print('modified data 1')\n",
    "print(k1)\n",
    "'''multiple row deleting'''\n",
    "# delete rows with index 1 and 3\n",
    "k1.drop([1, 3], axis=0, inplace=True)\n",
    "print(\"Modified DataFrame:\")\n",
    "print(k1)\n",
    "'''False if yoy want to make copy, True will change same data'''\n",
    "k2=k1.drop(2, axis=0, inplace=False)\n",
    "print('modified data 2')\n",
    "print(k2)"
   ],
   "id": "a596a763eb803db2",
   "outputs": [
    {
     "name": "stdout",
     "output_type": "stream",
     "text": [
      "Original DataFrame:\n",
      "      Name  Age      City\n",
      "0    Alice   25  New York\n",
      "1      Bob   30    London\n",
      "2  Charlie   35     Paris\n",
      "3    David   40     Tokyo\n",
      "4   Felipe   22    Bogota\n",
      "5     Rita   29  Banglore\n",
      "\n",
      "modified data\n",
      "      Name  Age      City\n",
      "0    Alice   25  New York\n",
      "1      Bob   30    London\n",
      "2  Charlie   35     Paris\n",
      "3    David   40     Tokyo\n",
      "5     Rita   29  Banglore\n",
      "modified data 1\n",
      "      Name  Age      City\n",
      "0    Alice   25  New York\n",
      "1      Bob   30    London\n",
      "2  Charlie   35     Paris\n",
      "3    David   40     Tokyo\n",
      "Modified DataFrame:\n",
      "      Name  Age      City\n",
      "0    Alice   25  New York\n",
      "1      Bob   30    London\n",
      "2  Charlie   35     Paris\n",
      "3    David   40     Tokyo\n",
      "modified data 2\n",
      "    Name  Age      City\n",
      "0  Alice   25  New York\n",
      "1    Bob   30    London\n",
      "3  David   40     Tokyo\n"
     ]
    }
   ],
   "execution_count": 38
  },
  {
   "metadata": {
    "ExecuteTime": {
     "end_time": "2025-08-05T10:06:14.558974Z",
     "start_time": "2025-08-05T10:06:14.533758Z"
    }
   },
   "cell_type": "code",
   "source": [
    "x = {'Name': ['Alice', 'Bob', 'Charlie', 'David'],\n",
    "        'Age': [25, 30, 35, 40],\n",
    "        'City': ['New York', 'London', 'Paris', 'Tokyo'],\n",
    "        'Height': ['165', '178', '185', '171'],\n",
    "        'Profession': ['Engineer', 'Entrepreneur', 'Unemployed', 'Actor'],\n",
    "        'Marital Status': ['Single', 'Married', 'Divorced', 'Engaged']}\n",
    "x1 = pd.DataFrame(x)\n",
    "print(\"Original DataFrame:\")\n",
    "print(x1)\n",
    "print()\n",
    "\n",
    "x1.drop('Age', axis=1, inplace=True)\n",
    "\n",
    "# delete marital status column\n",
    "x1.drop(columns='Marital Status', inplace=True)\n",
    "'''multiple column deleting'''\n",
    "# delete height and profession columns\n",
    "x1.drop(['Height', 'Profession'], axis=1, inplace=True)\n",
    "\n",
    "print(\"Modified DataFrame:\")\n",
    "print(x1)"
   ],
   "id": "567533219431a765",
   "outputs": [
    {
     "name": "stdout",
     "output_type": "stream",
     "text": [
      "Original DataFrame:\n",
      "      Name  Age      City Height    Profession Marital Status\n",
      "0    Alice   25  New York    165      Engineer         Single\n",
      "1      Bob   30    London    178  Entrepreneur        Married\n",
      "2  Charlie   35     Paris    185    Unemployed       Divorced\n",
      "3    David   40     Tokyo    171         Actor        Engaged\n",
      "\n",
      "Modified DataFrame:\n",
      "      Name      City\n",
      "0    Alice  New York\n",
      "1      Bob    London\n",
      "2  Charlie     Paris\n",
      "3    David     Tokyo\n"
     ]
    }
   ],
   "execution_count": 41
  },
  {
   "metadata": {
    "ExecuteTime": {
     "end_time": "2025-08-05T10:11:07.068443Z",
     "start_time": "2025-08-05T10:11:07.051069Z"
    }
   },
   "cell_type": "code",
   "source": [
    "x2=pd.DataFrame(x)\n",
    "print(\"Original DataFrame:\")\n",
    "print(x2)\n",
    "'''renaming single index'''\n",
    "x2.rename(index={0:7}, inplace=True)\n",
    "print(\"Modified DataFrame:\")\n",
    "print(x2)\n",
    "'''multiple index renaming'''\n",
    "x2.rename(mapper={1:'nn',2:100}, inplace=True)\n",
    "print(\"Modified DataFrame:\")\n",
    "print(x2)\n"
   ],
   "id": "20a36cdc88ae76fc",
   "outputs": [
    {
     "name": "stdout",
     "output_type": "stream",
     "text": [
      "Original DataFrame:\n",
      "      Name  Age      City Height    Profession Marital Status\n",
      "0    Alice   25  New York    165      Engineer         Single\n",
      "1      Bob   30    London    178  Entrepreneur        Married\n",
      "2  Charlie   35     Paris    185    Unemployed       Divorced\n",
      "3    David   40     Tokyo    171         Actor        Engaged\n",
      "Modified DataFrame:\n",
      "      Name  Age      City Height    Profession Marital Status\n",
      "7    Alice   25  New York    165      Engineer         Single\n",
      "1      Bob   30    London    178  Entrepreneur        Married\n",
      "2  Charlie   35     Paris    185    Unemployed       Divorced\n",
      "3    David   40     Tokyo    171         Actor        Engaged\n",
      "Modified DataFrame:\n",
      "        Name  Age      City Height    Profession Marital Status\n",
      "7      Alice   25  New York    165      Engineer         Single\n",
      "nn       Bob   30    London    178  Entrepreneur        Married\n",
      "100  Charlie   35     Paris    185    Unemployed       Divorced\n",
      "3      David   40     Tokyo    171         Actor        Engaged\n"
     ]
    }
   ],
   "execution_count": 44
  }
 ],
 "metadata": {
  "kernelspec": {
   "display_name": "Python 3",
   "language": "python",
   "name": "python3"
  },
  "language_info": {
   "codemirror_mode": {
    "name": "ipython",
    "version": 2
   },
   "file_extension": ".py",
   "mimetype": "text/x-python",
   "name": "python",
   "nbconvert_exporter": "python",
   "pygments_lexer": "ipython2",
   "version": "2.7.6"
  }
 },
 "nbformat": 4,
 "nbformat_minor": 5
}
