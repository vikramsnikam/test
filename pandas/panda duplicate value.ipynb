{
 "cells": [
  {
   "cell_type": "code",
   "id": "initial_id",
   "metadata": {
    "collapsed": true,
    "ExecuteTime": {
     "end_time": "2025-08-06T11:27:27.940255Z",
     "start_time": "2025-08-06T11:27:27.920053Z"
    }
   },
   "source": [
    "import pandas as pd\n",
    "a=  {\n",
    "    'Name': ['John', 'Anna', 'John', 'Anna', 'John'],\n",
    "    'Age': [28, 24, 28, 24, 19],\n",
    "    'City': ['New York', 'Los Angeles', 'New York', 'Los Angeles', 'Chicago']\n",
    "}\n",
    "a1 = pd.DataFrame(a)\n",
    "print(a1)\n",
    "print()\n",
    "\n",
    "# check for duplicate entries\n",
    "print(a1.duplicated())\n",
    "'''third john in false because different age and city'''"
   ],
   "outputs": [
    {
     "name": "stdout",
     "output_type": "stream",
     "text": [
      "   Name  Age         City\n",
      "0  John   28     New York\n",
      "1  Anna   24  Los Angeles\n",
      "2  John   28     New York\n",
      "3  Anna   24  Los Angeles\n",
      "4  John   19      Chicago\n",
      "\n",
      "0    False\n",
      "1    False\n",
      "2     True\n",
      "3     True\n",
      "4    False\n",
      "dtype: bool\n"
     ]
    },
    {
     "data": {
      "text/plain": [
       "'third john in false because different age and city'"
      ]
     },
     "execution_count": 7,
     "metadata": {},
     "output_type": "execute_result"
    }
   ],
   "execution_count": 7
  },
  {
   "metadata": {
    "ExecuteTime": {
     "end_time": "2025-08-06T11:28:31.553148Z",
     "start_time": "2025-08-06T11:28:31.543755Z"
    }
   },
   "cell_type": "code",
   "source": [
    "'''duplicate based on column'''\n",
    "print(a1.duplicated(['Age', 'Name']))"
   ],
   "id": "5c8e23823bcbf7bb",
   "outputs": [
    {
     "name": "stdout",
     "output_type": "stream",
     "text": [
      "0    False\n",
      "1    False\n",
      "2     True\n",
      "3     True\n",
      "4    False\n",
      "dtype: bool\n"
     ]
    }
   ],
   "execution_count": 12
  },
  {
   "metadata": {
    "ExecuteTime": {
     "end_time": "2025-08-06T11:31:59.347027Z",
     "start_time": "2025-08-06T11:31:59.335541Z"
    }
   },
   "cell_type": "code",
   "source": [
    "'''removing duplicate value'''\n",
    "a1.drop_duplicates( inplace=True)\n",
    "print(a1)"
   ],
   "id": "45df05ca92706f52",
   "outputs": [
    {
     "name": "stdout",
     "output_type": "stream",
     "text": [
      "   Name  Age         City\n",
      "0  John   28     New York\n",
      "1  Anna   24  Los Angeles\n",
      "4  John   19      Chicago\n"
     ]
    }
   ],
   "execution_count": 20
  },
  {
   "metadata": {
    "ExecuteTime": {
     "end_time": "2025-08-06T11:32:54.264872Z",
     "start_time": "2025-08-06T11:32:54.249346Z"
    }
   },
   "cell_type": "code",
   "source": [
    "'''keeping second duplicate value'''\n",
    "b1=pd.DataFrame(a)\n",
    "b1.drop_duplicates(keep='last',inplace=True)\n",
    "print(b1)"
   ],
   "id": "7d882d1dd7e07a59",
   "outputs": [
    {
     "name": "stdout",
     "output_type": "stream",
     "text": [
      "   Name  Age         City\n",
      "2  John   28     New York\n",
      "3  Anna   24  Los Angeles\n",
      "4  John   19      Chicago\n"
     ]
    }
   ],
   "execution_count": 22
  },
  {
   "metadata": {},
   "cell_type": "code",
   "outputs": [],
   "execution_count": null,
   "source": "",
   "id": "628807f225853d17"
  }
 ],
 "metadata": {
  "kernelspec": {
   "display_name": "Python 3",
   "language": "python",
   "name": "python3"
  },
  "language_info": {
   "codemirror_mode": {
    "name": "ipython",
    "version": 2
   },
   "file_extension": ".py",
   "mimetype": "text/x-python",
   "name": "python",
   "nbconvert_exporter": "python",
   "pygments_lexer": "ipython2",
   "version": "2.7.6"
  }
 },
 "nbformat": 4,
 "nbformat_minor": 5
}
