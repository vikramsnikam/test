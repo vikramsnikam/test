{
 "cells": [
  {
   "cell_type": "code",
   "id": "87118ccf9e908ee1",
   "metadata": {
    "ExecuteTime": {
     "end_time": "2025-08-12T12:28:40.825683Z",
     "start_time": "2025-08-12T12:28:40.798561Z"
    }
   },
   "source": [
    "from plotly.figure_factory._violin import pd\n",
    "\n",
    "import pandas as\n",
    "'''Dummy variables exhibit binary values, exclusively 0 or 1.\n",
    "\n",
    "For some data, each item can only belong to one category. For example, a car can be red or blue, but not both at the same time.\n",
    "\n",
    "However, some data can belong to more than one category. Like a movie that's both action and comedy.'''"
   ],
   "outputs": [
    {
     "ename": "SyntaxError",
     "evalue": "invalid syntax (3666966023.py, line 1)",
     "output_type": "error",
     "traceback": [
      "  \u001B[36mCell\u001B[39m\u001B[36m \u001B[39m\u001B[32mIn[21]\u001B[39m\u001B[32m, line 1\u001B[39m\n\u001B[31m    \u001B[39m\u001B[31mimport pandas as\u001B[39m\n                    ^\n\u001B[31mSyntaxError\u001B[39m\u001B[31m:\u001B[39m invalid syntax\n"
     ]
    }
   ],
   "execution_count": 21
  },
  {
   "metadata": {
    "ExecuteTime": {
     "end_time": "2025-08-12T12:28:40.833703100Z",
     "start_time": "2025-08-12T12:16:06.255550Z"
    }
   },
   "cell_type": "code",
   "source": [
    "\"\"\"here o replaced by false and 1 by True\"\"\"\n",
    "# create a Panda Series\n",
    "a = pd.Series(['A', 'B', 'A', 'C', 'B','D'])\n",
    "\n",
    "# using get_dummies on the Series\n",
    "dummies = pd.get_dummies(a)\n",
    "print(dummies)"
   ],
   "id": "initial_id",
   "outputs": [
    {
     "name": "stdout",
     "output_type": "stream",
     "text": [
      "       A      B      C      D\n",
      "0   True  False  False  False\n",
      "1  False   True  False  False\n",
      "2   True  False  False  False\n",
      "3  False  False   True  False\n",
      "4  False   True  False  False\n",
      "5  False  False  False   True\n"
     ]
    }
   ],
   "execution_count": 8
  },
  {
   "metadata": {
    "ExecuteTime": {
     "end_time": "2025-08-12T12:28:40.840937900Z",
     "start_time": "2025-08-12T12:27:31.927725Z"
    }
   },
   "cell_type": "code",
   "source": [
    "'''dummies on dataframe'''\n",
    "b = {'Color': ['Red', 'Green', 'Blue', 'Green', 'Red']}\n",
    "b1 = pd.DataFrame(b)\n",
    "\n",
    "# using get_dummies to convert the categorical column\n",
    "dummies = pd.get_dummies(b1['Color'])\n",
    "\n",
    "# concatenating the dummies DataFrame with the original DataFrame\n",
    "b1 = pd.concat([b1, dummies], axis=1)\n",
    "\n",
    "print(b1)\n"
   ],
   "id": "6bcbed68e88d7254",
   "outputs": [
    {
     "name": "stdout",
     "output_type": "stream",
     "text": [
      "   Color   Blue  Green    Red\n",
      "0    Red  False  False   True\n",
      "1  Green  False   True  False\n",
      "2   Blue   True  False  False\n",
      "3  Green  False   True  False\n",
      "4    Red  False  False   True\n"
     ]
    }
   ],
   "execution_count": 17
  },
  {
   "metadata": {
    "ExecuteTime": {
     "end_time": "2025-08-12T12:30:05.603213Z",
     "start_time": "2025-08-12T12:30:05.592443Z"
    }
   },
   "cell_type": "code",
   "source": [
    "b2=pd.DataFrame(b)\n",
    "# getting dummies and dropping the first category column ('Blue' in this case)\n",
    "dummies1 = pd.get_dummies(b2['Color'], drop_first=True)\n",
    "\n",
    "# concatenating the dummies DataFrame with the original DataFrame\n",
    "b2 = pd.concat([b2, dummies1], axis=1)\n",
    "\n",
    "print(\"DataFrame after dropping 'Blue':\")\n",
    "print(b2)"
   ],
   "id": "3e7c975e595ec3bd",
   "outputs": [
    {
     "name": "stdout",
     "output_type": "stream",
     "text": [
      "DataFrame after dropping 'Blue':\n",
      "   Color  Green    Red\n",
      "0    Red  False   True\n",
      "1  Green   True  False\n",
      "2   Blue  False  False\n",
      "3  Green   True  False\n",
      "4    Red  False   True\n"
     ]
    }
   ],
   "execution_count": 23
  },
  {
   "metadata": {
    "ExecuteTime": {
     "end_time": "2025-08-12T12:33:46.390765Z",
     "start_time": "2025-08-12T12:33:46.358884Z"
    }
   },
   "cell_type": "code",
   "source": [
    "'''We can use the prefix parameter inside the get_dummies() function to specify a prefix for the dummy variables created from a DataFrame column.'''\n",
    "b3=pd.DataFrame(b)\n",
    "dummies2 = pd.get_dummies(b3['Color'],prefix='car')\n",
    "b3 = pd.concat([b3, dummies2], axis=1)\n",
    "print(b3)"
   ],
   "id": "23ff838c924b9a9b",
   "outputs": [
    {
     "name": "stdout",
     "output_type": "stream",
     "text": [
      "   Color  car_Blue  car_Green  car_Red\n",
      "0    Red     False      False     True\n",
      "1  Green     False       True    False\n",
      "2   Blue      True      False    False\n",
      "3  Green     False       True    False\n",
      "4    Red     False      False     True\n"
     ]
    }
   ],
   "execution_count": 24
  }
 ],
 "metadata": {
  "kernelspec": {
   "display_name": "Python 3",
   "language": "python",
   "name": "python3"
  },
  "language_info": {
   "codemirror_mode": {
    "name": "ipython",
    "version": 2
   },
   "file_extension": ".py",
   "mimetype": "text/x-python",
   "name": "python",
   "nbconvert_exporter": "python",
   "pygments_lexer": "ipython2",
   "version": "2.7.6"
  }
 },
 "nbformat": 4,
 "nbformat_minor": 5
}
