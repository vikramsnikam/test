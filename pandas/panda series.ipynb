{
 "cells": [
  {
   "cell_type": "code",
   "id": "initial_id",
   "metadata": {
    "collapsed": true,
    "ExecuteTime": {
     "end_time": "2025-08-04T10:22:22.013914Z",
     "start_time": "2025-08-04T10:22:22.003642Z"
    }
   },
   "source": [
    "import pandas as pd\n",
    "data = pd.Series([1,2,3,4,5,6,7,8,9,10])\n",
    "print(data)\n",
    "print(data[2])"
   ],
   "outputs": [
    {
     "name": "stdout",
     "output_type": "stream",
     "text": [
      "0     1\n",
      "1     2\n",
      "2     3\n",
      "3     4\n",
      "4     5\n",
      "5     6\n",
      "6     7\n",
      "7     8\n",
      "8     9\n",
      "9    10\n",
      "dtype: int64\n",
      "3\n"
     ]
    }
   ],
   "execution_count": 3
  },
  {
   "metadata": {
    "ExecuteTime": {
     "end_time": "2025-08-04T10:26:25.735215Z",
     "start_time": "2025-08-04T10:26:25.728091Z"
    }
   },
   "cell_type": "code",
   "source": [
    "'''creating custom index'''\n",
    "a=[1,2,3,4,5,]\n",
    "a1=pd.Series(a,index=['a','b','c','d','e'])\n",
    "print(a1)\n",
    "print(a1['c'])"
   ],
   "id": "a26fe49c8e97d736",
   "outputs": [
    {
     "name": "stdout",
     "output_type": "stream",
     "text": [
      "a    1\n",
      "b    2\n",
      "c    3\n",
      "d    4\n",
      "e    5\n",
      "dtype: int64\n",
      "3\n"
     ]
    }
   ],
   "execution_count": 8
  },
  {
   "metadata": {
    "ExecuteTime": {
     "end_time": "2025-08-04T10:33:48.895920Z",
     "start_time": "2025-08-04T10:33:48.884491Z"
    }
   },
   "cell_type": "code",
   "source": [
    "'''creating series from python dictionary'''\n",
    "a={'a':1,'b':2,'c':3,'d':4,'e':5}\n",
    "print(a)\n",
    "r1=pd.Series(a)\n",
    "print(r1)\n",
    "#can be used to chane indexing of dictionary\n"
   ],
   "id": "56650756fb64ad57",
   "outputs": [
    {
     "name": "stdout",
     "output_type": "stream",
     "text": [
      "{'a': 1, 'b': 2, 'c': 3, 'd': 4, 'e': 5}\n",
      "a    1\n",
      "b    2\n",
      "c    3\n",
      "d    4\n",
      "e    5\n",
      "dtype: int64\n"
     ]
    }
   ],
   "execution_count": 10
  },
  {
   "metadata": {},
   "cell_type": "code",
   "outputs": [],
   "execution_count": null,
   "source": "",
   "id": "adbf476095feea40"
  },
  {
   "metadata": {},
   "cell_type": "code",
   "outputs": [],
   "execution_count": null,
   "source": "",
   "id": "9c8fbf4bcd6342f8"
  }
 ],
 "metadata": {
  "kernelspec": {
   "display_name": "Python 3",
   "language": "python",
   "name": "python3"
  },
  "language_info": {
   "codemirror_mode": {
    "name": "ipython",
    "version": 2
   },
   "file_extension": ".py",
   "mimetype": "text/x-python",
   "name": "python",
   "nbconvert_exporter": "python",
   "pygments_lexer": "ipython2",
   "version": "2.7.6"
  }
 },
 "nbformat": 4,
 "nbformat_minor": 5
}
