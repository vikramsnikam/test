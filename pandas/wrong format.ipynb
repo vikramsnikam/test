{
 "cells": [
  {
   "cell_type": "code",
   "id": "initial_id",
   "metadata": {
    "collapsed": true,
    "ExecuteTime": {
     "end_time": "2025-08-12T11:57:44.457091Z",
     "start_time": "2025-08-12T11:57:43.889508Z"
    }
   },
   "source": [
    "import pandas as pd\n",
    "'''one data in temp is in string format'''\n",
    "a= {\n",
    "    'Country': ['USA', 'Canada', 'Australia', 'Germany', 'Japan'],\n",
    "    'Date': ['2023-07-20', '2023-07-21', '2023-07-22', '2023-07-23', '2023-07-24'],\n",
    "    'Temperature': [25.5, '28.0', 30.2, 22.8, 26.3]\n",
    "}\n",
    "a1 = pd.DataFrame(a)\n",
    "\n",
    "# convert temperature column to float\n",
    "a1['Temperature'] = a1['Temperature'].astype(float)\n",
    "\n",
    "# calculate the mean temperature\n",
    "mean_temperature = a1['Temperature'].mean()\n",
    "\n",
    "print(mean_temperature)"
   ],
   "outputs": [
    {
     "name": "stdout",
     "output_type": "stream",
     "text": [
      "26.560000000000002\n"
     ]
    }
   ],
   "execution_count": 5
  },
  {
   "metadata": {
    "ExecuteTime": {
     "end_time": "2025-08-12T11:57:44.480779Z",
     "start_time": "2025-08-12T11:57:44.468244Z"
    }
   },
   "cell_type": "code",
   "source": [
    "'''handling mixed data'''\n",
    "'''create a sample dataframe with mixed date formats'''\n",
    "b = pd.DataFrame({'date': ['2022-12-01', '01/02/2022', '2022-03-23', '03/02/2022', '3 4 2023', '2023.9.30']})\n",
    "\n",
    "# convert the date column to datetime format\n",
    "b['date'] = pd.to_datetime(b['date'], format='mixed', dayfirst=True)\n",
    "print(b)\n",
    "print('preferred format')\n",
    "b[' new date'] = b['date'].dt.strftime('%d/%m/%Y')\n",
    "print(b)\n"
   ],
   "id": "10b18ca9b3fc9f39",
   "outputs": [
    {
     "name": "stdout",
     "output_type": "stream",
     "text": [
      "        date\n",
      "0 2022-12-01\n",
      "1 2022-02-01\n",
      "2 2022-03-23\n",
      "3 2022-02-03\n",
      "4 2023-04-03\n",
      "5 2023-09-30\n",
      "preferred format\n",
      "        date    new date\n",
      "0 2022-12-01  01/12/2022\n",
      "1 2022-02-01  01/02/2022\n",
      "2 2022-03-23  23/03/2022\n",
      "3 2022-02-03  03/02/2022\n",
      "4 2023-04-03  03/04/2023\n",
      "5 2023-09-30  30/09/2023\n"
     ]
    }
   ],
   "execution_count": 6
  },
  {
   "metadata": {
    "ExecuteTime": {
     "end_time": "2025-08-12T11:57:44.501032Z",
     "start_time": "2025-08-12T11:57:44.494445Z"
    }
   },
   "cell_type": "code",
   "source": [
    "'''handling wrong data'''\n",
    "# create dataframe data about students of an all-boys elementary school.\n",
    "c = {\n",
    "    'Name': ['John', 'Michael', 'Tom', 'Alex', 'Ryan'],\n",
    "    'Age': [8, 9, 7, 80, 100],\n",
    "    'Gender': ['M', 'M', 'M', 'F', 'M'],\n",
    "    'Standard': [3, 4, 12, 3, 5]\n",
    "}\n",
    "c1 = pd.DataFrame(c)\n",
    "\n",
    "# replace F with M because its boy school\n",
    "'''Replace Individual Values'''\n",
    "c1.loc[3, 'Gender'] = 'M'\n",
    "\n",
    "print(c1)"
   ],
   "id": "be2abed04c9e93bd",
   "outputs": [
    {
     "name": "stdout",
     "output_type": "stream",
     "text": [
      "      Name  Age Gender  Standard\n",
      "0     John    8      M         3\n",
      "1  Michael    9      M         4\n",
      "2      Tom    7      M        12\n",
      "3     Alex   80      M         3\n",
      "4     Ryan  100      M         5\n"
     ]
    }
   ],
   "execution_count": 7
  },
  {
   "metadata": {
    "ExecuteTime": {
     "end_time": "2025-08-12T11:57:44.528343Z",
     "start_time": "2025-08-12T11:57:44.520659Z"
    }
   },
   "cell_type": "code",
   "source": [
    "\"\"\"replace value based in condition\"\"\"\n",
    "#age of alex and ryan is not wrong because max age of elementary school is 14\n",
    "c2=c1\n",
    "print(c2)\n",
    "for i in c2.index:\n",
    "    age=c2.loc[i]['Age']\n",
    "    if age >14:\n",
    "        c2.loc[i, 'Age'] = age/10\n",
    "print(c2)\n",
    "\n"
   ],
   "id": "235c66952b93dee6",
   "outputs": [
    {
     "name": "stdout",
     "output_type": "stream",
     "text": [
      "      Name  Age Gender  Standard\n",
      "0     John    8      M         3\n",
      "1  Michael    9      M         4\n",
      "2      Tom    7      M        12\n",
      "3     Alex   80      M         3\n",
      "4     Ryan  100      M         5\n",
      "      Name  Age Gender  Standard\n",
      "0     John    8      M         3\n",
      "1  Michael    9      M         4\n",
      "2      Tom    7      M        12\n",
      "3     Alex    8      M         3\n",
      "4     Ryan   10      M         5\n"
     ]
    }
   ],
   "execution_count": 8
  },
  {
   "metadata": {
    "ExecuteTime": {
     "end_time": "2025-08-12T12:03:05.142855Z",
     "start_time": "2025-08-12T12:03:05.121235Z"
    }
   },
   "cell_type": "code",
   "source": [
    "\"\"\"removing wrong value\"\"\"\n",
    "#std 12 is wrong for elementary school and we dont no right std\n",
    "c3=c1\n",
    "for i in c3.index:\n",
    "    if c3.loc[i]['Standard']>8:\n",
    "        c3.drop(i, inplace=True)\n",
    "print(c3)\n"
   ],
   "id": "f838aabf6de6fa41",
   "outputs": [
    {
     "name": "stdout",
     "output_type": "stream",
     "text": [
      "      Name  Age Gender  Standard\n",
      "0     John    8      M         3\n",
      "1  Michael    9      M         4\n",
      "3     Alex    8      M         3\n",
      "4     Ryan   10      M         5\n"
     ]
    }
   ],
   "execution_count": 13
  }
 ],
 "metadata": {
  "kernelspec": {
   "display_name": "Python 3",
   "language": "python",
   "name": "python3"
  },
  "language_info": {
   "codemirror_mode": {
    "name": "ipython",
    "version": 2
   },
   "file_extension": ".py",
   "mimetype": "text/x-python",
   "name": "python",
   "nbconvert_exporter": "python",
   "pygments_lexer": "ipython2",
   "version": "2.7.6"
  }
 },
 "nbformat": 4,
 "nbformat_minor": 5
}
