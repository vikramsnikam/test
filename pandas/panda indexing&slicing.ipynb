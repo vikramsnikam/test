{
 "cells": [
  {
   "cell_type": "code",
   "id": "initial_id",
   "metadata": {
    "collapsed": true,
    "ExecuteTime": {
     "end_time": "2025-08-05T10:32:45.144859Z",
     "start_time": "2025-08-05T10:32:45.126943Z"
    }
   },
   "source": [
    "import pandas as pd\n",
    "'''accessing column'''\n",
    "a = {\n",
    "    'Name': ['Alice', 'Bob', 'Charlie', 'David', 'Eve'],\n",
    "    'Age': [25, 32, 18, 47, 33],\n",
    "    'City': ['New York', 'Paris', 'London', 'Tokyo', 'Sydney']\n",
    "}\n",
    "a1 = pd.DataFrame(a)\n",
    "names =a1['Name']\n",
    "print(names)\n",
    "ages = a1['Age']\n",
    "print(ages)\n",
    "'''multiple columns'''\n",
    "j = a1[['Name','City']]\n",
    "print(j)"
   ],
   "outputs": [
    {
     "name": "stdout",
     "output_type": "stream",
     "text": [
      "0      Alice\n",
      "1        Bob\n",
      "2    Charlie\n",
      "3      David\n",
      "4        Eve\n",
      "Name: Name, dtype: object\n",
      "0    25\n",
      "1    32\n",
      "2    18\n",
      "3    47\n",
      "4    33\n",
      "Name: Age, dtype: int64\n",
      "      Name      City\n",
      "0    Alice  New York\n",
      "1      Bob     Paris\n",
      "2  Charlie    London\n",
      "3    David     Tokyo\n",
      "4      Eve    Sydney\n"
     ]
    }
   ],
   "execution_count": 3
  },
  {
   "metadata": {
    "ExecuteTime": {
     "end_time": "2025-08-05T10:55:15.995357Z",
     "start_time": "2025-08-05T10:55:15.959142Z"
    }
   },
   "cell_type": "code",
   "source": [
    "'''pandas loc indexing  '''\n",
    "b1=pd.DataFrame(a)\n",
    "print(b1)\n",
    "r1=b1.loc[1]\n",
    "print(r1)\n",
    "print('multiple row')\n",
    "r2=b1.loc[[0,3,4]]\n",
    "print(r2)\n",
    "# access a list of columns\n",
    "r3 = b1.loc[:,['Name', 'Age']]\n",
    "print(r3)\n",
    "print('specific value')\n",
    "r4=b1.loc[1, 'Name']\n",
    "print(r4)\n",
    "r5=b1.loc[4, 'City']\n",
    "print(r5)\n",
    "r6=b1.loc[1:3]\n",
    "print(r6)"
   ],
   "id": "6ee2e8fd96b08095",
   "outputs": [
    {
     "name": "stdout",
     "output_type": "stream",
     "text": [
      "      Name  Age      City\n",
      "0    Alice   25  New York\n",
      "1      Bob   32     Paris\n",
      "2  Charlie   18    London\n",
      "3    David   47     Tokyo\n",
      "4      Eve   33    Sydney\n",
      "Name      Bob\n",
      "Age        32\n",
      "City    Paris\n",
      "Name: 1, dtype: object\n",
      "multiple row\n",
      "    Name  Age      City\n",
      "0  Alice   25  New York\n",
      "3  David   47     Tokyo\n",
      "4    Eve   33    Sydney\n",
      "      Name  Age\n",
      "0    Alice   25\n",
      "1      Bob   32\n",
      "2  Charlie   18\n",
      "3    David   47\n",
      "4      Eve   33\n",
      "specific value\n",
      "Bob\n",
      "Sydney\n",
      "      Name  Age    City\n",
      "1      Bob   32   Paris\n",
      "2  Charlie   18  London\n",
      "3    David   47   Tokyo\n"
     ]
    }
   ],
   "execution_count": 15
  },
  {
   "metadata": {
    "ExecuteTime": {
     "end_time": "2025-08-05T11:02:00.257984Z",
     "start_time": "2025-08-05T11:02:00.229726Z"
    }
   },
   "cell_type": "code",
   "source": [
    "'''boolean indexing loc'''\n",
    "c1=pd.DataFrame(a)\n",
    "print(c1)\n",
    "print('filtered dataframe')\n",
    "c2=c1.loc[c1[\"Age\"]>30]\n",
    "print(c2)\n"
   ],
   "id": "66564536a2d166b5",
   "outputs": [
    {
     "name": "stdout",
     "output_type": "stream",
     "text": [
      "      Name  Age      City\n",
      "0    Alice   25  New York\n",
      "1      Bob   32     Paris\n",
      "2  Charlie   18    London\n",
      "3    David   47     Tokyo\n",
      "4      Eve   33    Sydney\n",
      "filtered dataframe\n",
      "    Name  Age    City\n",
      "1    Bob   32   Paris\n",
      "3  David   47   Tokyo\n",
      "4    Eve   33  Sydney\n"
     ]
    }
   ],
   "execution_count": 18
  },
  {
   "metadata": {
    "ExecuteTime": {
     "end_time": "2025-08-05T11:09:10.972777Z",
     "start_time": "2025-08-05T11:09:10.950024Z"
    }
   },
   "cell_type": "code",
   "source": [
    "'''pandas iloc'''\n",
    "d=pd.DataFrame(a)\n",
    "print(d)\n",
    "print(' access single row')\n",
    "d1 = d.iloc[2]\n",
    "print(d1)\n",
    "print()\n",
    "print('access rows 0, 3 and 4')\n",
    "d2 = d.iloc[[0, 3, 4]]\n",
    "print(d2)\n",
    "print()\n",
    "print('access columns 0 and 2')\n",
    "d3 = d.iloc[:,[0,2]]\n",
    "print(d3)\n",
    "print()\n",
    "print('access a specific value')\n",
    "d4= d.iloc[1, 0]\n",
    "print(d4)\n",
    "print()"
   ],
   "id": "7d4b7f822387d230",
   "outputs": [
    {
     "name": "stdout",
     "output_type": "stream",
     "text": [
      "      Name  Age      City\n",
      "0    Alice   25  New York\n",
      "1      Bob   32     Paris\n",
      "2  Charlie   18    London\n",
      "3    David   47     Tokyo\n",
      "4      Eve   33    Sydney\n",
      " access single row\n",
      "Name    Charlie\n",
      "Age          18\n",
      "City     London\n",
      "Name: 2, dtype: object\n",
      "\n",
      "access rows 0, 3 and 4\n",
      "    Name  Age      City\n",
      "0  Alice   25  New York\n",
      "3  David   47     Tokyo\n",
      "4    Eve   33    Sydney\n",
      "\n",
      "access columns 0 and 2\n",
      "      Name      City\n",
      "0    Alice  New York\n",
      "1      Bob     Paris\n",
      "2  Charlie    London\n",
      "3    David     Tokyo\n",
      "4      Eve    Sydney\n",
      "\n",
      "access a specific value\n",
      "Bob\n",
      "\n"
     ]
    }
   ],
   "execution_count": 21
  }
 ],
 "metadata": {
  "kernelspec": {
   "display_name": "Python 3",
   "language": "python",
   "name": "python3"
  },
  "language_info": {
   "codemirror_mode": {
    "name": "ipython",
    "version": 2
   },
   "file_extension": ".py",
   "mimetype": "text/x-python",
   "name": "python",
   "nbconvert_exporter": "python",
   "pygments_lexer": "ipython2",
   "version": "2.7.6"
  }
 },
 "nbformat": 4,
 "nbformat_minor": 5
}
