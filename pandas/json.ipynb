{
 "cells": [
  {
   "cell_type": "code",
   "id": "initial_id",
   "metadata": {
    "collapsed": true,
    "ExecuteTime": {
     "end_time": "2025-08-12T09:38:23.992236Z",
     "start_time": "2025-08-12T09:38:23.717256Z"
    }
   },
   "source": [
    "import pandas as pd\n",
    "'''reading json file t in python '''\n",
    "df = pd.read_json('t.json')\n",
    "print(df)"
   ],
   "outputs": [
    {
     "name": "stdout",
     "output_type": "stream",
     "text": [
      "    name  age           city\n",
      "0   John   30       New York\n",
      "1  Emily   28  San Francisco\n",
      "2  David   35        Chicago\n"
     ]
    }
   ],
   "execution_count": 2
  },
  {
   "metadata": {
    "ExecuteTime": {
     "end_time": "2025-08-12T09:52:50.749006Z",
     "start_time": "2025-08-12T09:52:50.692821Z"
    }
   },
   "cell_type": "code",
   "source": [
    "'''csv type json file '''\n",
    "d=pd.read_json('t2.json',orient='records',lines=True)\n",
    "print(d)\n",
    "d1=pd.read_json('t2.json',orient='records',lines=False)\n",
    "print(d1)"
   ],
   "id": "dccb9bcbcda52e92",
   "outputs": [
    {
     "name": "stdout",
     "output_type": "stream",
     "text": [
      "                     0                          1                 2\n",
      "0  [1, John, 25.12345]  [2, Jane, 30.98765432155]  [3, Alex, 28.56]\n",
      "   0     1          2\n",
      "0  1  John  25.123450\n",
      "1  2  Jane  30.987654\n",
      "2  3  Alex  28.560000\n"
     ]
    }
   ],
   "execution_count": 9
  },
  {
   "metadata": {
    "ExecuteTime": {
     "end_time": "2025-08-12T10:06:42.442656Z",
     "start_time": "2025-08-12T10:06:42.424244Z"
    }
   },
   "cell_type": "code",
   "source": [
    "d2=pd.read_json('t3.json')\n",
    "print(d2)\n",
    "'''using split'''\n",
    "print()\n",
    "d3=pd.read_json('t3.json',orient='split')\n",
    "print(d3)\n"
   ],
   "id": "219eb31514cec159",
   "outputs": [
    {
     "name": "stdout",
     "output_type": "stream",
     "text": [
      "   index columns                   data\n",
      "0      0    name  [Alice, 25, New York]\n",
      "1      1     age      [Bob, 30, London]\n",
      "2      2    city   [Charlie, 35, Paris]\n",
      "\n",
      "      name  age      city\n",
      "0    Alice   25  New York\n",
      "1      Bob   30    London\n",
      "2  Charlie   35     Paris\n"
     ]
    }
   ],
   "execution_count": 28
  },
  {
   "metadata": {
    "ExecuteTime": {
     "end_time": "2025-08-12T10:11:00.699979Z",
     "start_time": "2025-08-12T10:11:00.676364Z"
    }
   },
   "cell_type": "code",
   "source": [
    "# create a dictionary\n",
    "data = {'Name': ['John', 'Alice', 'Bob'],\n",
    "        'Age': [25, 30, 35],\n",
    "        'City': ['New York', 'London', 'Paris']}\n",
    "\n",
    "# create a dataframe from the dictionary\n",
    "df = pd.DataFrame(data)\n",
    "\n",
    "# write dataframe to json file\n",
    "df.to_json('t4.json')\n",
    "df1=pd.DataFrame(data)\n",
    "df1.to_json('t5.json',orient='records',indent=4)"
   ],
   "id": "8b1734226b256cf1",
   "outputs": [],
   "execution_count": 31
  }
 ],
 "metadata": {
  "kernelspec": {
   "display_name": "Python 3",
   "language": "python",
   "name": "python3"
  },
  "language_info": {
   "codemirror_mode": {
    "name": "ipython",
    "version": 2
   },
   "file_extension": ".py",
   "mimetype": "text/x-python",
   "name": "python",
   "nbconvert_exporter": "python",
   "pygments_lexer": "ipython2",
   "version": "2.7.6"
  }
 },
 "nbformat": 4,
 "nbformat_minor": 5
}
