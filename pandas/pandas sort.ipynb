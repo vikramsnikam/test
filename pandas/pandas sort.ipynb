{
 "cells": [
  {
   "cell_type": "code",
   "id": "initial_id",
   "metadata": {
    "collapsed": true,
    "ExecuteTime": {
     "end_time": "2025-08-13T10:28:58.626490Z",
     "start_time": "2025-08-13T10:28:58.618180Z"
    }
   },
   "source": [
    "import pandas as pd\n",
    "a = {'Name': ['Alice', 'Bob', 'Charlie'],\n",
    "        'Age': [28, 22, 25]}\n",
    "a1 = pd.DataFrame(a)\n",
    "\n",
    "# sort DataFrame by Age in ascending order\n",
    "sorted_a1 = a1.sort_values(by='Age')\n",
    "\n",
    "print(sorted_a1.to_string(index=False))"
   ],
   "outputs": [
    {
     "name": "stdout",
     "output_type": "stream",
     "text": [
      "   Name  Age\n",
      "    Bob   22\n",
      "Charlie   25\n",
      "  Alice   28\n"
     ]
    }
   ],
   "execution_count": 2
  },
  {
   "metadata": {
    "ExecuteTime": {
     "end_time": "2025-08-13T10:31:00.550017Z",
     "start_time": "2025-08-13T10:31:00.539425Z"
    }
   },
   "cell_type": "code",
   "source": [
    "sorted_a2 = a1.sort_values(by='Age', ascending=False)\n",
    "print(sorted_a2.to_string(index=False))\n",
    "print('ascending')\n",
    "sorted_a3 = a1.sort_values(by='Age', ascending=True)\n",
    "print(sorted_a3.to_string(index=False))"
   ],
   "id": "f28edc07b5518ad4",
   "outputs": [
    {
     "name": "stdout",
     "output_type": "stream",
     "text": [
      "   Name  Age\n",
      "  Alice   28\n",
      "Charlie   25\n",
      "    Bob   22\n",
      "ascending\n",
      "   Name  Age\n",
      "    Bob   22\n",
      "Charlie   25\n",
      "  Alice   28\n"
     ]
    }
   ],
   "execution_count": 5
  },
  {
   "metadata": {},
   "cell_type": "code",
   "outputs": [],
   "execution_count": null,
   "source": "",
   "id": "c954cbea7760cceb"
  }
 ],
 "metadata": {
  "kernelspec": {
   "display_name": "Python 3",
   "language": "python",
   "name": "python3"
  },
  "language_info": {
   "codemirror_mode": {
    "name": "ipython",
    "version": 2
   },
   "file_extension": ".py",
   "mimetype": "text/x-python",
   "name": "python",
   "nbconvert_exporter": "python",
   "pygments_lexer": "ipython2",
   "version": "2.7.6"
  }
 },
 "nbformat": 4,
 "nbformat_minor": 5
}
