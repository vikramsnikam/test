{
 "cells": [
  {
   "cell_type": "code",
   "id": "initial_id",
   "metadata": {
    "collapsed": true,
    "ExecuteTime": {
     "end_time": "2025-08-13T10:40:17.505715Z",
     "start_time": "2025-08-13T10:40:17.489350Z"
    }
   },
   "source": [
    "import pandas as pd\n",
    "a = {\n",
    "    \"Temperature\": [22, 25, 32, 28, 30],\n",
    "    \"Ice_Cream_Sales\": [105, 120, 135, 130, 125]\n",
    "}\n",
    "\n",
    "a1 = pd.DataFrame(a)\n",
    "# calculate correlation matrix\n",
    "print(a1.corr())"
   ],
   "outputs": [
    {
     "name": "stdout",
     "output_type": "stream",
     "text": [
      "                 Temperature  Ice_Cream_Sales\n",
      "Temperature         1.000000         0.923401\n",
      "Ice_Cream_Sales     0.923401         1.000000\n"
     ]
    }
   ],
   "execution_count": 2
  },
  {
   "metadata": {
    "ExecuteTime": {
     "end_time": "2025-08-13T10:42:42.760839Z",
     "start_time": "2025-08-13T10:42:42.733481Z"
    }
   },
   "cell_type": "code",
   "source": [
    "'''correlation between two column'''\n",
    "# calculate correlation coefficient\n",
    "correlation = a1['Temperature'].corr(a1[\"Ice_Cream_Sales\"])\n",
    "print(correlation)"
   ],
   "id": "fb44d48241f5fa2b",
   "outputs": [
    {
     "name": "stdout",
     "output_type": "stream",
     "text": [
      "0.9234007664064656\n"
     ]
    }
   ],
   "execution_count": 4
  }
 ],
 "metadata": {
  "kernelspec": {
   "display_name": "Python 3",
   "language": "python",
   "name": "python3"
  },
  "language_info": {
   "codemirror_mode": {
    "name": "ipython",
    "version": 2
   },
   "file_extension": ".py",
   "mimetype": "text/x-python",
   "name": "python",
   "nbconvert_exporter": "python",
   "pygments_lexer": "ipython2",
   "version": "2.7.6"
  }
 },
 "nbformat": 4,
 "nbformat_minor": 5
}
