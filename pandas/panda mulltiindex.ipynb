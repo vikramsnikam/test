{
 "cells": [
  {
   "cell_type": "code",
   "id": "initial_id",
   "metadata": {
    "collapsed": true,
    "ExecuteTime": {
     "end_time": "2025-08-06T10:18:53.315456Z",
     "start_time": "2025-08-06T10:18:53.287618Z"
    }
   },
   "source": [
    "import pandas as pd\n",
    "a = {\n",
    "    \"Continent\": [\"North America\", \"Europe\", \"Asia\", \"North America\", \"Asia\", \"Europe\", \"North America\", \"Asia\", \"Europe\", \"Asia\"],\n",
    "    \"Country\": [\"United States\", \"Germany\", \"China\", \"Canada\", \"Japan\", \"France\", \"Mexico\", \"India\", \"United Kingdom\", \"Nepal\"],\n",
    "    \"Population\": [331002651, 83783942, 1439323776, 37742154, 126476461, 65273511, 128932753, 1380004385, 67886011, 29136808]\n",
    "}\n",
    "\n",
    "a1 = pd.DataFrame(a)\n",
    "print(a1)\n",
    "print('sort')\n",
    "a1.sort_values('Continent',inplace=True)\n",
    "print(a1)\n",
    "print('multiindex')\n",
    "a1.set_index(['Continent','Country'], inplace=True)\n",
    "print(a1)"
   ],
   "outputs": [
    {
     "name": "stdout",
     "output_type": "stream",
     "text": [
      "       Continent         Country  Population\n",
      "0  North America   United States   331002651\n",
      "1         Europe         Germany    83783942\n",
      "2           Asia           China  1439323776\n",
      "3  North America          Canada    37742154\n",
      "4           Asia           Japan   126476461\n",
      "5         Europe          France    65273511\n",
      "6  North America          Mexico   128932753\n",
      "7           Asia           India  1380004385\n",
      "8         Europe  United Kingdom    67886011\n",
      "9           Asia           Nepal    29136808\n",
      "sort\n",
      "       Continent         Country  Population\n",
      "2           Asia           China  1439323776\n",
      "4           Asia           Japan   126476461\n",
      "7           Asia           India  1380004385\n",
      "9           Asia           Nepal    29136808\n",
      "1         Europe         Germany    83783942\n",
      "5         Europe          France    65273511\n",
      "8         Europe  United Kingdom    67886011\n",
      "0  North America   United States   331002651\n",
      "3  North America          Canada    37742154\n",
      "6  North America          Mexico   128932753\n",
      "multiindex\n",
      "                              Population\n",
      "Continent     Country                   \n",
      "Asia          China           1439323776\n",
      "              Japan            126476461\n",
      "              India           1380004385\n",
      "              Nepal             29136808\n",
      "Europe        Germany           83783942\n",
      "              France            65273511\n",
      "              United Kingdom    67886011\n",
      "North America United States    331002651\n",
      "              Canada            37742154\n",
      "              Mexico           128932753\n"
     ]
    }
   ],
   "execution_count": 6
  },
  {
   "metadata": {
    "ExecuteTime": {
     "end_time": "2025-08-06T10:30:37.717270Z",
     "start_time": "2025-08-06T10:30:37.692209Z"
    }
   },
   "cell_type": "code",
   "source": [
    "'''accessing row with multiindex'''\n",
    "b1=pd.DataFrame(a)\n",
    "print(b1)\n",
    "\n",
    "b1.sort_values('Continent', inplace=True)#can skip\n",
    "print(b1)\n",
    "\n",
    "# create a multiindex\n",
    "b1.set_index(['Continent','Country'], inplace=True)\n",
    "\n",
    "# access all entries under Asia\n",
    "asia = b1.loc['Asia']\n",
    "\n",
    "# access Canada\n",
    "canada = b1.loc[('North America', 'Canada')]\n",
    "\n",
    "print('Asia\\n', asia)\n",
    "print('\\nCanada\\n', canada)\n"
   ],
   "id": "b779c142f14691e2",
   "outputs": [
    {
     "name": "stdout",
     "output_type": "stream",
     "text": [
      "       Continent         Country  Population\n",
      "0  North America   United States   331002651\n",
      "1         Europe         Germany    83783942\n",
      "2           Asia           China  1439323776\n",
      "3  North America          Canada    37742154\n",
      "4           Asia           Japan   126476461\n",
      "5         Europe          France    65273511\n",
      "6  North America          Mexico   128932753\n",
      "7           Asia           India  1380004385\n",
      "8         Europe  United Kingdom    67886011\n",
      "9           Asia           Nepal    29136808\n",
      "       Continent         Country  Population\n",
      "2           Asia           China  1439323776\n",
      "4           Asia           Japan   126476461\n",
      "7           Asia           India  1380004385\n",
      "9           Asia           Nepal    29136808\n",
      "1         Europe         Germany    83783942\n",
      "5         Europe          France    65273511\n",
      "8         Europe  United Kingdom    67886011\n",
      "0  North America   United States   331002651\n",
      "3  North America          Canada    37742154\n",
      "6  North America          Mexico   128932753\n",
      "Asia\n",
      "          Population\n",
      "Country            \n",
      "China    1439323776\n",
      "Japan     126476461\n",
      "India    1380004385\n",
      "Nepal      29136808\n",
      "\n",
      "Canada\n",
      " Population    37742154\n",
      "Name: (North America, Canada), dtype: int64\n"
     ]
    }
   ],
   "execution_count": 14
  },
  {
   "metadata": {
    "ExecuteTime": {
     "end_time": "2025-08-06T10:48:52.763671Z",
     "start_time": "2025-08-06T10:48:52.738234Z"
    }
   },
   "cell_type": "code",
   "source": [
    "'''multiindex with arrays'''\n",
    "continent = ['Asia', 'Asia', 'Asia', 'Asia', 'Europe', 'Europe', 'Europe', 'North America', 'North America', 'North America']\n",
    "country = ['China', 'India', 'Japan', 'Nepal', 'France', 'Germany', 'United Kingdom', 'Canada', 'Mexico', 'United States']\n",
    "population = [1439323776, 1380004385, 126476461, 29136808, 65273511, 83783942, 67886011, 37742154, 128932753, 331002651]\n",
    "\n",
    "# create array of arrays\n",
    "c1 = [continent, country]\n",
    "\n",
    "# create multiindex from array\n",
    "multi_index = pd.MultiIndex.from_arrays(c1, names=['Continent', 'Country'])\n",
    "print(multi_index)\n",
    "print('ss')\n",
    "\n",
    "# create dataframe using multiindex\n",
    "c1 = pd.DataFrame({'Population' :population}, index=multi_index)\n",
    "\n",
    "print(c1)"
   ],
   "id": "1a551db00d1dd320",
   "outputs": [
    {
     "name": "stdout",
     "output_type": "stream",
     "text": [
      "MultiIndex([(         'Asia',          'China'),\n",
      "            (         'Asia',          'India'),\n",
      "            (         'Asia',          'Japan'),\n",
      "            (         'Asia',          'Nepal'),\n",
      "            (       'Europe',         'France'),\n",
      "            (       'Europe',        'Germany'),\n",
      "            (       'Europe', 'United Kingdom'),\n",
      "            ('North America',         'Canada'),\n",
      "            ('North America',         'Mexico'),\n",
      "            ('North America',  'United States')],\n",
      "           names=['Continent', 'Country'])\n",
      "ss\n",
      "                              Population\n",
      "Continent     Country                   \n",
      "Asia          China           1439323776\n",
      "              India           1380004385\n",
      "              Japan            126476461\n",
      "              Nepal             29136808\n",
      "Europe        France            65273511\n",
      "              Germany           83783942\n",
      "              United Kingdom    67886011\n",
      "North America Canada            37742154\n",
      "              Mexico           128932753\n",
      "              United States    331002651\n"
     ]
    }
   ],
   "execution_count": 19
  }
 ],
 "metadata": {
  "kernelspec": {
   "display_name": "Python 3",
   "language": "python",
   "name": "python3"
  },
  "language_info": {
   "codemirror_mode": {
    "name": "ipython",
    "version": 2
   },
   "file_extension": ".py",
   "mimetype": "text/x-python",
   "name": "python",
   "nbconvert_exporter": "python",
   "pygments_lexer": "ipython2",
   "version": "2.7.6"
  }
 },
 "nbformat": 4,
 "nbformat_minor": 5
}
