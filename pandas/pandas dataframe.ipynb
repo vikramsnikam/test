{
 "cells": [
  {
   "cell_type": "code",
   "id": "initial_id",
   "metadata": {
    "collapsed": true,
    "ExecuteTime": {
     "end_time": "2025-08-04T10:46:06.703465Z",
     "start_time": "2025-08-04T10:46:06.691611Z"
    }
   },
   "source": [
    "import pandas as pd\n",
    "from pymatgen.util.plotting import periodic_table_heatmap\n",
    "\n",
    "a={'country':[' Canada ','Australia ','UK ','Brazil'],\n",
    "   'capital': ['Ottawa','canberra','london','Brasilia'],\n",
    "    'Population':[37742154,25499884,67886011,212559417]}\n",
    "df=pd.DataFrame(a)\n",
    "print(df)\n",
    "\n"
   ],
   "outputs": [
    {
     "name": "stdout",
     "output_type": "stream",
     "text": [
      "      country   capital  Population\n",
      "0     Canada     Ottawa    37742154\n",
      "1  Australia   canberra    25499884\n",
      "2         UK     london    67886011\n",
      "3      Brazil  Brasilia   212559417\n"
     ]
    }
   ],
   "execution_count": 4
  },
  {
   "metadata": {
    "ExecuteTime": {
     "end_time": "2025-08-04T10:48:10.174956Z",
     "start_time": "2025-08-04T10:48:10.167436Z"
    }
   },
   "cell_type": "code",
   "source": [
    "'''using 2d python list'''\n",
    "# create a two-dimensional list\n",
    "data = [['John', 25, 'New York'],\n",
    "       ['Alice', 30, 'London'],\n",
    "       ['Bob', 35, 'Paris']]\n",
    "# create a DataFrame from the list\n",
    "df = pd.DataFrame(data, columns=['Name', 'Age', 'City'])\n",
    "print(df)"
   ],
   "id": "be054eca4e9de1f6",
   "outputs": [
    {
     "name": "stdout",
     "output_type": "stream",
     "text": [
      "    Name  Age      City\n",
      "0   John   25  New York\n",
      "1  Alice   30    London\n",
      "2    Bob   35     Paris\n"
     ]
    }
   ],
   "execution_count": 6
  },
  {
   "metadata": {
    "ExecuteTime": {
     "end_time": "2025-08-04T10:56:56.839043Z",
     "start_time": "2025-08-04T10:56:56.819176Z"
    }
   },
   "cell_type": "code",
   "source": [
    "a=pd.read_csv(\"pt.csv\")\n",
    "print(a)"
   ],
   "id": "3ba697d82a3d50cd",
   "outputs": [
    {
     "name": "stdout",
     "output_type": "stream",
     "text": [
      "     Element Symbol  AtomicNumber  AtomicWeight  Group  Period\n",
      "0   Hydrogen      H             1        1.0080      1       1\n",
      "1     Helium     He             2        4.0026     18       1\n",
      "2    Lithium     Li             3        6.9400      1       2\n",
      "3  Beryllium     Be             4        9.0122      2       2\n",
      "4      Boron      B             5       10.8100     13       2\n",
      "5     Carbon      C             6       12.0110     14       2\n",
      "6   Nitrogen      N             7       14.0070     15       2\n",
      "7     Oxygen      O             8       15.9990     16       2\n",
      "8   Fluorine      F             9       18.9980     17       2\n",
      "9       Neon     Ne            10       20.1800     18       2\n"
     ]
    }
   ],
   "execution_count": 12
  },
  {
   "metadata": {
    "ExecuteTime": {
     "end_time": "2025-08-04T10:57:43.319454Z",
     "start_time": "2025-08-04T10:57:43.312262Z"
    }
   },
   "cell_type": "code",
   "source": [
    "'''empty data frame'''\n",
    "s=pd.Series()\n",
    "print(s)"
   ],
   "id": "637131c1d574472e",
   "outputs": [
    {
     "name": "stdout",
     "output_type": "stream",
     "text": [
      "Series([], dtype: object)\n"
     ]
    }
   ],
   "execution_count": 13
  }
 ],
 "metadata": {
  "kernelspec": {
   "display_name": "Python 3",
   "language": "python",
   "name": "python3"
  },
  "language_info": {
   "codemirror_mode": {
    "name": "ipython",
    "version": 2
   },
   "file_extension": ".py",
   "mimetype": "text/x-python",
   "name": "python",
   "nbconvert_exporter": "python",
   "pygments_lexer": "ipython2",
   "version": "2.7.6"
  }
 },
 "nbformat": 4,
 "nbformat_minor": 5
}
