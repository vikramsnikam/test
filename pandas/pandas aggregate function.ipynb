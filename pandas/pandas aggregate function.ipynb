{
 "cells": [
  {
   "cell_type": "code",
   "id": "initial_id",
   "metadata": {
    "collapsed": true,
    "ExecuteTime": {
     "end_time": "2025-08-13T09:47:03.272559Z",
     "start_time": "2025-08-13T09:47:03.262822Z"
    }
   },
   "source": [
    "import pandas as pd\n",
    "a = {\n",
    "    'Category': ['A', 'A', 'B', 'B', 'A', 'B'],\n",
    "    'Value': [10, 15, 20, 25, 30, 35]\n",
    "}\n",
    "\n",
    "a1 = pd.DataFrame(a)\n",
    "\n",
    "# calculate total sum of the Value column\n",
    "sum = a1['Value'].aggregate('sum')\n",
    "print(\"Total:\", sum)\n",
    "\n",
    "# calculate the mean of the Value column\n",
    "average = a1['Value'].aggregate('mean')\n",
    "print(\"Average:\", average)\n",
    "\n",
    "# calculate the maximum value in the Value column\n",
    "max= a1['Value'].aggregate('max')\n",
    "print(\"Maximum :\", max)\n",
    "min= a1['Value'].aggregate('min')\n",
    "print(\"Minimum :\", min)\n",
    "total = a1['Value'].agg(['sum', 'mean', 'max', 'min'])\n",
    "print('all\\n',total)"
   ],
   "outputs": [
    {
     "name": "stdout",
     "output_type": "stream",
     "text": [
      "Total: 135\n",
      "Average: 22.5\n",
      "Maximum : 35\n",
      "Minimum : 10\n",
      "all\n",
      " sum     135.0\n",
      "mean     22.5\n",
      "max      35.0\n",
      "min      10.0\n",
      "Name: Value, dtype: float64\n"
     ]
    }
   ],
   "execution_count": 14
  },
  {
   "metadata": {
    "ExecuteTime": {
     "end_time": "2025-08-13T09:36:44.682838Z",
     "start_time": "2025-08-13T09:36:44.667766Z"
    }
   },
   "cell_type": "code",
   "source": [
    "'''using multiple aggregate functions'''\n",
    "b = {\n",
    "    'Category': ['A', 'A', 'B', 'B', 'A', 'B'],\n",
    "    'Value': [10, 15, 20, 25, 30, 35]\n",
    "}\n",
    "#result will be according to A&B\n",
    "b1 = pd.DataFrame(b)\n",
    "\n",
    "# applying multiple aggregation functions to a single column\n",
    "result = b1.groupby('Category')['Value'].agg(['sum', 'mean', 'max', 'min'])\n",
    "print(result)"
   ],
   "id": "42a9819b8a45a3f1",
   "outputs": [
    {
     "name": "stdout",
     "output_type": "stream",
     "text": [
      "          sum       mean  max  min\n",
      "Category                          \n",
      "A          55  18.333333   30   10\n",
      "B          80  26.666667   35   20\n"
     ]
    }
   ],
   "execution_count": 6
  },
  {
   "metadata": {
    "ExecuteTime": {
     "end_time": "2025-08-13T09:44:50.190895Z",
     "start_time": "2025-08-13T09:44:50.154196Z"
    }
   },
   "cell_type": "code",
   "source": [
    "'''different aggregate functions to different column'''\n",
    "c = {\n",
    "    'Category': ['A', 'A', 'B', 'B', 'A', 'B'],\n",
    "    'Value1': [10, 15, 20, 25, 30, 35],\n",
    "    'Value2': [5, 8, 12, 15, 18, 21]\n",
    "}\n",
    "\n",
    "c1 = pd.DataFrame(c)\n",
    "\n",
    "af = {'Value1': 'sum','Value2': ['mean', 'max']}\n",
    "\n",
    "c2 = c1.groupby('Category').aggregate(af)\n",
    "print(c2)"
   ],
   "id": "beb3469474cadbb1",
   "outputs": [
    {
     "name": "stdout",
     "output_type": "stream",
     "text": [
      "         Value1     Value2    \n",
      "            sum       mean max\n",
      "Category                      \n",
      "A            55  10.333333  18\n",
      "B            80  16.000000  21\n"
     ]
    }
   ],
   "execution_count": 13
  }
 ],
 "metadata": {
  "kernelspec": {
   "display_name": "Python 3",
   "language": "python",
   "name": "python3"
  },
  "language_info": {
   "codemirror_mode": {
    "name": "ipython",
    "version": 2
   },
   "file_extension": ".py",
   "mimetype": "text/x-python",
   "name": "python",
   "nbconvert_exporter": "python",
   "pygments_lexer": "ipython2",
   "version": "2.7.6"
  }
 },
 "nbformat": 4,
 "nbformat_minor": 5
}
