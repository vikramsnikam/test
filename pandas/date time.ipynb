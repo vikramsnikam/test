{
 "cells": [
  {
   "cell_type": "code",
   "id": "initial_id",
   "metadata": {
    "collapsed": true,
    "ExecuteTime": {
     "end_time": "2025-08-12T12:42:55.405505Z",
     "start_time": "2025-08-12T12:42:55.395415Z"
    }
   },
   "source": [
    "import pandas as pd\n",
    "# create a datetime string format\n",
    "a = '2001-12-24 12:38'\n",
    "\n",
    "print(\"String:\", a)\n",
    "\n",
    "# convert string to datetime\n",
    "date = pd.to_datetime(a)\n",
    "\n",
    "print(\"DateTime:\", date)\n",
    "print(type(date))"
   ],
   "outputs": [
    {
     "name": "stdout",
     "output_type": "stream",
     "text": [
      "String: 2001-12-24 12:38\n",
      "DateTime: 2001-12-24 12:38:00\n",
      "<class 'pandas._libs.tslibs.timestamps.Timestamp'>\n"
     ]
    }
   ],
   "execution_count": 4
  },
  {
   "metadata": {
    "ExecuteTime": {
     "end_time": "2025-08-12T12:45:32.286519Z",
     "start_time": "2025-08-12T12:45:32.268907Z"
    }
   },
   "cell_type": "code",
   "source": [
    "\n",
    "# create a dataframe with date strings in dataframe\n",
    "b = pd.DataFrame({'date': ['2021-01-13', '2022-10-22', '2023-12-03']})\n",
    "b['date'] = pd.to_datetime(b['date'])\n",
    "print(b)"
   ],
   "id": "443765241ebdad0b",
   "outputs": [
    {
     "name": "stdout",
     "output_type": "stream",
     "text": [
      "        date\n",
      "0 2021-01-13\n",
      "1 2022-10-22\n",
      "2 2023-12-03\n"
     ]
    }
   ],
   "execution_count": 6
  },
  {
   "metadata": {
    "ExecuteTime": {
     "end_time": "2025-08-12T12:52:49.397644Z",
     "start_time": "2025-08-12T12:52:49.383549Z"
    }
   },
   "cell_type": "code",
   "source": [
    "b1=b\n",
    "b1['date'] = pd.to_datetime(b1['date'], dayfirst=True)\n",
    "print(b1)"
   ],
   "id": "f20253fc7dfca290",
   "outputs": [
    {
     "name": "stdout",
     "output_type": "stream",
     "text": [
      "        date\n",
      "0 2021-01-13\n",
      "1 2022-10-22\n",
      "2 2023-12-03\n"
     ]
    }
   ],
   "execution_count": 13
  },
  {
   "metadata": {
    "ExecuteTime": {
     "end_time": "2025-08-12T12:53:43.988234Z",
     "start_time": "2025-08-12T12:53:43.975487Z"
    }
   },
   "cell_type": "code",
   "source": [
    "import pandas as pd\n",
    "\n",
    "# create a dataframe with date strings in custom format\n",
    "df = pd.DataFrame({'date': ['2021/22/01', '2022/13/01', '2023/30/03']})\n",
    "\n",
    "# convert the 'date' column to datetime with custom format\n",
    "df['date'] = pd.to_datetime(df['date'], format='%Y/%d/%m')\n",
    "\n",
    "print(df)"
   ],
   "id": "d3fe6805184c38cd",
   "outputs": [
    {
     "name": "stdout",
     "output_type": "stream",
     "text": [
      "        date\n",
      "0 2021-01-22\n",
      "1 2022-01-13\n",
      "2 2023-03-30\n"
     ]
    }
   ],
   "execution_count": 15
  },
  {
   "metadata": {
    "ExecuteTime": {
     "end_time": "2025-08-12T12:56:50.900496Z",
     "start_time": "2025-08-12T12:56:50.876628Z"
    }
   },
   "cell_type": "code",
   "source": [
    "# create a dataframe with separate date and time columns\n",
    "d = pd.DataFrame({'year': [2021, 2022, 2023],\n",
    "                   'month': [1, 2, 3],\n",
    "                   'day': [1, 2, 3],\n",
    "                   'hour': [10, 11, 12],\n",
    "                   'minute': [30, 45, 0],\n",
    "                   'second': [0, 0, 0]})\n",
    "print(d)\n",
    "\n",
    "print('final view')\n",
    "# combine date and time columns to create a datetime column\n",
    "d['datetime'] = pd.to_datetime(d[['year', 'month', 'day', 'hour', 'minute', 'second']])\n",
    "\n",
    "print(d)"
   ],
   "id": "ab66518d358c9709",
   "outputs": [
    {
     "name": "stdout",
     "output_type": "stream",
     "text": [
      "   year  month  day  hour  minute  second\n",
      "0  2021      1    1    10      30       0\n",
      "1  2022      2    2    11      45       0\n",
      "2  2023      3    3    12       0       0\n",
      "final view\n",
      "   year  month  day  hour  minute  second            datetime\n",
      "0  2021      1    1    10      30       0 2021-01-01 10:30:00\n",
      "1  2022      2    2    11      45       0 2022-02-02 11:45:00\n",
      "2  2023      3    3    12       0       0 2023-03-03 12:00:00\n"
     ]
    }
   ],
   "execution_count": 19
  },
  {
   "metadata": {
    "ExecuteTime": {
     "end_time": "2025-08-12T13:01:34.089650Z",
     "start_time": "2025-08-12T13:01:34.072930Z"
    }
   },
   "cell_type": "code",
   "source": [
    "# create a dataframe with a datetime column\n",
    "g = pd.DataFrame({'datetime': ['2021-01-01', '2022-02-02', '2023-03-03']})\n",
    "\n",
    "# convert the 'datetime' column to datetime type\n",
    "g['datetime'] = pd.to_datetime(g['datetime'])\n",
    "print('initial view')\n",
    "print(g)\n",
    "\n",
    "print('final view')\n",
    "# extract year, month, and day into separate columns\n",
    "g['year'] = g['datetime'].dt.year\n",
    "g['month'] = g['datetime'].dt.month\n",
    "g['day'] = g['datetime'].dt.day\n",
    "print(g)"
   ],
   "id": "c1ccf244c534ffa2",
   "outputs": [
    {
     "name": "stdout",
     "output_type": "stream",
     "text": [
      "initial view\n",
      "    datetime\n",
      "0 2021-01-01\n",
      "1 2022-02-02\n",
      "2 2023-03-03\n",
      "final view\n",
      "    datetime  year  month  day\n",
      "0 2021-01-01  2021      1    1\n",
      "1 2022-02-02  2022      2    2\n",
      "2 2023-03-03  2023      3    3\n"
     ]
    }
   ],
   "execution_count": 22
  },
  {
   "metadata": {
    "ExecuteTime": {
     "end_time": "2025-08-12T13:08:56.261809Z",
     "start_time": "2025-08-12T13:08:56.236667Z"
    }
   },
   "cell_type": "code",
   "source": [
    "# create a dataframe with a datetime column\n",
    "h = pd.DataFrame({'datetime': ['2021-01-01', '2024-02-02', '2023-03-03']})\n",
    "\n",
    "# convert the 'datetime' column to datetime type\n",
    "h['datetime'] = pd.to_datetime(h['datetime'])\n",
    "print('initial view')\n",
    "print(h)\n",
    "\n",
    "# get the day of the week\n",
    "print('day')\n",
    "h['day_of_week'] = h['datetime'].dt.day_name()\n",
    "\n",
    "# get the week of the year\n",
    "print('week')\n",
    "h['week_of_year'] = h['datetime'].dt.isocalendar().week\n",
    "\n",
    "# check for leap year\n",
    "h['leap_year'] = h['datetime'].dt.is_leap_year\n",
    "\n",
    "print(h)"
   ],
   "id": "dcdddc331bd02d5c",
   "outputs": [
    {
     "name": "stdout",
     "output_type": "stream",
     "text": [
      "initial view\n",
      "    datetime\n",
      "0 2021-01-01\n",
      "1 2024-02-02\n",
      "2 2023-03-03\n",
      "day\n",
      "week\n",
      "    datetime day_of_week  week_of_year  leap_year\n",
      "0 2021-01-01      Friday            53      False\n",
      "1 2024-02-02      Friday             5       True\n",
      "2 2023-03-03      Friday             9      False\n"
     ]
    }
   ],
   "execution_count": 24
  }
 ],
 "metadata": {
  "kernelspec": {
   "display_name": "Python 3",
   "language": "python",
   "name": "python3"
  },
  "language_info": {
   "codemirror_mode": {
    "name": "ipython",
    "version": 2
   },
   "file_extension": ".py",
   "mimetype": "text/x-python",
   "name": "python",
   "nbconvert_exporter": "python",
   "pygments_lexer": "ipython2",
   "version": "2.7.6"
  }
 },
 "nbformat": 4,
 "nbformat_minor": 5
}
