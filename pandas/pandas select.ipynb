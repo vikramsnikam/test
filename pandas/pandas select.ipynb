{
 "cells": [
  {
   "cell_type": "code",
   "id": "initial_id",
   "metadata": {
    "collapsed": true,
    "ExecuteTime": {
     "end_time": "2025-08-06T09:49:10.199241Z",
     "start_time": "2025-08-06T09:49:10.181145Z"
    }
   },
   "source": [
    "import pandas as pd\n",
    "a= {\n",
    "    'Name': ['Alice', 'Bob', 'Charlie', 'David', 'Eve'],\n",
    "    'Age': [25, 30, 22, 27, 29],\n",
    "    'Salary': [50000, 60000, 45000, 55000, 52000]\n",
    "}\n",
    "\n",
    "a1 = pd.DataFrame(a)\n",
    "a2 = a1['Name']\n",
    "\n",
    "print(\"Selecting single column: Name\")\n",
    "print(a2)\n",
    "print()\n",
    "a3 = a1[['Age', 'Salary']]\n",
    "\n",
    "print(\"Selecting multiple columns: Age and Salary\")\n",
    "print(a3.to_string(index=False))\n",
    "print()\n",
    "\n",
    "# selecting rows using slicing\n",
    "a4 = a1[1:4]\n",
    "\n",
    "print(\"Selecting rows 1 to 3\")\n",
    "print(a4.to_string(index=False))\n",
    "print()"
   ],
   "outputs": [
    {
     "name": "stdout",
     "output_type": "stream",
     "text": [
      "Selecting single column: Name\n",
      "0      Alice\n",
      "1        Bob\n",
      "2    Charlie\n",
      "3      David\n",
      "4        Eve\n",
      "Name: Name, dtype: object\n",
      "\n",
      "Selecting multiple columns: Age and Salary\n",
      " Age  Salary\n",
      "  25   50000\n",
      "  30   60000\n",
      "  22   45000\n",
      "  27   55000\n",
      "  29   52000\n",
      "\n",
      "Selecting rows 1 to 3\n",
      "   Name  Age  Salary\n",
      "    Bob   30   60000\n",
      "Charlie   22   45000\n",
      "  David   27   55000\n",
      "\n"
     ]
    }
   ],
   "execution_count": 2
  },
  {
   "metadata": {},
   "cell_type": "code",
   "outputs": [],
   "execution_count": null,
   "source": "''''pending'''",
   "id": "3ae7e647cb64ddcb"
  }
 ],
 "metadata": {
  "kernelspec": {
   "display_name": "Python 3",
   "language": "python",
   "name": "python3"
  },
  "language_info": {
   "codemirror_mode": {
    "name": "ipython",
    "version": 2
   },
   "file_extension": ".py",
   "mimetype": "text/x-python",
   "name": "python",
   "nbconvert_exporter": "python",
   "pygments_lexer": "ipython2",
   "version": "2.7.6"
  }
 },
 "nbformat": 4,
 "nbformat_minor": 5
}
