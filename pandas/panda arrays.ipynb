{
 "cells": [
  {
   "cell_type": "code",
   "id": "initial_id",
   "metadata": {
    "collapsed": true,
    "ExecuteTime": {
     "end_time": "2025-08-04T11:41:44.051794Z",
     "start_time": "2025-08-04T11:41:44.041513Z"
    }
   },
   "source": [
    "import pandas as pd\n",
    "a=[1,2,3,4,5]\n",
    "b=pd.array(a)\n",
    "print(b)\n",
    "'''changing data type'''\n",
    "c=pd.array([1,2,3,4,5],dtype='float')\n",
    "print(c)"
   ],
   "outputs": [
    {
     "name": "stdout",
     "output_type": "stream",
     "text": [
      "<IntegerArray>\n",
      "[1, 2, 3, 4, 5]\n",
      "Length: 5, dtype: Int64\n",
      "<NumpyExtensionArray>\n",
      "[1.0, 2.0, 3.0, 4.0, 5.0]\n",
      "Length: 5, dtype: float64\n"
     ]
    }
   ],
   "execution_count": 6
  },
  {
   "metadata": {
    "ExecuteTime": {
     "end_time": "2025-08-04T11:44:18.155450Z",
     "start_time": "2025-08-04T11:44:18.145648Z"
    }
   },
   "cell_type": "code",
   "source": [
    "'''creating pass series'''\n",
    "c=pd.array([1,2,3,4,5])\n",
    "print(c)\n",
    "d=pd.Series(c)\n",
    "print(d)"
   ],
   "id": "a889cd5fe19c6b5e",
   "outputs": [
    {
     "name": "stdout",
     "output_type": "stream",
     "text": [
      "<IntegerArray>\n",
      "[1, 2, 3, 4, 5]\n",
      "Length: 5, dtype: Int64\n",
      "0    1\n",
      "1    2\n",
      "2    3\n",
      "3    4\n",
      "4    5\n",
      "dtype: Int64\n"
     ]
    }
   ],
   "execution_count": 8
  },
  {
   "metadata": {},
   "cell_type": "code",
   "outputs": [],
   "execution_count": null,
   "source": "",
   "id": "92b568dffcb32162"
  }
 ],
 "metadata": {
  "kernelspec": {
   "display_name": "Python 3",
   "language": "python",
   "name": "python3"
  },
  "language_info": {
   "codemirror_mode": {
    "name": "ipython",
    "version": 2
   },
   "file_extension": ".py",
   "mimetype": "text/x-python",
   "name": "python",
   "nbconvert_exporter": "python",
   "pygments_lexer": "ipython2",
   "version": "2.7.6"
  }
 },
 "nbformat": 4,
 "nbformat_minor": 5
}
