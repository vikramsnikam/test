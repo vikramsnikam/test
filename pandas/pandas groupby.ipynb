{
 "cells": [
  {
   "cell_type": "code",
   "id": "initial_id",
   "metadata": {
    "collapsed": true,
    "ExecuteTime": {
     "end_time": "2025-08-13T09:55:57.893123Z",
     "start_time": "2025-08-13T09:55:57.883441Z"
    }
   },
   "source": [
    "import pandas as pd\n",
    "'''groupby multiple columns'''\n",
    "a = {\n",
    "    'Gender': ['Male', 'Female', 'Male', 'Female', 'Male'],\n",
    "    'Grade': ['A', 'B', 'A', 'A', 'B'],\n",
    "    'Score': [90, 85, 92, 88, 78]\n",
    "}\n",
    "\n",
    "a1 = pd.DataFrame(a)\n",
    "\n",
    "# define the aggregate functions to be applied to the Score column\n",
    "af = {'Score': ['mean', 'max']}\n",
    "# group the DataFrame by Gender and Grade, then apply the aggregate functions\n",
    "grouped = a1.groupby(['Gender', 'Grade']).aggregate(af)\n",
    "# print the resulting grouped DataFrame\n",
    "print(grouped)\n"
   ],
   "outputs": [
    {
     "name": "stdout",
     "output_type": "stream",
     "text": [
      "             Score    \n",
      "              mean max\n",
      "Gender Grade          \n",
      "Female A      88.0  88\n",
      "       B      85.0  85\n",
      "Male   A      91.0  92\n",
      "       B      78.0  78\n"
     ]
    }
   ],
   "execution_count": 2
  },
  {
   "metadata": {
    "ExecuteTime": {
     "end_time": "2025-08-13T10:06:16.769349Z",
     "start_time": "2025-08-13T10:06:16.629233Z"
    }
   },
   "cell_type": "code",
   "source": [
    "'''groupby without agg function i.e using category'''\n",
    "b = {'Category': ['A', 'B', 'A', 'B', 'A', 'B'],\n",
    "        'Sales': [100, 150, 200, 50, 300, 120]}\n",
    "\n",
    "b1 = pd.DataFrame(b)\n",
    "\n",
    "# convert Category column to categorical type\n",
    "b1['Category'] = pd.Categorical(b1['Category'])\n",
    "\n",
    "# group by Category  and calculate the total sales\n",
    "grouped = b1.groupby('Category')['Sales'].sum()\n",
    "\n",
    "print(grouped)"
   ],
   "id": "c6a4aafcfd01b78c",
   "outputs": [
    {
     "name": "stdout",
     "output_type": "stream",
     "text": [
      "Category\n",
      "A    600\n",
      "B    320\n",
      "Name: Sales, dtype: int64\n"
     ]
    },
    {
     "name": "stderr",
     "output_type": "stream",
     "text": [
      "C:\\Users\\v\\AppData\\Local\\Temp\\ipykernel_18968\\4158906295.py:11: FutureWarning: The default of observed=False is deprecated and will be changed to True in a future version of pandas. Pass observed=False to retain current behavior or observed=True to adopt the future default and silence this warning.\n",
      "  grouped = b1.groupby('Category')['Sales'].sum()\n"
     ]
    }
   ],
   "execution_count": 3
  }
 ],
 "metadata": {
  "kernelspec": {
   "display_name": "Python 3",
   "language": "python",
   "name": "python3"
  },
  "language_info": {
   "codemirror_mode": {
    "name": "ipython",
    "version": 2
   },
   "file_extension": ".py",
   "mimetype": "text/x-python",
   "name": "python",
   "nbconvert_exporter": "python",
   "pygments_lexer": "ipython2",
   "version": "2.7.6"
  }
 },
 "nbformat": 4,
 "nbformat_minor": 5
}
