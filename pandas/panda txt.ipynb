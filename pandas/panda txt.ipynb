{
 "cells": [
  {
   "cell_type": "code",
   "id": "initial_id",
   "metadata": {
    "collapsed": true,
    "ExecuteTime": {
     "end_time": "2025-09-11T09:55:50.304706Z",
     "start_time": "2025-09-11T09:55:47.523154Z"
    }
   },
   "source": [
    "import pandas as pd\n",
    "'''using fwf'''\n",
    "d = pd.read_fwf('c1.txt', colspecs=[(0, 5), (6, 9), (10, 16)], names = ['Name', 'Age', 'Height'])\n",
    "\n",
    "print(d)\n"
   ],
   "outputs": [
    {
     "name": "stdout",
     "output_type": "stream",
     "text": [
      "    Name  Age  Height\n",
      "0   John   25     170\n",
      "1  Alice   28     165\n",
      "2    Bob   30     180\n"
     ]
    }
   ],
   "execution_count": 2
  },
  {
   "metadata": {
    "ExecuteTime": {
     "end_time": "2025-09-11T09:55:50.334622Z",
     "start_time": "2025-09-11T09:55:50.325125Z"
    }
   },
   "cell_type": "code",
   "source": [
    "'''using table'''\n",
    "d1=pd.read_table(\"c2.txt\")\n",
    "print(d1)\n"
   ],
   "id": "68cdaed212754260",
   "outputs": [
    {
     "name": "stdout",
     "output_type": "stream",
     "text": [
      "       Name/Age/City\n",
      "0  Alice/25/New York\n",
      "1      Bob/30/London\n"
     ]
    }
   ],
   "execution_count": 3
  },
  {
   "metadata": {
    "ExecuteTime": {
     "end_time": "2025-09-11T09:56:40.747621Z",
     "start_time": "2025-09-11T09:56:40.725684Z"
    }
   },
   "cell_type": "code",
   "source": [
    "file=pd.read_table(\"data.txt\")\n",
    "print(file)"
   ],
   "id": "869253e2ae461ee",
   "outputs": [
    {
     "name": "stdout",
     "output_type": "stream",
     "text": [
      "                              Supplementary materials \n",
      "0    Table S1: The photocatalysis data used for the...\n",
      "1                                   Photocat. Initial \n",
      "2                                Photocat. size Light \n",
      "3            Photocat. Contaminants dosage conc. pH -1\n",
      "4                                         k (min ) Ref\n",
      "..                                                 ...\n",
      "618  [54] Ameta, K. L., Malkani, R. K., & Ameta, S....\n",
      "619  MANGANESE(IV) OXIDE PARTICULATE SYSTEM AS A PH...\n",
      "620  PHOTOASSISTED BLEACHING OF SOME DYES. Internat...\n",
      "621                                  8(3), 1658-1668. \n",
      "622                                                   \n",
      "\n",
      "[623 rows x 1 columns]\n"
     ]
    }
   ],
   "execution_count": 4
  }
 ],
 "metadata": {
  "kernelspec": {
   "display_name": "Python 3",
   "language": "python",
   "name": "python3"
  },
  "language_info": {
   "codemirror_mode": {
    "name": "ipython",
    "version": 2
   },
   "file_extension": ".py",
   "mimetype": "text/x-python",
   "name": "python",
   "nbconvert_exporter": "python",
   "pygments_lexer": "ipython2",
   "version": "2.7.6"
  }
 },
 "nbformat": 4,
 "nbformat_minor": 5
}
