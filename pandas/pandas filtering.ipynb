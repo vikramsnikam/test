{
 "cells": [
  {
   "cell_type": "code",
   "id": "7ad28947b075b83e",
   "metadata": {},
   "source": [
    "'''We can filter the data in Pandas in two main ways:\n",
    "By column names (Labels)\n",
    "By the actual data inside (Values)'''\n",
    "import pandas as pd"
   ],
   "execution_count": null,
   "outputs": []
  },
  {
   "metadata": {},
   "cell_type": "code",
   "outputs": [
    {
     "name": "stdout",
     "output_type": "stream",
     "text": [
      "Original DataFrame:\n",
      "      Name Department  Salary\n",
      "0    Alice         HR   50000\n",
      "1      Bob  Marketing   60000\n",
      "2  Charlie  Marketing   55000\n",
      "3    David         IT   70000\n",
      "\n",
      "\n",
      "Filtered DataFrame:\n",
      "      Name  Salary\n",
      "0    Alice   50000\n",
      "1      Bob   60000\n",
      "2  Charlie   55000\n",
      "3    David   70000\n"
     ]
    }
   ],
   "execution_count": 3,
   "source": [
    "\n",
    "'''Filter Data By Labels'''\n",
    "a = {'Name': ['Alice', 'Bob', 'Charlie', 'David'],\n",
    "        'Department': ['HR', 'Marketing', 'Marketing', 'IT'],\n",
    "        'Salary': [50000, 60000, 55000, 70000]}\n",
    "\n",
    "a1 = pd.DataFrame(a)\n",
    "\n",
    "# display the original DataFrame\n",
    "print(\"Original DataFrame:\")\n",
    "print(a1)\n",
    "print(\"\\n\")\n",
    "\n",
    "# use the filter() method to select columns based on a condition\n",
    "filtered_a1 = a1.filter(items=['Name', 'Salary'])\n",
    "\n",
    "# display the filtered DataFrame\n",
    "print(\"Filtered DataFrame:\")\n",
    "print(filtered_a1)"
   ],
   "id": "initial_id"
  },
  {
   "metadata": {
    "ExecuteTime": {
     "end_time": "2025-08-13T10:16:10.152579Z",
     "start_time": "2025-08-13T10:16:10.137119Z"
    }
   },
   "cell_type": "code",
   "source": [
    "'''Filter Data By values'''\n",
    "print(\"Original DataFrame:\")\n",
    "print(a1)\n",
    "print(\"\\n\")\n",
    "\n",
    "# use logical operators to filter\n",
    "logical_a1 = a1[a1.Salary > 55000]\n",
    "\n",
    "# display the filtered DataFrame\n",
    "print(\"logically Filtered DataFrame:\")\n",
    "print(logical_a1)"
   ],
   "id": "4fa4af221fd0ae9c",
   "outputs": [
    {
     "name": "stdout",
     "output_type": "stream",
     "text": [
      "Original DataFrame:\n",
      "      Name Department  Salary\n",
      "0    Alice         HR   50000\n",
      "1      Bob  Marketing   60000\n",
      "2  Charlie  Marketing   55000\n",
      "3    David         IT   70000\n",
      "\n",
      "\n",
      "logically Filtered DataFrame:\n",
      "    Name Department  Salary\n",
      "1    Bob  Marketing   60000\n",
      "3  David         IT   70000\n"
     ]
    }
   ],
   "execution_count": 5
  },
  {
   "metadata": {
    "ExecuteTime": {
     "end_time": "2025-08-13T10:18:10.213305Z",
     "start_time": "2025-08-13T10:18:10.205055Z"
    }
   },
   "cell_type": "code",
   "source": [
    "'''The isin() Method'''\n",
    "print(\"Original DataFrame:\")\n",
    "print(a1)\n",
    "print(\"\\n\")\n",
    "# use isin() method\n",
    "dd = ['HR', 'IT']\n",
    "isin_a1 = a1[a1.Department.isin(dd)]\n",
    "\n",
    "# display the filtered DataFrame\n",
    "print(\"is in Filtered DataFrame:\")\n",
    "print(isin_a1)"
   ],
   "id": "ea8b0e052b36ef07",
   "outputs": [
    {
     "name": "stdout",
     "output_type": "stream",
     "text": [
      "Original DataFrame:\n",
      "      Name Department  Salary\n",
      "0    Alice         HR   50000\n",
      "1      Bob  Marketing   60000\n",
      "2  Charlie  Marketing   55000\n",
      "3    David         IT   70000\n",
      "\n",
      "\n",
      "is in Filtered DataFrame:\n",
      "    Name Department  Salary\n",
      "0  Alice         HR   50000\n",
      "3  David         IT   70000\n"
     ]
    }
   ],
   "execution_count": 7
  },
  {
   "metadata": {
    "ExecuteTime": {
     "end_time": "2025-08-13T10:20:59.212884Z",
     "start_time": "2025-08-13T10:20:59.198276Z"
    }
   },
   "cell_type": "code",
   "source": [
    "'''str filtered'''\n",
    "print(\"Original DataFrame:\")\n",
    "print(a1)\n",
    "print(\"\\n\")\n",
    "str_a1 = a1[a1.Department.str.contains('Mar')]\n",
    "print(str_a1)"
   ],
   "id": "bfda0c78489ebc4",
   "outputs": [
    {
     "name": "stdout",
     "output_type": "stream",
     "text": [
      "Original DataFrame:\n",
      "      Name Department  Salary\n",
      "0    Alice         HR   50000\n",
      "1      Bob  Marketing   60000\n",
      "2  Charlie  Marketing   55000\n",
      "3    David         IT   70000\n",
      "\n",
      "\n",
      "      Name Department  Salary\n",
      "1      Bob  Marketing   60000\n",
      "2  Charlie  Marketing   55000\n"
     ]
    }
   ],
   "execution_count": 10
  },
  {
   "metadata": {
    "ExecuteTime": {
     "end_time": "2025-08-13T10:23:51.743451Z",
     "start_time": "2025-08-13T10:23:51.728530Z"
    }
   },
   "cell_type": "code",
   "source": [
    "'''query method'''\n",
    "print(\"Original DataFrame:\")\n",
    "print(a1)\n",
    "print(\"\\n\")\n",
    "qry_a1=a1.query('Salary > 5000 and Department == \"HR\"')\n",
    "print(\"Query DataFrame:\")\n",
    "print(qry_a1)"
   ],
   "id": "79563541727c3714",
   "outputs": [
    {
     "name": "stdout",
     "output_type": "stream",
     "text": [
      "Original DataFrame:\n",
      "      Name Department  Salary\n",
      "0    Alice         HR   50000\n",
      "1      Bob  Marketing   60000\n",
      "2  Charlie  Marketing   55000\n",
      "3    David         IT   70000\n",
      "\n",
      "\n",
      "Query DataFrame:\n",
      "    Name Department  Salary\n",
      "0  Alice         HR   50000\n"
     ]
    }
   ],
   "execution_count": 12
  }
 ],
 "metadata": {
  "kernelspec": {
   "display_name": "Python 3",
   "language": "python",
   "name": "python3"
  },
  "language_info": {
   "codemirror_mode": {
    "name": "ipython",
    "version": 2
   },
   "file_extension": ".py",
   "mimetype": "text/x-python",
   "name": "python",
   "nbconvert_exporter": "python",
   "pygments_lexer": "ipython2",
   "version": "2.7.6"
  }
 },
 "nbformat": 4,
 "nbformat_minor": 5
}
