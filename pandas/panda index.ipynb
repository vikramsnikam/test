{
 "cells": [
  {
   "cell_type": "code",
   "id": "initial_id",
   "metadata": {
    "collapsed": true,
    "ExecuteTime": {
     "end_time": "2025-08-04T11:07:56.512763Z",
     "start_time": "2025-08-04T11:07:56.499534Z"
    }
   },
   "source": [
    "import pandas as pd\n",
    "a={'country':[' Canada ','Australia ','UK ','Brazil'],\n",
    "   'capital': ['Ottawa','canberra','london','Brasilia'],\n",
    "    'Population':[37742154,25499884,67886011,212559417]}\n",
    "b=pd.DataFrame(a)\n",
    "print(b)\n",
    "print('change index to country')\n",
    "b.set_index('country',inplace=True)\n",
    "print(b)"
   ],
   "outputs": [
    {
     "name": "stdout",
     "output_type": "stream",
     "text": [
      "      country   capital  Population\n",
      "0     Canada     Ottawa    37742154\n",
      "1  Australia   canberra    25499884\n",
      "2         UK     london    67886011\n",
      "3      Brazil  Brasilia   212559417\n",
      "change index to country\n",
      "             capital  Population\n",
      "country                         \n",
      " Canada       Ottawa    37742154\n",
      "Australia   canberra    25499884\n",
      "UK            london    67886011\n",
      "Brazil      Brasilia   212559417\n"
     ]
    }
   ],
   "execution_count": 29
  },
  {
   "metadata": {
    "ExecuteTime": {
     "end_time": "2025-08-04T11:19:01.271386Z",
     "start_time": "2025-08-04T11:19:01.258989Z"
    }
   },
   "cell_type": "code",
   "source": [
    "'''creating ranged index'''\n",
    "a={'country':[' Canada ','Australia ','UK ','Brazil'],\n",
    "   'capital': ['Ottawa','canberra','london','Brasilia'],\n",
    "    'Population':[37742154,25499884,67886011,212559417]}\n",
    "c=pd.DataFrame(a)\n",
    "print(c)\n",
    "print('ranged index')\n",
    "\n",
    "c=pd.DataFrame(a,index=pd.RangeIndex(5,9,name='Index'))\n",
    "print(c)"
   ],
   "id": "620e1cfdbdde9439",
   "outputs": [
    {
     "name": "stdout",
     "output_type": "stream",
     "text": [
      "      country   capital  Population\n",
      "0     Canada     Ottawa    37742154\n",
      "1  Australia   canberra    25499884\n",
      "2         UK     london    67886011\n",
      "3      Brazil  Brasilia   212559417\n",
      "ranged index\n",
      "          country   capital  Population\n",
      "Index                                  \n",
      "5         Canada     Ottawa    37742154\n",
      "6      Australia   canberra    25499884\n",
      "7             UK     london    67886011\n",
      "8          Brazil  Brasilia   212559417\n"
     ]
    }
   ],
   "execution_count": 41
  },
  {
   "metadata": {
    "ExecuteTime": {
     "end_time": "2025-08-04T11:29:14.963337Z",
     "start_time": "2025-08-04T11:29:14.936175Z"
    }
   },
   "cell_type": "code",
   "source": [
    "'''rename'''\n",
    "a={'country':[' Canada ','Australia ','UK '],\n",
    "   'capital': ['Ottawa','canberra','london'],\n",
    "    'Population':[37742154,25499884,67886011]}\n",
    "c=pd.DataFrame(a)\n",
    "print(c)\n",
    "print()\n",
    "print('renamed index')\n",
    "c.rename(index={0:'a',1:'b',2:'c'},inplace=True)\n",
    "print(c)\n",
    "print('reset index')\n",
    "c.reset_index(inplace=True)\n",
    "print(c)"
   ],
   "id": "d181310f1e97f930",
   "outputs": [
    {
     "name": "stdout",
     "output_type": "stream",
     "text": [
      "      country   capital  Population\n",
      "0     Canada     Ottawa    37742154\n",
      "1  Australia   canberra    25499884\n",
      "2         UK     london    67886011\n",
      "\n",
      "renamed index\n",
      "      country   capital  Population\n",
      "a     Canada     Ottawa    37742154\n",
      "b  Australia   canberra    25499884\n",
      "c         UK     london    67886011\n",
      "reset index\n",
      "  index     country   capital  Population\n",
      "0     a     Canada     Ottawa    37742154\n",
      "1     b  Australia   canberra    25499884\n",
      "2     c         UK     london    67886011\n"
     ]
    }
   ],
   "execution_count": 46
  },
  {
   "metadata": {
    "ExecuteTime": {
     "end_time": "2025-08-04T11:32:47.182363Z",
     "start_time": "2025-08-04T11:32:47.171823Z"
    }
   },
   "cell_type": "code",
   "source": [
    "'''accessing row'''\n",
    "a={'country':[' Canada ','Australia ','UK '],\n",
    "   'capital': ['Ottawa','canberra','london'],\n",
    "    'Population':[37742154,25499884,67886011]}\n",
    "b=pd.DataFrame(a)\n",
    "print(b)\n",
    "print()\n",
    "\n",
    "second_row=b.iloc[1]\n",
    "print(second_row)"
   ],
   "id": "d52bea314afdbc8",
   "outputs": [
    {
     "name": "stdout",
     "output_type": "stream",
     "text": [
      "      country   capital  Population\n",
      "0     Canada     Ottawa    37742154\n",
      "1  Australia   canberra    25499884\n",
      "2         UK     london    67886011\n",
      "\n",
      "country       Australia \n",
      "capital         canberra\n",
      "Population      25499884\n",
      "Name: 1, dtype: object\n"
     ]
    }
   ],
   "execution_count": 49
  },
  {
   "metadata": {
    "ExecuteTime": {
     "end_time": "2025-08-04T11:34:51.437123Z",
     "start_time": "2025-08-04T11:34:51.418477Z"
    }
   },
   "cell_type": "code",
   "source": [
    "'''dataframe index'''\n",
    "a={'country':[' Canada ','Australia ','UK '],\n",
    "   'capital': ['Ottawa','canberra','london'],\n",
    "    'Population':[37742154,25499884,67886011]}\n",
    "b=pd.DataFrame(a)\n",
    "print(b)\n",
    "print()\n",
    "print(b.index)\n",
    "\n",
    "print(b.index.values)"
   ],
   "id": "61461c14b60c8cf0",
   "outputs": [
    {
     "name": "stdout",
     "output_type": "stream",
     "text": [
      "      country   capital  Population\n",
      "0     Canada     Ottawa    37742154\n",
      "1  Australia   canberra    25499884\n",
      "2         UK     london    67886011\n",
      "\n",
      "RangeIndex(start=0, stop=3, step=1)\n",
      "[0 1 2]\n"
     ]
    }
   ],
   "execution_count": 51
  }
 ],
 "metadata": {
  "kernelspec": {
   "display_name": "Python 3",
   "language": "python",
   "name": "python3"
  },
  "language_info": {
   "codemirror_mode": {
    "name": "ipython",
    "version": 2
   },
   "file_extension": ".py",
   "mimetype": "text/x-python",
   "name": "python",
   "nbconvert_exporter": "python",
   "pygments_lexer": "ipython2",
   "version": "2.7.6"
  }
 },
 "nbformat": 4,
 "nbformat_minor": 5
}
