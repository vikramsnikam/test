{
 "cells": [
  {
   "cell_type": "code",
   "id": "initial_id",
   "metadata": {
    "collapsed": true,
    "ExecuteTime": {
     "end_time": "2025-08-06T11:47:35.512719Z",
     "start_time": "2025-08-06T11:47:35.501607Z"
    }
   },
   "source": [
    "import pandas as pd\n",
    "a=pd.read_csv('p1.csv')\n",
    "print(a)"
   ],
   "outputs": [
    {
     "name": "stdout",
     "output_type": "stream",
     "text": [
      "     Element Symbol  AtomicNumber  AtomicWeight  Group  Period\n",
      "0   Hydrogen      H             1        1.0080      1       1\n",
      "1     Helium     He             2        4.0026     18       1\n",
      "2    Lithium     Li             3        6.9400      1       2\n",
      "3  Beryllium     Be             4        9.0122      2       2\n",
      "4      Boron      B             5       10.8100     13       2\n",
      "5     Carbon      C             6       12.0110     14       2\n",
      "6   Nitrogen      N             7       14.0070     15       2\n",
      "7     Oxygen      O             8       15.9990     16       2\n",
      "8   Fluorine      F             9       18.9980     17       2\n",
      "9       Neon     Ne            10       20.1800     18       2\n"
     ]
    }
   ],
   "execution_count": 11
  },
  {
   "metadata": {
    "ExecuteTime": {
     "end_time": "2025-08-06T11:48:19.832991Z",
     "start_time": "2025-08-06T11:48:19.820055Z"
    }
   },
   "cell_type": "code",
   "source": [
    "'''read csv with argument/changing column name '''\n",
    "a = pd.read_csv('p1.csv', header = None, names = ['col1', 'col2', 'col3','col4','col5','col6',], skiprows = 2)\n",
    "\n",
    "print(a)\n"
   ],
   "id": "8c90133d75873756",
   "outputs": [
    {
     "name": "stdout",
     "output_type": "stream",
     "text": [
      "        col1 col2  col3     col4  col5  col6\n",
      "0     Helium   He     2   4.0026    18     1\n",
      "1    Lithium   Li     3   6.9400     1     2\n",
      "2  Beryllium   Be     4   9.0122     2     2\n",
      "3      Boron    B     5  10.8100    13     2\n",
      "4     Carbon    C     6  12.0110    14     2\n",
      "5   Nitrogen    N     7  14.0070    15     2\n",
      "6     Oxygen    O     8  15.9990    16     2\n",
      "7   Fluorine    F     9  18.9980    17     2\n",
      "8       Neon   Ne    10  20.1800    18     2\n"
     ]
    }
   ],
   "execution_count": 13
  },
  {
   "metadata": {
    "ExecuteTime": {
     "end_time": "2025-08-06T11:54:26.612886Z",
     "start_time": "2025-08-06T11:54:26.603098Z"
    }
   },
   "cell_type": "code",
   "source": [
    "''''creating csv file'''\n",
    "d= {'Name': ['John', 'Alice', 'Bob'],\n",
    "        'Age': [25, 30, 35],\n",
    "        'City': ['New York', 'London', 'Paris']}\n",
    "\n",
    "# create a dataframe from the dictionary\n",
    "d1 = pd.DataFrame(d)\n",
    "\n",
    "# write dataframe to csv file\n",
    "d1.to_csv('output.csv', index=False)\n",
    "'''creating csv with argument'''\n",
    "d2=pd.DataFrame(a)\n",
    "d2.to_csv('output1.csv', sep = ';', index = False, header = True)"
   ],
   "id": "d8a340f75b78fa74",
   "outputs": [],
   "execution_count": 16
  }
 ],
 "metadata": {
  "kernelspec": {
   "display_name": "Python 3",
   "language": "python",
   "name": "python3"
  },
  "language_info": {
   "codemirror_mode": {
    "name": "ipython",
    "version": 2
   },
   "file_extension": ".py",
   "mimetype": "text/x-python",
   "name": "python",
   "nbconvert_exporter": "python",
   "pygments_lexer": "ipython2",
   "version": "2.7.6"
  }
 },
 "nbformat": 4,
 "nbformat_minor": 5
}
