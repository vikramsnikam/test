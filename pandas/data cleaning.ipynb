{
 "cells": [
  {
   "cell_type": "code",
   "id": "initial_id",
   "metadata": {
    "collapsed": true,
    "ExecuteTime": {
     "end_time": "2025-08-12T10:54:45.185803Z",
     "start_time": "2025-08-12T10:54:45.163854Z"
    }
   },
   "source": [
    "import pandas as pd\n",
    "'''dropping row with missing value'''\n",
    "a= {\n",
    "    'A': [1, 2, 3, None, 5,6],\n",
    "    'B': [None, 2, 3, 4, 5,7],\n",
    "    'C': [1, 2, None, None, 5,8]\n",
    "}\n",
    "a1=pd.DataFrame(a)\n",
    "print('original dataframe')\n",
    "print(a1)\n",
    "a2=a1.dropna()\n",
    "print('cleaned dataframe')\n",
    "print(a2)\n"
   ],
   "outputs": [
    {
     "name": "stdout",
     "output_type": "stream",
     "text": [
      "original dataframe\n",
      "     A    B    C\n",
      "0  1.0  NaN  1.0\n",
      "1  2.0  2.0  2.0\n",
      "2  3.0  3.0  NaN\n",
      "3  NaN  4.0  NaN\n",
      "4  5.0  5.0  5.0\n",
      "5  6.0  7.0  8.0\n",
      "cleaned dataframe\n",
      "     A    B    C\n",
      "1  2.0  2.0  2.0\n",
      "4  5.0  5.0  5.0\n",
      "5  6.0  7.0  8.0\n"
     ]
    }
   ],
   "execution_count": 9
  },
  {
   "metadata": {},
   "cell_type": "code",
   "source": [
    "'''filling missing values'''\n",
    "a3=a1.fillna(0)\n",
    "print(a3)\n",
    "print('filled missing values')\n",
    "# a1.fillna(0,inplace=True)\n",
    "# print(a1)"
   ],
   "id": "36a07a963af09cca",
   "execution_count": null,
   "outputs": []
  },
  {
   "metadata": {
    "ExecuteTime": {
     "end_time": "2025-08-12T11:03:23.206214Z",
     "start_time": "2025-08-12T11:03:23.185120Z"
    }
   },
   "cell_type": "code",
   "source": [
    "\n",
    "'''dropping row with missing value'''\n",
    "a= {\n",
    "    'A': [1, 2, 3, None, 5,6],\n",
    "    'B': [None, 2, 3, 4, 5,7],\n",
    "    'C': [1, 2, None, None, 5,8]\n",
    "}\n",
    "a1=pd.DataFrame(a)\n",
    "print('original dataframe')\n",
    "print(a1)\n",
    "print('using aggregate function')\n",
    "a4=a1.fillna(a1.mean())\n",
    "print(a4)"
   ],
   "id": "c81cd2a4e1de1ba7",
   "outputs": [
    {
     "name": "stdout",
     "output_type": "stream",
     "text": [
      "original dataframe\n",
      "     A    B    C\n",
      "0  1.0  NaN  1.0\n",
      "1  2.0  2.0  2.0\n",
      "2  3.0  3.0  NaN\n",
      "3  NaN  4.0  NaN\n",
      "4  5.0  5.0  5.0\n",
      "5  6.0  7.0  8.0\n",
      "using aggregate function\n",
      "     A    B    C\n",
      "0  1.0  4.2  1.0\n",
      "1  2.0  2.0  2.0\n",
      "2  3.0  3.0  4.0\n",
      "3  3.4  4.0  4.0\n",
      "4  5.0  5.0  5.0\n",
      "5  6.0  7.0  8.0\n"
     ]
    }
   ],
   "execution_count": 25
  },
  {
   "metadata": {
    "ExecuteTime": {
     "end_time": "2025-08-12T11:11:27.301319Z",
     "start_time": "2025-08-12T11:11:27.280697Z"
    }
   },
   "cell_type": "code",
   "source": [
    "'''handling duplicate values'''\n",
    "b = {\n",
    "    'A': [1, 2, 2, 3, 3, 4],\n",
    "    'B': [5, 6, 6, 7, 8, 8]\n",
    "}\n",
    "b1=pd.DataFrame(b)\n",
    "print('original dataframe')\n",
    "print(b1)\n",
    "print(\"\\nDuplicate Rows:\\n\", b1[b1.duplicated()].to_string(index=False))\n",
    "'''removing duplicate rows'''\n",
    "b1.drop_duplicates(subset=['A'], keep='first', inplace=True)\n",
    "print('removing duplicate rows')\n",
    "print(b1)\n"
   ],
   "id": "a9f9b235e3bf388b",
   "outputs": [
    {
     "name": "stdout",
     "output_type": "stream",
     "text": [
      "original dataframe\n",
      "   A  B\n",
      "0  1  5\n",
      "1  2  6\n",
      "2  2  6\n",
      "3  3  7\n",
      "4  3  8\n",
      "5  4  8\n",
      "\n",
      "Duplicate Rows:\n",
      "  A  B\n",
      " 2  6\n",
      "removing duplicate rows\n",
      "   A  B\n",
      "0  1  5\n",
      "1  2  6\n",
      "3  3  7\n",
      "5  4  8\n"
     ]
    }
   ],
   "execution_count": 29
  },
  {
   "metadata": {
    "ExecuteTime": {
     "end_time": "2025-08-12T11:17:06.389886Z",
     "start_time": "2025-08-12T11:17:06.335252Z"
    }
   },
   "cell_type": "code",
   "source": [
    "'''renaming columns'''\n",
    "c = {\n",
    "    'A': [25, 30, 35],\n",
    "    'B': ['John', 'Doe', 'Smith'],\n",
    "    'C': [50000, 60000, 70000]\n",
    "}\n",
    "\n",
    "c1 = pd.DataFrame(c)\n",
    "\n",
    "# rename columns\n",
    "c1.rename(columns={'A': 'Age', 'B': 'Name', 'C': 'Salary'}, inplace=True)\n",
    "\n",
    "print(c1.to_string(index=False))\n"
   ],
   "id": "1d551df3a88cb2a",
   "outputs": [
    {
     "name": "stdout",
     "output_type": "stream",
     "text": [
      " Age  Name  Salary\n",
      "  25  John   50000\n",
      "  30   Doe   60000\n",
      "  35 Smith   70000\n"
     ]
    }
   ],
   "execution_count": 31
  },
  {
   "metadata": {
    "ExecuteTime": {
     "end_time": "2025-08-12T11:17:17.466745Z",
     "start_time": "2025-08-12T11:17:17.335105Z"
    }
   },
   "cell_type": "code",
   "source": [
    "import pandas as pd\n",
    "import numpy as np\n",
    "\n",
    "# create a dataframe with missing values\n",
    "data = {\n",
    "    'A': [1, 2, np.nan, 4, 5],\n",
    "    'B': [np.nan, 2, 3, 4, 5],\n",
    "    'C': [1, 2, 3, np.nan, 5],\n",
    "    'D': [1, 2, 3, 4, 5]\n",
    "}\n",
    "df = pd.DataFrame(data)\n",
    "\n",
    "# replace missing values with mean\n",
    "df['A'].fillna(value=df['A'].mean(), inplace=True)\n",
    "\n",
    "# replace missing values with median\n",
    "df['B'].fillna(value=df['B'].median(), inplace=True)\n",
    "\n",
    "# replace missing values with mode\n",
    "df['C'].fillna(value=df['C'].mode()[0], inplace=True)\n",
    "\n",
    "print(df)"
   ],
   "id": "c490e401421aa83e",
   "outputs": [
    {
     "name": "stdout",
     "output_type": "stream",
     "text": [
      "     A    B    C  D\n",
      "0  1.0  3.5  1.0  1\n",
      "1  2.0  2.0  2.0  2\n",
      "2  3.0  3.0  3.0  3\n",
      "3  4.0  4.0  1.0  4\n",
      "4  5.0  5.0  5.0  5\n"
     ]
    },
    {
     "name": "stderr",
     "output_type": "stream",
     "text": [
      "C:\\Users\\v\\AppData\\Local\\Temp\\ipykernel_2828\\2106249822.py:14: FutureWarning: A value is trying to be set on a copy of a DataFrame or Series through chained assignment using an inplace method.\n",
      "The behavior will change in pandas 3.0. This inplace method will never work because the intermediate object on which we are setting values always behaves as a copy.\n",
      "\n",
      "For example, when doing 'df[col].method(value, inplace=True)', try using 'df.method({col: value}, inplace=True)' or df[col] = df[col].method(value) instead, to perform the operation inplace on the original object.\n",
      "\n",
      "\n",
      "  df['A'].fillna(value=df['A'].mean(), inplace=True)\n",
      "C:\\Users\\v\\AppData\\Local\\Temp\\ipykernel_2828\\2106249822.py:17: FutureWarning: A value is trying to be set on a copy of a DataFrame or Series through chained assignment using an inplace method.\n",
      "The behavior will change in pandas 3.0. This inplace method will never work because the intermediate object on which we are setting values always behaves as a copy.\n",
      "\n",
      "For example, when doing 'df[col].method(value, inplace=True)', try using 'df.method({col: value}, inplace=True)' or df[col] = df[col].method(value) instead, to perform the operation inplace on the original object.\n",
      "\n",
      "\n",
      "  df['B'].fillna(value=df['B'].median(), inplace=True)\n",
      "C:\\Users\\v\\AppData\\Local\\Temp\\ipykernel_2828\\2106249822.py:20: FutureWarning: A value is trying to be set on a copy of a DataFrame or Series through chained assignment using an inplace method.\n",
      "The behavior will change in pandas 3.0. This inplace method will never work because the intermediate object on which we are setting values always behaves as a copy.\n",
      "\n",
      "For example, when doing 'df[col].method(value, inplace=True)', try using 'df.method({col: value}, inplace=True)' or df[col] = df[col].method(value) instead, to perform the operation inplace on the original object.\n",
      "\n",
      "\n",
      "  df['C'].fillna(value=df['C'].mode()[0], inplace=True)\n"
     ]
    }
   ],
   "execution_count": 32
  }
 ],
 "metadata": {
  "kernelspec": {
   "display_name": "Python 3",
   "language": "python",
   "name": "python3"
  },
  "language_info": {
   "codemirror_mode": {
    "name": "ipython",
    "version": 2
   },
   "file_extension": ".py",
   "mimetype": "text/x-python",
   "name": "python",
   "nbconvert_exporter": "python",
   "pygments_lexer": "ipython2",
   "version": "2.7.6"
  }
 },
 "nbformat": 4,
 "nbformat_minor": 5
}
