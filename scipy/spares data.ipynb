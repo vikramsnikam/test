{
 "cells": [
  {
   "cell_type": "code",
   "execution_count": null,
   "id": "54b7802ea42bcc94",
   "metadata": {},
   "source": [
    "from binascii import b2a_qp\n",
    "\n",
    "'''Sparse data is data that has mostly unused elements (elements that don't carry any information ).\n",
    "It can be an array like this one:\n",
    "[1, 0, 2, 0, 0, 3, 0, 0, 0, 0, 0, 0]\n",
    "Sparse Data: is a data set where most of the item values are zero.'''"
   ],
   "outputs": []
  },
  {
   "metadata": {
    "ExecuteTime": {
     "end_time": "2025-08-24T11:27:18.628290Z",
     "start_time": "2025-08-24T11:27:18.616420Z"
    }
   },
   "cell_type": "code",
   "source": [
    "'''CSR - Compressed Sparse Row. For fast row slicing, faster matrix vector products'''\n",
    "import numpy as np\n",
    "from scipy.sparse import csr_matrix\n",
    "a=np.array([0, 0, 0, 0, 0, 1, 1, 0, 2])\n",
    "print(a)\n",
    "print(csr_matrix(a))\n"
   ],
   "id": "initial_id",
   "outputs": [
    {
     "name": "stdout",
     "output_type": "stream",
     "text": [
      "[0 0 0 0 0 1 1 0 2]\n",
      "<Compressed Sparse Row sparse matrix of dtype 'int64'\n",
      "\twith 3 stored elements and shape (1, 9)>\n",
      "  Coords\tValues\n",
      "  (0, 5)\t1\n",
      "  (0, 6)\t1\n",
      "  (0, 8)\t2\n"
     ]
    }
   ],
   "execution_count": 3
  },
  {
   "metadata": {
    "ExecuteTime": {
     "end_time": "2025-08-24T11:30:36.252228Z",
     "start_time": "2025-08-24T11:30:36.233036Z"
    }
   },
   "cell_type": "code",
   "source": [
    "'''with 2d'''\n",
    "b= np.array([[0, 0, 0], [0, 0, 1], [1, 0, 2]])\n",
    "print(b)\n",
    "print(csr_matrix(b))\n",
    "print('counting non zero')\n",
    "print(csr_matrix(b).count_nonzero())\n"
   ],
   "id": "bd3b16de3485846b",
   "outputs": [
    {
     "name": "stdout",
     "output_type": "stream",
     "text": [
      "[[0 0 0]\n",
      " [0 0 1]\n",
      " [1 0 2]]\n",
      "<Compressed Sparse Row sparse matrix of dtype 'int64'\n",
      "\twith 3 stored elements and shape (3, 3)>\n",
      "  Coords\tValues\n",
      "  (1, 2)\t1\n",
      "  (2, 0)\t1\n",
      "  (2, 2)\t2\n",
      "counting non zero\n",
      "3\n"
     ]
    }
   ],
   "execution_count": 7
  },
  {
   "metadata": {
    "ExecuteTime": {
     "end_time": "2025-08-24T11:34:13.100327Z",
     "start_time": "2025-08-24T11:34:13.089913Z"
    }
   },
   "cell_type": "code",
   "source": [
    "'''eliminating non zero'''\n",
    "b1=(csr_matrix(b))\n",
    "b1.eliminate_zeros()\n",
    "print(b1)"
   ],
   "id": "d71da1f79d685266",
   "outputs": [
    {
     "name": "stdout",
     "output_type": "stream",
     "text": [
      "<Compressed Sparse Row sparse matrix of dtype 'int64'\n",
      "\twith 3 stored elements and shape (3, 3)>\n",
      "  Coords\tValues\n",
      "  (1, 2)\t1\n",
      "  (2, 0)\t1\n",
      "  (2, 2)\t2\n"
     ]
    }
   ],
   "execution_count": 9
  },
  {
   "metadata": {
    "ExecuteTime": {
     "end_time": "2025-08-24T11:41:30.191637Z",
     "start_time": "2025-08-24T11:41:30.183736Z"
    }
   },
   "cell_type": "code",
   "source": [
    "'''CSC - Compressed Sparse Column. For efficient arithmetic, fast column slicing.\n",
    "Converting from csr to csc with the tocsc() method:'''\n",
    "print(b)\n",
    "print(csr_matrix(b))\n",
    "\n",
    "b2=csr_matrix(b).tocsc()\n",
    "print(b2)\n"
   ],
   "id": "25d1537baa9f6625",
   "outputs": [
    {
     "name": "stdout",
     "output_type": "stream",
     "text": [
      "[[0 0 0]\n",
      " [0 0 1]\n",
      " [1 0 2]]\n",
      "<Compressed Sparse Row sparse matrix of dtype 'int64'\n",
      "\twith 3 stored elements and shape (3, 3)>\n",
      "  Coords\tValues\n",
      "  (1, 2)\t1\n",
      "  (2, 0)\t1\n",
      "  (2, 2)\t2\n",
      "<Compressed Sparse Column sparse matrix of dtype 'int64'\n",
      "\twith 3 stored elements and shape (3, 3)>\n",
      "  Coords\tValues\n",
      "  (2, 0)\t1\n",
      "  (1, 2)\t1\n",
      "  (2, 2)\t2\n"
     ]
    }
   ],
   "execution_count": 12
  }
 ],
 "metadata": {
  "kernelspec": {
   "display_name": "Python 3",
   "language": "python",
   "name": "python3"
  },
  "language_info": {
   "codemirror_mode": {
    "name": "ipython",
    "version": 2
   },
   "file_extension": ".py",
   "mimetype": "text/x-python",
   "name": "python",
   "nbconvert_exporter": "python",
   "pygments_lexer": "ipython2",
   "version": "2.7.6"
  }
 },
 "nbformat": 4,
 "nbformat_minor": 5
}
