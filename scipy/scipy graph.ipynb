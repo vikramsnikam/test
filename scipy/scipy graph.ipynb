{
 "cells": [
  {
   "cell_type": "code",
   "id": "initial_id",
   "metadata": {
    "collapsed": true,
    "ExecuteTime": {
     "end_time": "2025-08-25T10:07:45.061687Z",
     "start_time": "2025-08-25T10:07:41.984323Z"
    }
   },
   "source": [
    "'''For a graph like this, with elements A, B and C, the connections are:\n",
    "\n",
    "A & B are connected with weight 1.\n",
    "\n",
    "A & C are connected with weight 2.\n",
    "\n",
    "C & B is not connected.\n",
    "\n",
    "The Adjency Matrix would look like a:'''\n",
    "import numpy as np\n",
    "from scipy.sparse.csgraph import connected_components\n",
    "from scipy.sparse import csr_matrix\n",
    "'''connected components'''\n",
    "a = np.array([\n",
    "  [0, 1, 2],\n",
    "  [1, 0, 0],\n",
    "  [2, 0, 0]\n",
    "])\n",
    "\n",
    "a1 = csr_matrix(a)\n",
    "\n",
    "print(connected_components(a1))"
   ],
   "outputs": [
    {
     "name": "stdout",
     "output_type": "stream",
     "text": [
      "(1, array([0, 0, 0], dtype=int32))\n"
     ]
    }
   ],
   "execution_count": 3
  },
  {
   "metadata": {
    "ExecuteTime": {
     "end_time": "2025-08-25T10:07:46.122346Z",
     "start_time": "2025-08-25T10:07:46.115130Z"
    }
   },
   "cell_type": "code",
   "source": [
    "b = np.array([\n",
    "  [0, 1, 0,0],\n",
    "  [1, 0, 0,0],\n",
    "  [0, 0, 0,1],\n",
    "  [0, 0, 1,0]\n",
    "])\n",
    "\n",
    "b1 = csr_matrix(b)\n",
    "\n",
    "print(connected_components(b1))"
   ],
   "id": "21d2a980ca5da4c3",
   "outputs": [
    {
     "name": "stdout",
     "output_type": "stream",
     "text": [
      "(2, array([0, 0, 1, 1], dtype=int32))\n"
     ]
    }
   ],
   "execution_count": 5
  },
  {
   "metadata": {},
   "cell_type": "code",
   "source": [
    "'''Dijkstra\n",
    " dijkstra method used to find the shortest path in a graph from one element to another.'''\n",
    " ''' graph would look like\n",
    "    (0)\n",
    "   /   \\\n",
    "  10    3\n",
    " /       \\\n",
    "(1)---1--(2)\n",
    "  \\       |\n",
    "   2      8\n",
    "    \\     |\n",
    "     (3)--(4)\n",
    "        7\n",
    "Path1= 0 → 1 → 3 → 4\n",
    "\n",
    "Path2= 0 → 2 → 4\n",
    "\n",
    "Path3= 0 → 1 → 2 → 4\n",
    "\n",
    "We want to compute shortest paths from node 0.\n",
    "will try example\n",
    "'''"
   ],
   "id": "d0c5303985708ee8",
   "execution_count": null,
   "outputs": []
  },
  {
   "metadata": {
    "ExecuteTime": {
     "end_time": "2025-08-25T10:34:49.693345Z",
     "start_time": "2025-08-25T10:34:49.679993Z"
    }
   },
   "cell_type": "code",
   "source": [
    "import numpy as np\n",
    "from scipy.sparse.csgraph import dijkstra\n",
    "from scipy.sparse import csr_matrix\n",
    "c = [\n",
    "    [0, 10, 3, 0, 0],  # edges from node 0\n",
    "    [10, 0, 1, 2, 0],  # edges from node 1\n",
    "    [3, 1, 0, 0, 8],   # edges from node 2\n",
    "    [0, 2, 0, 0, 7],   # edges from node 3\n",
    "    [0, 0, 8, 7, 0]    # edges from node 4\n",
    "]\n",
    "c1=csr_matrix(c)\n",
    "print(dijkstra(c1, return_predecessors=True, indices=0))\n"
   ],
   "id": "af7c12658ac88559",
   "outputs": [
    {
     "name": "stdout",
     "output_type": "stream",
     "text": [
      "(array([ 0.,  4.,  3.,  6., 11.]), array([-9999,     2,     0,     1,     2], dtype=int32))\n"
     ]
    }
   ],
   "execution_count": 11
  },
  {
   "metadata": {
    "ExecuteTime": {
     "end_time": "2025-08-25T10:35:38.419993Z",
     "start_time": "2025-08-25T10:35:38.396560Z"
    }
   },
   "cell_type": "code",
   "source": [
    "'''This gives the minimum distance from source node (0) to each node:\n",
    "\n",
    "0. → Distance from 0 to 0 = 0\n",
    "\n",
    "4. → Distance from 0 to 1 = 4\n",
    "\n",
    "3. → Distance from 0 to 2 = 3\n",
    "\n",
    "6. → Distance from 0 to 3 = 6\n",
    "\n",
    "11. → Distance from 0 to 4 = 11\n",
    "\n",
    "So, for example, the shortest path from node 0 to node 3 is length 6.\n",
    "array([-9999,     2,     0,     1,     2], dtype=int32)\n",
    "This tells you which node was the previous step on the shortest path.\n",
    "\n",
    "-9999 → means no predecessor (that’s for the source itself, node 0).\n",
    "\n",
    "2 → To reach node 1 optimally, you come from node 2.\n",
    "\n",
    "0 → To reach node 2 optimally, you come from node 0.\n",
    "\n",
    "1 → To reach node 3 optimally, you come from node 1.\n",
    "\n",
    "2 → To reach node 4 optimally, you come from node 2.'''\n"
   ],
   "id": "c3f6ffb56556da2d",
   "outputs": [
    {
     "data": {
      "text/plain": [
       "'This gives the minimum distance from source node (0) to each node:\\n\\n0. → Distance from 0 to 0 = 0\\n\\n4. → Distance from 0 to 1 = 4\\n\\n3. → Distance from 0 to 2 = 3\\n\\n6. → Distance from 0 to 3 = 6\\n\\n11. → Distance from 0 to 4 = 11\\n\\nSo, for example, the shortest path from node 0 to node 3 is length 6.\\narray([-9999,     2,     0,     1,     2], dtype=int32)\\nThis tells you which node was the previous step on the shortest path.\\n\\n-9999 → means no predecessor (that’s for the source itself, node 0).\\n\\n2 → To reach node 1 optimally, you come from node 2.\\n\\n0 → To reach node 2 optimally, you come from node 0.\\n\\n1 → To reach node 3 optimally, you come from node 1.\\n\\n2 → To reach node 4 optimally, you come from node 2.'"
      ]
     },
     "execution_count": 12,
     "metadata": {},
     "output_type": "execute_result"
    }
   ],
   "execution_count": 12
  },
  {
   "metadata": {
    "ExecuteTime": {
     "end_time": "2025-08-25T10:40:18.777887Z",
     "start_time": "2025-08-25T10:40:18.772416Z"
    }
   },
   "cell_type": "code",
   "source": [
    "'''Floyd Warshall'''\n",
    "import numpy as np\n",
    "from scipy.sparse.csgraph import floyd_warshall\n",
    "from scipy.sparse import csr_matrix\n",
    "print(floyd_warshall(c1, return_predecessors=True))\n"
   ],
   "id": "545ca8b6e38d0475",
   "outputs": [
    {
     "name": "stdout",
     "output_type": "stream",
     "text": [
      "(array([[ 0.,  4.,  3.,  6., 11.],\n",
      "       [ 4.,  0.,  1.,  2.,  9.],\n",
      "       [ 3.,  1.,  0.,  3.,  8.],\n",
      "       [ 6.,  2.,  3.,  0.,  7.],\n",
      "       [11.,  9.,  8.,  7.,  0.]]), array([[-9999,     2,     0,     1,     2],\n",
      "       [    2, -9999,     1,     1,     2],\n",
      "       [    2,     2, -9999,     1,     2],\n",
      "       [    2,     3,     1, -9999,     3],\n",
      "       [    2,     2,     4,     4, -9999]], dtype=int32))\n"
     ]
    }
   ],
   "execution_count": 14
  },
  {
   "metadata": {
    "ExecuteTime": {
     "end_time": "2025-08-25T11:03:24.616071Z",
     "start_time": "2025-08-25T11:03:24.596756Z"
    }
   },
   "cell_type": "code",
   "source": [
    "'''depth first order and breadth first order'''\n",
    "import numpy as np\n",
    "from scipy.sparse import csr_matrix\n",
    "from scipy.sparse.csgraph import depth_first_order\n",
    "import numpy as np\n",
    "from scipy.sparse import csr_matrix\n",
    "from scipy.sparse.csgraph import depth_first_order, breadth_first_order\n",
    "\n",
    "graph = [\n",
    "    [0, 1, 1, 0, 0, 0],  # 0 connected to 1 and 2\n",
    "    [1, 0, 0, 1, 1, 0],  # 1 connected to 0,3,4\n",
    "    [1, 0, 0, 0, 0, 1],  # 2 connected to 0,5\n",
    "    [0, 1, 0, 0, 0, 0],  # 3 connected to 1\n",
    "    [0, 1, 0, 0, 0, 0],  # 4 connected to 1\n",
    "    [0, 0, 1, 0, 0, 0]   # 5 connected to 2\n",
    "]\n",
    "\n",
    "newarr = csr_matrix(graph)\n",
    "\n",
    "# Depth First Search\n",
    "dfs_order, dfs_predecessors = depth_first_order(newarr, 0)\n",
    "\n",
    "# Breadth First Search\n",
    "bfs_order, bfs_predecessors = breadth_first_order(newarr, 0)\n",
    "\n",
    "print(\"DFS order:\", dfs_order)\n",
    "print(\"DFS predecessors:\", dfs_predecessors)\n",
    "\n",
    "print(\"\\nBFS order:\", bfs_order)\n",
    "print(\"BFS predecessors:\", bfs_predecessors)\n",
    "\n"
   ],
   "id": "432496c55294e2b4",
   "outputs": [
    {
     "name": "stdout",
     "output_type": "stream",
     "text": [
      "DFS order: [0 1 3 4 2 5]\n",
      "DFS predecessors: [-9999     0     0     1     1     2]\n",
      "\n",
      "BFS order: [0 1 2 3 4 5]\n",
      "BFS predecessors: [-9999     0     0     1     1     2]\n"
     ]
    }
   ],
   "execution_count": 17
  },
  {
   "metadata": {},
   "cell_type": "code",
   "outputs": [],
   "execution_count": null,
   "source": [
    "'''Interpretation\n",
    "DFS (Depth First Search)\n",
    "\n",
    "Goes as deep as possible before backtracking.\n",
    "\n",
    "Order: [0 → 1 → 3 → 4 → 2 → 5]\n",
    "\n",
    "Explores down one branch (0 → 1 → 3), then backtracks to visit 4, then jumps to 2 → 5.\n",
    "\n",
    "BFS (Breadth First Search)\n",
    "\n",
    "Explores level by level.\n",
    "\n",
    "Order: [0 → 1 → 2 → 3 → 4 → 5]\n",
    "\n",
    "Visits all neighbors of 0 first (1 and 2), then their children (3,4,5).'''"
   ],
   "id": "660458ad31292017"
  }
 ],
 "metadata": {
  "kernelspec": {
   "display_name": "Python 3",
   "language": "python",
   "name": "python3"
  },
  "language_info": {
   "codemirror_mode": {
    "name": "ipython",
    "version": 2
   },
   "file_extension": ".py",
   "mimetype": "text/x-python",
   "name": "python",
   "nbconvert_exporter": "python",
   "pygments_lexer": "ipython2",
   "version": "2.7.6"
  }
 },
 "nbformat": 4,
 "nbformat_minor": 5
}
