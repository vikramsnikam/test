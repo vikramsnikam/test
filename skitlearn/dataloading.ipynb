{
 "cells": [
  {
   "cell_type": "code",
   "id": "95ac89075bae9088",
   "metadata": {
    "ExecuteTime": {
     "end_time": "2025-08-26T10:30:24.536114Z",
     "start_time": "2025-08-26T10:30:24.514130Z"
    }
   },
   "source": [
    "from sklearn.datasets import load_iris\n",
    "iris = load_iris()\n",
    "print(\"Feature names:\", iris.feature_names)\n",
    "print(\"Target names:\", iris.target_names)\n",
    "print(\"First 5 rows of data:\\n\", iris.data[:5])\n",
    "print(\"First 5 labels:\", iris.target[:5])"
   ],
   "outputs": [
    {
     "name": "stdout",
     "output_type": "stream",
     "text": [
      "Feature names: ['sepal length (cm)', 'sepal width (cm)', 'petal length (cm)', 'petal width (cm)']\n",
      "Target names: ['setosa' 'versicolor' 'virginica']\n",
      "First 5 rows of data:\n",
      " [[5.1 3.5 1.4 0.2]\n",
      " [4.9 3.  1.4 0.2]\n",
      " [4.7 3.2 1.3 0.2]\n",
      " [4.6 3.1 1.5 0.2]\n",
      " [5.  3.6 1.4 0.2]]\n",
      "First 5 labels: [0 0 0 0 0]\n"
     ]
    }
   ],
   "execution_count": 10
  },
  {
   "metadata": {
    "ExecuteTime": {
     "end_time": "2025-08-26T10:33:26.228838Z",
     "start_time": "2025-08-26T10:33:25.319883Z"
    }
   },
   "cell_type": "code",
   "source": [
    "import matplotlib.pyplot as plt\n",
    "from sklearn.datasets import load_iris\n",
    "import numpy as np\n",
    "\n",
    "# Load Iris dataset\n",
    "iris = load_iris()\n",
    "X = iris.data\n",
    "y = iris.target\n",
    "target_names = iris.target_names\n",
    "\n",
    "# Pick one sample (e.g., index 0)\n",
    "sample_idx = 0\n",
    "sample = X[sample_idx].reshape(2, 2)  # reshape 4 features into 2x2 image\n",
    "\n",
    "plt.figure(figsize=(4, 4))\n",
    "plt.imshow(sample, cmap=\"viridis\", interpolation=\"nearest\")\n",
    "plt.colorbar(label=\"Feature value\")\n",
    "plt.title(f\"Iris sample {sample_idx} - {target_names[y[sample_idx]]}\", fontsize=12)\n",
    "\n",
    "# Add text annotations for feature values\n",
    "for i in range(2):\n",
    "    for j in range(2):\n",
    "        plt.text(j, i, f\"{sample[i, j]:.2f}\",\n",
    "                 ha=\"center\", va=\"center\", color=\"white\", fontsize=10)\n",
    "\n",
    "plt.axis(\"off\")\n",
    "plt.show()\n"
   ],
   "id": "initial_id",
   "outputs": [
    {
     "ename": "FileNotFoundError",
     "evalue": "[Errno 2] No such file or directory: 'iris_flower.jpg'",
     "output_type": "error",
     "traceback": [
      "\u001B[31m---------------------------------------------------------------------------\u001B[39m",
      "\u001B[31mFileNotFoundError\u001B[39m                         Traceback (most recent call last)",
      "\u001B[36mCell\u001B[39m\u001B[36m \u001B[39m\u001B[32mIn[14]\u001B[39m\u001B[32m, line 5\u001B[39m\n\u001B[32m      2\u001B[39m \u001B[38;5;28;01mimport\u001B[39;00m\u001B[38;5;250m \u001B[39m\u001B[34;01mmatplotlib\u001B[39;00m\u001B[34;01m.\u001B[39;00m\u001B[34;01mimage\u001B[39;00m\u001B[38;5;250m \u001B[39m\u001B[38;5;28;01mas\u001B[39;00m\u001B[38;5;250m \u001B[39m\u001B[34;01mmpimg\u001B[39;00m\n\u001B[32m      4\u001B[39m \u001B[38;5;66;03m# Load an example iris flower image (replace with your file path)\u001B[39;00m\n\u001B[32m----> \u001B[39m\u001B[32m5\u001B[39m img = \u001B[43mmpimg\u001B[49m\u001B[43m.\u001B[49m\u001B[43mimread\u001B[49m\u001B[43m(\u001B[49m\u001B[33;43m\"\u001B[39;49m\u001B[33;43miris_flower.jpg\u001B[39;49m\u001B[33;43m\"\u001B[39;49m\u001B[43m)\u001B[49m\n\u001B[32m      7\u001B[39m plt.imshow(img)\n\u001B[32m      8\u001B[39m plt.axis(\u001B[33m\"\u001B[39m\u001B[33moff\u001B[39m\u001B[33m\"\u001B[39m)\n",
      "\u001B[36mFile \u001B[39m\u001B[32m~\\AppData\\Local\\Programs\\Python\\Python313\\Lib\\site-packages\\matplotlib\\image.py:1520\u001B[39m, in \u001B[36mimread\u001B[39m\u001B[34m(fname, format)\u001B[39m\n\u001B[32m   1513\u001B[39m \u001B[38;5;28;01mif\u001B[39;00m \u001B[38;5;28misinstance\u001B[39m(fname, \u001B[38;5;28mstr\u001B[39m) \u001B[38;5;129;01mand\u001B[39;00m \u001B[38;5;28mlen\u001B[39m(parse.urlparse(fname).scheme) > \u001B[32m1\u001B[39m:\n\u001B[32m   1514\u001B[39m     \u001B[38;5;66;03m# Pillow doesn't handle URLs directly.\u001B[39;00m\n\u001B[32m   1515\u001B[39m     \u001B[38;5;28;01mraise\u001B[39;00m \u001B[38;5;167;01mValueError\u001B[39;00m(\n\u001B[32m   1516\u001B[39m         \u001B[33m\"\u001B[39m\u001B[33mPlease open the URL for reading and pass the \u001B[39m\u001B[33m\"\u001B[39m\n\u001B[32m   1517\u001B[39m         \u001B[33m\"\u001B[39m\u001B[33mresult to Pillow, e.g. with \u001B[39m\u001B[33m\"\u001B[39m\n\u001B[32m   1518\u001B[39m         \u001B[33m\"\u001B[39m\u001B[33m``np.array(PIL.Image.open(urllib.request.urlopen(url)))``.\u001B[39m\u001B[33m\"\u001B[39m\n\u001B[32m   1519\u001B[39m         )\n\u001B[32m-> \u001B[39m\u001B[32m1520\u001B[39m \u001B[38;5;28;01mwith\u001B[39;00m \u001B[43mimg_open\u001B[49m\u001B[43m(\u001B[49m\u001B[43mfname\u001B[49m\u001B[43m)\u001B[49m \u001B[38;5;28;01mas\u001B[39;00m image:\n\u001B[32m   1521\u001B[39m     \u001B[38;5;28;01mreturn\u001B[39;00m (_pil_png_to_float_array(image)\n\u001B[32m   1522\u001B[39m             \u001B[38;5;28;01mif\u001B[39;00m \u001B[38;5;28misinstance\u001B[39m(image, PIL.PngImagePlugin.PngImageFile) \u001B[38;5;28;01melse\u001B[39;00m\n\u001B[32m   1523\u001B[39m             pil_to_array(image))\n",
      "\u001B[36mFile \u001B[39m\u001B[32m~\\AppData\\Local\\Programs\\Python\\Python313\\Lib\\site-packages\\PIL\\Image.py:3513\u001B[39m, in \u001B[36mopen\u001B[39m\u001B[34m(fp, mode, formats)\u001B[39m\n\u001B[32m   3511\u001B[39m \u001B[38;5;28;01mif\u001B[39;00m is_path(fp):\n\u001B[32m   3512\u001B[39m     filename = os.fspath(fp)\n\u001B[32m-> \u001B[39m\u001B[32m3513\u001B[39m     fp = \u001B[43mbuiltins\u001B[49m\u001B[43m.\u001B[49m\u001B[43mopen\u001B[49m\u001B[43m(\u001B[49m\u001B[43mfilename\u001B[49m\u001B[43m,\u001B[49m\u001B[43m \u001B[49m\u001B[33;43m\"\u001B[39;49m\u001B[33;43mrb\u001B[39;49m\u001B[33;43m\"\u001B[39;49m\u001B[43m)\u001B[49m\n\u001B[32m   3514\u001B[39m     exclusive_fp = \u001B[38;5;28;01mTrue\u001B[39;00m\n\u001B[32m   3515\u001B[39m \u001B[38;5;28;01melse\u001B[39;00m:\n",
      "\u001B[31mFileNotFoundError\u001B[39m: [Errno 2] No such file or directory: 'iris_flower.jpg'"
     ]
    }
   ],
   "execution_count": 14
  },
  {
   "metadata": {
    "ExecuteTime": {
     "end_time": "2025-08-26T10:12:57.418765Z",
     "start_time": "2025-08-26T10:12:57.394277Z"
    }
   },
   "cell_type": "code",
   "source": [
    "from sklearn.datasets import load_digits\n",
    "digits = load_digits()\n",
    "print(\"Image data shape:\", digits.data.shape)\n",
    "print(\"Target labels:\", digits.target[:25])\n"
   ],
   "id": "bb00e2444900ed51",
   "outputs": [
    {
     "name": "stdout",
     "output_type": "stream",
     "text": [
      "Image data shape: (1797, 64)\n",
      "Target labels: [0 1 2 3 4 5 6 7 8 9 0 1 2 3 4 5 6 7 8 9 0 1 2 3 4]\n"
     ]
    }
   ],
   "execution_count": 7
  },
  {
   "metadata": {
    "ExecuteTime": {
     "end_time": "2025-08-26T09:59:58.679408Z",
     "start_time": "2025-08-26T09:59:58.675361Z"
    }
   },
   "cell_type": "code",
   "source": [
    "import sklearn.datasets\n",
    "print(dir(sklearn.datasets))"
   ],
   "id": "8592d1c2cdb1533b",
   "outputs": [
    {
     "name": "stdout",
     "output_type": "stream",
     "text": [
      "['__all__', '__builtins__', '__cached__', '__doc__', '__file__', '__getattr__', '__loader__', '__name__', '__package__', '__path__', '__spec__', '_arff_parser', '_base', '_california_housing', '_covtype', '_kddcup99', '_lfw', '_olivetti_faces', '_openml', '_rcv1', '_samples_generator', '_species_distributions', '_svmlight_format_fast', '_svmlight_format_io', '_twenty_newsgroups', 'clear_data_home', 'data', 'descr', 'dump_svmlight_file', 'fetch_20newsgroups', 'fetch_20newsgroups_vectorized', 'fetch_california_housing', 'fetch_covtype', 'fetch_file', 'fetch_kddcup99', 'fetch_lfw_pairs', 'fetch_lfw_people', 'fetch_olivetti_faces', 'fetch_openml', 'fetch_rcv1', 'fetch_species_distributions', 'get_data_home', 'load_breast_cancer', 'load_diabetes', 'load_digits', 'load_files', 'load_iris', 'load_linnerud', 'load_sample_image', 'load_sample_images', 'load_svmlight_file', 'load_svmlight_files', 'load_wine', 'make_biclusters', 'make_blobs', 'make_checkerboard', 'make_circles', 'make_classification', 'make_friedman1', 'make_friedman2', 'make_friedman3', 'make_gaussian_quantiles', 'make_hastie_10_2', 'make_low_rank_matrix', 'make_moons', 'make_multilabel_classification', 'make_regression', 'make_s_curve', 'make_sparse_coded_signal', 'make_sparse_spd_matrix', 'make_sparse_uncorrelated', 'make_spd_matrix', 'make_swiss_roll', 'textwrap']\n"
     ]
    }
   ],
   "execution_count": 4
  },
  {
   "metadata": {
    "ExecuteTime": {
     "end_time": "2025-08-28T10:28:31.255609Z",
     "start_time": "2025-08-28T10:28:29.922359Z"
    }
   },
   "cell_type": "code",
   "source": [
    "from sklearn.model_selection import train_test_split\n",
    "from sklearn.linear_model import LogisticRegression\n",
    "from sklearn.metrics import accuracy_score\n",
    "\n",
    "# 1. Static dataset (numbers 1 to 100)\n",
    "X = [[i] for i in range(1, 101)]\n",
    "y = [1 if i > 50 else 0 for i in range(1, 101)]  # label = 1 if > 50 else 0\n",
    "\n",
    "# 2. Split\n",
    "X_train, X_test, y_train, y_test = train_test_split(\n",
    "    X, y, test_size=0.2, random_state=20, stratify=y\n",
    ")\n",
    "\n",
    "# 3. Train Logistic Regression\n",
    "model = LogisticRegression()\n",
    "model.fit(X_train, y_train)\n",
    "\n",
    "# 4. Predict\n",
    "y_pred = model.predict(X_test)\n",
    "a = model.predict([[30], [60], [90]])\n",
    "\n",
    "print(\"Test Predictions:\", y_pred[:10])\n",
    "print(\"True labels:\", y_test[:10])\n",
    "print(\"Accuracy:\", accuracy_score(y_test, y_pred))\n",
    "print(\"Custom Predictions:\", a)\n",
    "\n",
    "print(\"data\", y_test)"
   ],
   "id": "b77137b0e119affd",
   "outputs": [
    {
     "name": "stdout",
     "output_type": "stream",
     "text": [
      "Test Predictions: [0 0 0 0 1 1 0 0 0 0]\n",
      "True labels: [0, 0, 0, 0, 1, 1, 0, 0, 0, 0]\n",
      "Accuracy: 1.0\n",
      "Custom Predictions: [0 1 1]\n",
      "data [0, 0, 0, 0, 1, 1, 0, 0, 0, 0, 1, 1, 1, 1, 0, 1, 1, 0, 1, 1]\n"
     ]
    }
   ],
   "execution_count": 1
  },
  {
   "metadata": {
    "ExecuteTime": {
     "end_time": "2025-08-26T11:55:55.245671Z",
     "start_time": "2025-08-26T11:55:55.230646Z"
    }
   },
   "cell_type": "code",
   "source": [
    "'''std scaler'''\n",
    "from sklearn.preprocessing import StandardScaler\n",
    "import numpy as np\n",
    "\n",
    "# Sample dataset: 3 features\n",
    "data = np.array([\n",
    "    [1.0, 200.0, 1000.0],\n",
    "    [2.0, 300.0, 2000.0],\n",
    "    [3.0, 400.0, 3000.0],\n",
    "    [4.0, 500.0, 4000.0]\n",
    "])\n",
    "\n",
    "print(\"Original Data:\\n\", data)\n",
    "\n",
    "# Initialize StandardScaler\n",
    "scaler = StandardScaler()\n",
    "\n",
    "# Fit and transform\n",
    "scaled_data = scaler.fit_transform(data)\n",
    "\n",
    "print(\"\\nScaled Data:\\n\", scaled_data)\n",
    "\n",
    "# Means and standard deviations used\n",
    "print(\"\\nMean:\", scaler.mean_)\n",
    "print(\"Scale (std dev):\", scaler.scale_)\n"
   ],
   "id": "5bb2255897443f93",
   "outputs": [
    {
     "name": "stdout",
     "output_type": "stream",
     "text": [
      "Original Data:\n",
      " [[1.e+00 2.e+02 1.e+03]\n",
      " [2.e+00 3.e+02 2.e+03]\n",
      " [3.e+00 4.e+02 3.e+03]\n",
      " [4.e+00 5.e+02 4.e+03]]\n",
      "\n",
      "Scaled Data:\n",
      " [[-1.34164079 -1.34164079 -1.34164079]\n",
      " [-0.4472136  -0.4472136  -0.4472136 ]\n",
      " [ 0.4472136   0.4472136   0.4472136 ]\n",
      " [ 1.34164079  1.34164079  1.34164079]]\n",
      "\n",
      "Mean: [   2.5  350.  2500. ]\n",
      "Scale (std dev): [   1.11803399  111.80339887 1118.03398875]\n"
     ]
    }
   ],
   "execution_count": 17
  },
  {
   "metadata": {
    "ExecuteTime": {
     "end_time": "2025-08-26T11:56:51.362206Z",
     "start_time": "2025-08-26T11:56:51.347656Z"
    }
   },
   "cell_type": "code",
   "source": [
    "from sklearn.preprocessing import LabelEncoder\n",
    "\n",
    "colors = [\"red\", \"green\", \"blue\", \"green\", \"red\"]\n",
    "le = LabelEncoder()\n",
    "encoded = le.fit_transform(colors)\n",
    "print(encoded)\n"
   ],
   "id": "a74a5675c89b4f84",
   "outputs": [
    {
     "name": "stdout",
     "output_type": "stream",
     "text": [
      "[2 1 0 1 2]\n"
     ]
    }
   ],
   "execution_count": 21
  },
  {
   "metadata": {
    "ExecuteTime": {
     "end_time": "2025-08-26T11:56:49.504920Z",
     "start_time": "2025-08-26T11:56:49.464508Z"
    }
   },
   "cell_type": "code",
   "source": [
    "from sklearn.preprocessing import OneHotEncoder\n",
    "import numpy as np\n",
    "\n",
    "data = np.array([[\"red\"], [\"green\"], [\"blue\"], [\"red\"]])\n",
    "encoder = OneHotEncoder()\n",
    "encoded = encoder.fit_transform(data).toarray()\n",
    "print(encoded)\n"
   ],
   "id": "aaf4d0f0167f5a86",
   "outputs": [
    {
     "name": "stdout",
     "output_type": "stream",
     "text": [
      "[[0. 0. 1.]\n",
      " [0. 1. 0.]\n",
      " [1. 0. 0.]\n",
      " [0. 0. 1.]]\n"
     ]
    }
   ],
   "execution_count": 20
  }
 ],
 "metadata": {
  "kernelspec": {
   "display_name": "Python 3",
   "language": "python",
   "name": "python3"
  },
  "language_info": {
   "codemirror_mode": {
    "name": "ipython",
    "version": 2
   },
   "file_extension": ".py",
   "mimetype": "text/x-python",
   "name": "python",
   "nbconvert_exporter": "python",
   "pygments_lexer": "ipython2",
   "version": "2.7.6"
  }
 },
 "nbformat": 4,
 "nbformat_minor": 5
}
