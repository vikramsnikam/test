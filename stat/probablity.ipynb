{
 "cells": [
  {
   "cell_type": "code",
   "id": "initial_id",
   "metadata": {
    "collapsed": true,
    "ExecuteTime": {
     "end_time": "2025-08-17T10:25:57.673609600Z",
     "start_time": "2025-08-17T09:45:27.953983Z"
    }
   },
   "source": [
    "'''basic probability'''\n",
    "'''P(A)= favorable outcome/total outcome'''\n",
    "emails = ['spam', 'not spam', 'spam', 'not spam', 'spam', 'not spam', 'spam', 'spam']\n",
    "p_spam = emails.count('spam') / len(emails)\n",
    "print(\"P(spam) =\", round(p_spam, 4)) #4 for no digit after point"
   ],
   "outputs": [
    {
     "name": "stdout",
     "output_type": "stream",
     "text": [
      "P(spam) = 0.625\n"
     ]
    }
   ],
   "execution_count": 2
  },
  {
   "metadata": {
    "ExecuteTime": {
     "end_time": "2025-08-17T10:25:57.675405600Z",
     "start_time": "2025-08-17T09:53:53.511122Z"
    }
   },
   "cell_type": "code",
   "source": [
    "'''Additional rule'''\n",
    "'''P(A or B) = P(A) + P(B) - P(A and B)'''\n",
    "'''The probability of event A or event B happening is the sum of their probabilities minus the overlap.'''\n",
    "math = 60\n",
    "science = 50\n",
    "both = 20\n",
    "total = 100\n",
    "p_math=(math/total)\n",
    "print(\"P(math) =\", round(p_math, 4))\n",
    "p_science=(science/total)\n",
    "print(\"P(science) =\", round(p_science, 4))\n",
    "p_math_or_science = (math/total) + (science/total) -(both/total)\n",
    "print(\"P(Math OR Science) =\", round(p_math_or_science, 4)) # 0.9"
   ],
   "id": "1284290e594b8a5e",
   "outputs": [
    {
     "name": "stdout",
     "output_type": "stream",
     "text": [
      "P(math) = 0.6\n",
      "P(science) = 0.5\n",
      "P(Math OR Science) = 0.9\n"
     ]
    }
   ],
   "execution_count": 9
  },
  {
   "metadata": {
    "ExecuteTime": {
     "end_time": "2025-08-17T10:29:23.263301Z",
     "start_time": "2025-08-17T10:29:23.157964Z"
    }
   },
   "cell_type": "code",
   "source": [
    "'''multiplication rule for independent event'''\n",
    "import numpy as np\n",
    "trials = 10000\n",
    "both_heads = sum(np.random.choice(['H','T'])=='H' and\n",
    "np.random.choice(['H','T'])=='H' for _ in range(trials))\n",
    "print(\"Simulated P(both heads) =\", round(both_heads/trials, 4))\n",
    "print(\"Theoretical P(both heads) =\", 0.5*0.5)"
   ],
   "id": "570b29f6dda78a2b",
   "outputs": [
    {
     "name": "stdout",
     "output_type": "stream",
     "text": [
      "Simulated P(both heads) = 0.2482\n",
      "Theoretical P(both heads) = 0.25\n"
     ]
    }
   ],
   "execution_count": 28
  },
  {
   "metadata": {
    "ExecuteTime": {
     "end_time": "2025-08-17T10:43:17.631992Z",
     "start_time": "2025-08-17T10:43:17.623393Z"
    }
   },
   "cell_type": "code",
   "source": [
    "''' Conditional Probability'''\n",
    "'''The probability of event A, given that event B has already occurred.'''\n",
    "import numpy as np\n",
    "disease = np.array([1,1,1,0,0,0,0,0,0,0]) # 30% have disease\n",
    "positive = np.array([1,1,0,1,0,0,0,0,0,0]) # test results\n",
    "p_disease_and_positive = np.mean((disease==1) & (positive==1))\n",
    "p_positive = np.mean(positive==1)\n",
    "p_disease_given_positive = p_disease_and_positive / p_positive\n",
    "print(\"P(Disease | Positive Test) =\",\n",
    "round(p_disease_given_positive, 2))\n"
   ],
   "id": "bb6073786dbc5d96",
   "outputs": [
    {
     "name": "stdout",
     "output_type": "stream",
     "text": [
      "P(Disease | Positive Test) = 0.67\n"
     ]
    }
   ],
   "execution_count": 30
  },
  {
   "metadata": {},
   "cell_type": "code",
   "outputs": [],
   "execution_count": null,
   "source": [
    "'''Bayes’ Theorem'''\n",
    "'''Bayes’ theorem helps us update our beliefs (probabilities) when new evidence is introduced.'''\n",
    "'''Belief Update:\n",
    "Prior probability (what we believe before evidence) is updated using new evidence.\n",
    "Example: Before seeing a word “FREE” in an email, 30% emails are spam. After seeing “FREE”, the probability changes.'''\n"
   ],
   "id": "fd6c755f128e4f66"
  }
 ],
 "metadata": {
  "kernelspec": {
   "display_name": "Python 3",
   "language": "python",
   "name": "python3"
  },
  "language_info": {
   "codemirror_mode": {
    "name": "ipython",
    "version": 2
   },
   "file_extension": ".py",
   "mimetype": "text/x-python",
   "name": "python",
   "nbconvert_exporter": "python",
   "pygments_lexer": "ipython2",
   "version": "2.7.6"
  }
 },
 "nbformat": 4,
 "nbformat_minor": 5
}
