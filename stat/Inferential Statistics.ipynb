{
 "cells": [
  {
   "cell_type": "code",
   "id": "initial_id",
   "metadata": {
    "collapsed": true,
    "ExecuteTime": {
     "end_time": "2025-08-17T11:23:29.910235Z",
     "start_time": "2025-08-17T11:23:29.901311Z"
    }
   },
   "source": [
    "'''sampling techniques'''\n",
    "'''1.1 random sampling technique'''\n",
    "'''selecting any sample from data   '''\n",
    "import random\n",
    "students = list(range(1, 51))\n",
    "sample = random.sample(students, 5)\n",
    "print(\"Random Sample:\", sample)\n"
   ],
   "outputs": [
    {
     "name": "stdout",
     "output_type": "stream",
     "text": [
      "Random Sample: [8, 6, 27, 47, 5]\n"
     ]
    }
   ],
   "execution_count": 9
  },
  {
   "metadata": {
    "ExecuteTime": {
     "end_time": "2025-08-17T11:29:28.939680Z",
     "start_time": "2025-08-17T11:29:28.925558Z"
    }
   },
   "cell_type": "code",
   "source": [
    "'''1.2 Stratified Sampling'''\n",
    "'''The population is divided into groups (strata).A proportionate sample is taken from each group'''\n",
    "'''In a college, 60% are boys and 40% are girls. If a sample of 100 students is required, then\n",
    "60 boys and 40 girls will be selected.'''\n",
    "import random\n",
    "\n",
    "# Example dataset\n",
    "students = [\n",
    "    {\"name\": \"A\", \"gender\": \"boy\"},\n",
    "    {\"name\": \"B\", \"gender\": \"girl\"},\n",
    "    {\"name\": \"C\", \"gender\": \"boy\"},\n",
    "    {\"name\": \"D\", \"gender\": \"girl\"},\n",
    "    {\"name\": \"E\", \"gender\": \"boy\"},\n",
    "    {\"name\": \"F\", \"gender\": \"girl\"},\n",
    "    {\"name\": \"G\", \"gender\": \"boy\"},\n",
    "    {\"name\": \"H\", \"gender\": \"girl\"},\n",
    "    {\"name\": \"I\", \"gender\": \"boy\"},\n",
    "    {\"name\": \"J\", \"gender\": \"girl\"},\n",
    "]\n",
    "\n",
    "# Separate boys and girls\n",
    "boys = [s for s in students if s[\"gender\"] == \"boy\"]\n",
    "girls = [s for s in students if s[\"gender\"] == \"girl\"]\n",
    "\n",
    "# Desired sample size\n",
    "sample_size = 5   # pick 5 students\n",
    "\n",
    "# Calculate number of boys and girls (60% boys, 40% girls)\n",
    "num_boys = round(sample_size * 0.6)\n",
    "num_girls = sample_size - num_boys\n",
    "\n",
    "# Randomly sample\n",
    "sampled_boys = random.sample(boys, num_boys)\n",
    "sampled_girls = random.sample(girls, num_girls)\n",
    "\n",
    "# Final stratified sample\n",
    "stratified_sample = sampled_boys + sampled_girls\n",
    "random.shuffle(stratified_sample)  # shuffle to mix boys and girls\n",
    "\n",
    "# Print result\n",
    "print(\"Stratified Sample:\")\n",
    "for s in stratified_sample:\n",
    "    print(s)\n"
   ],
   "id": "b9f3201b646fbd90",
   "outputs": [
    {
     "name": "stdout",
     "output_type": "stream",
     "text": [
      "Stratified Sample:\n",
      "{'name': 'E', 'gender': 'boy'}\n",
      "{'name': 'B', 'gender': 'girl'}\n",
      "{'name': 'F', 'gender': 'girl'}\n",
      "{'name': 'A', 'gender': 'boy'}\n",
      "{'name': 'G', 'gender': 'boy'}\n"
     ]
    }
   ],
   "execution_count": 13
  },
  {
   "metadata": {
    "ExecuteTime": {
     "end_time": "2025-08-17T11:31:26.380585Z",
     "start_time": "2025-08-17T11:31:26.366186Z"
    }
   },
   "cell_type": "code",
   "source": [
    "'''1.3 Cluster Sampling'''\n",
    "'''The population is divided into clusters (small groups)A few clusters are selected randomly, and data is collected from all members of those clusters.'''\n",
    "'''A city has 100 schools. Each school is a cluster. If 10 schools are selected randomly and\n",
    "data is collected from all students in those schools, this is cluster sampling'''"
   ],
   "id": "644fa59ebce30827",
   "outputs": [
    {
     "data": {
      "text/plain": [
       "'A city has 100 schools. Each school is a cluster. If 10 schools are selected randomly and\\ndata is collected from all students in those schools, this is cluster sampling'"
      ]
     },
     "execution_count": 14,
     "metadata": {},
     "output_type": "execute_result"
    }
   ],
   "execution_count": 14
  },
  {
   "metadata": {
    "ExecuteTime": {
     "end_time": "2025-08-17T11:33:45.899850Z",
     "start_time": "2025-08-17T11:33:45.888781Z"
    }
   },
   "cell_type": "code",
   "source": [
    "'''1 4 Systematic Sampling'''\n",
    "'''A factory produces 1000 items. Every 10th item is checked for quality'''\n",
    "population = list(range(1, 101))\n",
    "k = 10\n",
    "sample = population[::k]\n",
    "print(\"Systematic Sample:\", sample)"
   ],
   "id": "a763b2969aae991e",
   "outputs": [
    {
     "name": "stdout",
     "output_type": "stream",
     "text": [
      "Systematic Sample: [1, 11, 21, 31, 41, 51, 61, 71, 81, 91]\n"
     ]
    }
   ],
   "execution_count": 16
  },
  {
   "metadata": {
    "ExecuteTime": {
     "end_time": "2025-08-17T11:41:59.750368Z",
     "start_time": "2025-08-17T11:41:59.625672Z"
    }
   },
   "cell_type": "code",
   "source": [
    "'''Sampling Distribution'''\n",
    "'''2.1Central Limit Theorem'''\n",
    "'''If a die is rolled 1000 times and averages are taken, the results will form a normal distribution.'''\n",
    "import numpy as np\n",
    "import matplotlib.pyplot as plt\n",
    "means = []\n",
    "for _ in range(1000):\n",
    "   sample=np.random.randint(1, 7, 30) # 30 dice rolls and total 1000 sample taken\n",
    "   means.append(np.mean(sample))\n",
    "plt.hist(means, bins=30, edgecolor='black')\n",
    "plt.title(\"Sampling Distribution of Dice Rolls\")\n",
    "plt.show()"
   ],
   "id": "d599863618a8bb99",
   "outputs": [
    {
     "data": {
      "text/plain": [
       "<Figure size 640x480 with 1 Axes>"
      ],
      "image/png": "[encoded data removed]"
     },
     "metadata": {},
     "output_type": "display_data"
    }
   ],
   "execution_count": 23
  },
  {
   "metadata": {
    "ExecuteTime": {
     "end_time": "2025-08-17T11:43:38.247767Z",
     "start_time": "2025-08-17T11:43:38.237457Z"
    }
   },
   "cell_type": "code",
   "source": [
    "''' Estimation '''\n",
    "'''3.1 Point Estimation'''\n",
    "'''A single value is used to estimate a population parameter.\n",
    "Example: Sample mean (x̄) is used as an estimate for Population mean (µ).'''"
   ],
   "id": "75b3c16b6c3266ce",
   "outputs": [
    {
     "data": {
      "text/plain": [
       "'A single value is used to estimate a population parameter.\\nExample: Sample mean (x̄) is used as an estimate for Population mean (µ).'"
      ]
     },
     "execution_count": 24,
     "metadata": {},
     "output_type": "execute_result"
    }
   ],
   "execution_count": 24
  },
  {
   "metadata": {
    "ExecuteTime": {
     "end_time": "2025-08-17T11:45:19.789304Z",
     "start_time": "2025-08-17T11:45:19.774867Z"
    }
   },
   "cell_type": "code",
   "source": [
    "'''3.2Interval Estimation'''\n",
    "'''A range of values is given within which the population parameter is expected to lie'''\n",
    "'''Example:\n",
    "A sample has an average height = 165 cm.\n",
    "Confidence Interval (95%) = 160 cm to 170 cm.\n",
    "This means there is a 95% chance that the population mean lies in this range'''\n",
    "import numpy as np\n",
    "import scipy.stats as st\n",
    "data = np.array([165, 170, 160, 175, 168, 172, 166])\n",
    "mean = np.mean(data)\n",
    "print(mean)\n",
    "ci = st.norm.interval(0.95, loc=mean, scale=st.sem(data))\n",
    "print(\"95% Confidence Interval:\", ci)"
   ],
   "id": "46b04aaed0d85a59",
   "outputs": [
    {
     "name": "stdout",
     "output_type": "stream",
     "text": [
      "168.0\n",
      "95% Confidence Interval: (np.float64(164.345736385101), np.float64(171.654263614899))\n"
     ]
    }
   ],
   "execution_count": 26
  }
 ],
 "metadata": {
  "kernelspec": {
   "display_name": "Python 3",
   "language": "python",
   "name": "python3"
  },
  "language_info": {
   "codemirror_mode": {
    "name": "ipython",
    "version": 2
   },
   "file_extension": ".py",
   "mimetype": "text/x-python",
   "name": "python",
   "nbconvert_exporter": "python",
   "pygments_lexer": "ipython2",
   "version": "2.7.6"
  }
 },
 "nbformat": 4,
 "nbformat_minor": 5
}
