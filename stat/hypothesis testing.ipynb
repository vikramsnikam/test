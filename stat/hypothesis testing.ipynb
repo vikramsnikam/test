{
 "cells": [
  {
   "cell_type": "code",
   "id": "initial_id",
   "metadata": {
    "collapsed": true,
    "ExecuteTime": {
     "end_time": "2025-08-18T10:44:54.819361Z",
     "start_time": "2025-08-18T10:44:54.807913Z"
    }
   },
   "source": [
    "'''z test'''\n",
    "import numpy as np\n",
    "from scipy.stats import norm\n",
    "sample_mean = 98.5\n",
    "population_mean = 100\n",
    "population_std = 5\n",
    "sample_size = 50\n",
    "alpha = 0.05\n",
    "# Calculate Z-statistic\n",
    "z_stat = (sample_mean - population_mean) / (population_std / np.sqrt(sample_size))\n",
    "print(z_stat)\n",
    "# Calculate p-value (two-tailed test)\n",
    "p_value = 2 * (1 - norm.cdf(abs(z_stat)))\n",
    "print(p_value)\n",
    "print(f\"Z-statistic: {z_stat:.2f}\")\n",
    "print(f\"P-value: {p_value:.4f}\")\n",
    "\n",
    "if p_value < alpha:\n",
    "    print(\"Reject H0: Weight is significantly different from 100g\")\n",
    "else:\n",
    "    print(\"Fail to reject H0: No significant difference\")\n",
    "\n",
    "\n"
   ],
   "outputs": [
    {
     "name": "stdout",
     "output_type": "stream",
     "text": [
      "-2.121320343559643\n",
      "0.03389485352468924\n",
      "Z-statistic: -2.12\n",
      "P-value: 0.0339\n",
      "Reject H0: Weight is significantly different from 100g\n"
     ]
    }
   ],
   "execution_count": 8
  },
  {
   "metadata": {
    "ExecuteTime": {
     "end_time": "2025-08-18T10:54:26.882711Z",
     "start_time": "2025-08-18T10:54:26.864690Z"
    }
   },
   "cell_type": "code",
   "source": [
    "'''T test'''\n",
    "from scipy.stats import ttest_1samp, ttest_ind, ttest_rel\n",
    "\n",
    "# One-sample t-test\n",
    "sample_data = [5200, 4800, 5400, 5100, 5300, 4900, 5250]\n",
    "population_mean = 5000\n",
    "t_stat, p_value = ttest_1samp(sample_data, population_mean)\n",
    "print(f\"One-sample t-test: t={t_stat:.2f}, p={p_value:.4f}\")\n",
    "# Independent t-test\n",
    "class_a = [85, 88, 82, 90, 87, 84, 89, 86]\n",
    "class_b = [78, 81, 79, 83, 80, 77, 82, 79]\n",
    "t_stat, p_value = ttest_ind(class_a, class_b)\n",
    "print(f\"Independent t-test: t={t_stat:.2f}, p={p_value:.4f}\")\n",
    "\n",
    "# Paired t-test\n",
    "before = [80, 85, 90, 75, 88, 92, 78, 86]\n",
    "after = [77, 82, 85, 74, 84, 88, 76, 83]\n",
    "t_stat, p_value = ttest_rel(before, after)\n",
    "print(f\"Paired t-test: t={t_stat:.2f}, p={p_value:.4f}\")\n"
   ],
   "id": "229860da0163ac9b",
   "outputs": [
    {
     "name": "stdout",
     "output_type": "stream",
     "text": [
      "One-sample t-test: t=1.65, p=0.1497\n",
      "Independent t-test: t=5.48, p=0.0001\n",
      "Paired t-test: t=7.09, p=0.0002\n"
     ]
    }
   ],
   "execution_count": 11
  },
  {
   "metadata": {
    "ExecuteTime": {
     "end_time": "2025-08-18T11:25:28.357507Z",
     "start_time": "2025-08-18T11:25:28.343501Z"
    }
   },
   "cell_type": "code",
   "source": [
    "'''chi square test'''\n",
    "from scipy.stats import chisquare\n",
    "'''Example 3: Gender vs Course (Independence Test)\n",
    "            Science Arts Commerce Total\n",
    "Male        30      20   25      75\n",
    "Female      20      35   20      75\n",
    "Total       50      55   45      150\n",
    "\n",
    "Expected Values (Eij = (row total × col total)/grand total):\n",
    "Male_Sci=25       # (75×50)/150=25\n",
    "Male_Arts:=27.5   # (75×55)/150=27.5\n",
    "Male_Comm=22.5    # (75×45)/150=22.5\n",
    "χa = 6.66\n",
    "df =2 # (2−1)(3−1)\n",
    "χ²crit(0.05,df=2)=5.99\n",
    "\n",
    "👉 6.66 > 5.99 → Reject H₀ → Gender affects course choice.'''\n",
    "from scipy.stats import chi2_contingency, chi2\n",
    "\n",
    "data = [[30,20,25],[20,35,20]]\n",
    "chi_stat, p_value, dof, expected = chi2_contingency(data)\n",
    "crit = chi2.ppf(0.95, dof)\n",
    "print(f\"χ²={chi_stat:.2f}, p={p_value:.4f}, χ²fr_crit={crit:.2f}\")\n",
    "\n",
    "\n",
    "\n",
    "\n"
   ],
   "id": "1fcb46c3b0d8770",
   "outputs": [
    {
     "name": "stdout",
     "output_type": "stream",
     "text": [
      "χ²=6.65, p=0.0360, χ²fr_crit=5.99\n"
     ]
    }
   ],
   "execution_count": 24
  },
  {
   "metadata": {
    "ExecuteTime": {
     "end_time": "2025-08-18T11:29:43.421313Z",
     "start_time": "2025-08-18T11:29:43.408254Z"
    }
   },
   "cell_type": "code",
   "source": [
    "'''ANOVA test'''\n",
    "import scipy.stats as stats\n",
    "\n",
    "A = [70, 72, 68]\n",
    "B = [80, 82, 78]\n",
    "C = [75, 77, 73]\n",
    "\n",
    "f_stat, p_value = stats.f_oneway(A, B, C)\n",
    "print(f\"F = {f_stat:.2f}, p = {p_value:.4f}\")\n"
   ],
   "id": "19d914539942739a",
   "outputs": [
    {
     "name": "stdout",
     "output_type": "stream",
     "text": [
      "F = 18.75, p = 0.0026\n"
     ]
    }
   ],
   "execution_count": 31
  }
 ],
 "metadata": {
  "kernelspec": {
   "display_name": "Python 3",
   "language": "python",
   "name": "python3"
  },
  "language_info": {
   "codemirror_mode": {
    "name": "ipython",
    "version": 2
   },
   "file_extension": ".py",
   "mimetype": "text/x-python",
   "name": "python",
   "nbconvert_exporter": "python",
   "pygments_lexer": "ipython2",
   "version": "2.7.6"
  }
 },
 "nbformat": 4,
 "nbformat_minor": 5
}
