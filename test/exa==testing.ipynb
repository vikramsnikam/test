{
 "cells": [
  {
   "cell_type": "code",
   "id": "initial_id",
   "metadata": {
    "collapsed": true,
    "ExecuteTime": {
     "end_time": "2025-08-19T11:25:11.047278Z",
     "start_time": "2025-08-19T11:25:10.782009Z"
    }
   },
   "source": [
    "import matplotlib.pyplot as plt\n",
    "\n",
    "data = {\n",
    "    'area': [2600, 3000, 3200, 3600, 4000, 4100],\n",
    "    'bedrooms': [3, 4, 4, 3, 5, 6],\n",
    "    'age': [20, 15, 18, 30, 8, 8],\n",
    "    'price': [550000, 565000, 610000, 595000, 760000, 810000]\n",
    "}\n",
    "\n",
    "area = np.array(data['area'])\n",
    "bedrooms = np.array(data['bedrooms'])\n",
    "age = np.array(data['age'])\n",
    "price = np.array(data['price'])\n",
    "\n",
    "# Normalize features (0–1 scale)\n",
    "def normalize(x):\n",
    "    return (x - x.min()) / (x.max() - x.min())\n",
    "\n",
    "area_n = normalize(area)\n",
    "bedrooms_n = normalize(bedrooms)\n",
    "age_n = normalize(age)\n",
    "\n",
    "# Plot scatter + line graphs\n",
    "plt.figure(figsize=(8,6))\n",
    "\n",
    "# Scatter plots\n",
    "plt.scatter(area_n, price, label=\"Area\", marker=\"o\")\n",
    "plt.scatter(bedrooms_n, price, label=\"Bedrooms\", marker=\"s\")\n",
    "plt.scatter(age_n, price, label=\"Age\", marker=\"^\")\n",
    "\n",
    "# Line plots\n",
    "plt.plot(area_n, price, linestyle=\"--\", color=\"blue\", alpha=0.7)\n",
    "plt.plot(bedrooms_n, price, linestyle=\"--\", color=\"orange\", alpha=0.7)\n",
    "plt.plot(age_n, price, linestyle=\"--\", color=\"green\", alpha=0.7)\n",
    "\n",
    "# Labels & legend\n",
    "plt.xlabel(\"Normalized Features (0–1 scale)\")\n",
    "plt.ylabel(\"Price\")\n",
    "plt.title(\"House Price vs Features (Scatter + Line)\")\n",
    "plt.legend()\n",
    "plt.grid(True)\n",
    "\n",
    "plt.show()"
   ],
   "outputs": [
    {
     "ename": "NameError",
     "evalue": "name 'np' is not defined",
     "output_type": "error",
     "traceback": [
      "\u001B[31m---------------------------------------------------------------------------\u001B[39m",
      "\u001B[31mNameError\u001B[39m                                 Traceback (most recent call last)",
      "\u001B[36mCell\u001B[39m\u001B[36m \u001B[39m\u001B[32mIn[4]\u001B[39m\u001B[32m, line 10\u001B[39m\n\u001B[32m      1\u001B[39m \u001B[38;5;28;01mimport\u001B[39;00m\u001B[38;5;250m \u001B[39m\u001B[34;01mmatplotlib\u001B[39;00m\u001B[34;01m.\u001B[39;00m\u001B[34;01mpyplot\u001B[39;00m\u001B[38;5;250m \u001B[39m\u001B[38;5;28;01mas\u001B[39;00m\u001B[38;5;250m \u001B[39m\u001B[34;01mplt\u001B[39;00m\n\u001B[32m      3\u001B[39m data = {\n\u001B[32m      4\u001B[39m     \u001B[33m'\u001B[39m\u001B[33marea\u001B[39m\u001B[33m'\u001B[39m: [\u001B[32m2600\u001B[39m, \u001B[32m3000\u001B[39m, \u001B[32m3200\u001B[39m, \u001B[32m3600\u001B[39m, \u001B[32m4000\u001B[39m, \u001B[32m4100\u001B[39m],\n\u001B[32m      5\u001B[39m     \u001B[33m'\u001B[39m\u001B[33mbedrooms\u001B[39m\u001B[33m'\u001B[39m: [\u001B[32m3\u001B[39m, \u001B[32m4\u001B[39m, \u001B[32m4\u001B[39m, \u001B[32m3\u001B[39m, \u001B[32m5\u001B[39m, \u001B[32m6\u001B[39m],\n\u001B[32m      6\u001B[39m     \u001B[33m'\u001B[39m\u001B[33mage\u001B[39m\u001B[33m'\u001B[39m: [\u001B[32m20\u001B[39m, \u001B[32m15\u001B[39m, \u001B[32m18\u001B[39m, \u001B[32m30\u001B[39m, \u001B[32m8\u001B[39m, \u001B[32m8\u001B[39m],\n\u001B[32m      7\u001B[39m     \u001B[33m'\u001B[39m\u001B[33mprice\u001B[39m\u001B[33m'\u001B[39m: [\u001B[32m550000\u001B[39m, \u001B[32m565000\u001B[39m, \u001B[32m610000\u001B[39m, \u001B[32m595000\u001B[39m, \u001B[32m760000\u001B[39m, \u001B[32m810000\u001B[39m]\n\u001B[32m      8\u001B[39m }\n\u001B[32m---> \u001B[39m\u001B[32m10\u001B[39m area = \u001B[43mnp\u001B[49m.array(data[\u001B[33m'\u001B[39m\u001B[33marea\u001B[39m\u001B[33m'\u001B[39m])\n\u001B[32m     11\u001B[39m bedrooms = np.array(data[\u001B[33m'\u001B[39m\u001B[33mbedrooms\u001B[39m\u001B[33m'\u001B[39m])\n\u001B[32m     12\u001B[39m age = np.array(data[\u001B[33m'\u001B[39m\u001B[33mage\u001B[39m\u001B[33m'\u001B[39m])\n",
      "\u001B[31mNameError\u001B[39m: name 'np' is not defined"
     ]
    }
   ],
   "execution_count": 4
  }
 ],
 "metadata": {
  "kernelspec": {
   "display_name": "Python 3",
   "language": "python",
   "name": "python3"
  },
  "language_info": {
   "codemirror_mode": {
    "name": "ipython",
    "version": 2
   },
   "file_extension": ".py",
   "mimetype": "text/x-python",
   "name": "python",
   "nbconvert_exporter": "python",
   "pygments_lexer": "ipython2",
   "version": "2.7.6"
  }
 },
 "nbformat": 4,
 "nbformat_minor": 5
}
