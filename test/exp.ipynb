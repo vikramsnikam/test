{
 "cells": [
  {
   "cell_type": "code",
   "id": "initial_id",
   "metadata": {
    "collapsed": true,
    "ExecuteTime": {
     "end_time": "2025-09-08T11:00:52.628289Z",
     "start_time": "2025-09-08T11:00:52.592464Z"
    }
   },
   "source": [
    "import pandas as pd\n",
    "import random\n",
    "\n",
    "materials = []\n",
    "for i in range(1, 501):\n",
    "    base_material = random.choice([\n",
    "        \"ZnO\", \"Quartz (SiO2)\", \"LiNbO3\", \"PbTiO3\", \"AlN\", \"BaTiO3\", \"KNN\",\n",
    "        \"PZT\", \"PMN-PT\", \"PVDF\", \"PVDF-TrFE\", \"GaPO4\", \"LiTaO3\", \"SrTiO3\"\n",
    "    ])\n",
    "    dopant = random.choice([\"\", \" (doped-Al)\", \" (doped-Ga)\", \" (doped-Mg)\", \" (doped-Sc)\", \" (doped-Li)\", \" (doped-Na)\", \" (doped-Sr)\"])\n",
    "    material_name = base_material + dopant\n",
    "\n",
    "    # Generate properties in realistic ranges\n",
    "    bandgap = round(random.uniform(2.5, 9.0), 2)\n",
    "    dielectric = round(random.uniform(3, 6000), 1)\n",
    "    d33 = round(random.uniform(1, 3000), 1)\n",
    "    curie_temp = round(random.uniform(100, 2000), 1)\n",
    "    density = round(random.uniform(2.0, 8.5), 2)\n",
    "    crystal_system = random.choice([\"Hexagonal\", \"Trigonal\", \"Tetragonal\", \"Orthorhombic\", \"Perovskite\", \"Amorphous\", \"Cubic\"])\n",
    "    polarization_type = random.choice([\"ferroelectric\", \"polar\", \"non-polar\", \"n-type\", \"p-type\"])\n",
    "    category = random.choice([\"Ceramic\", \"Crystal\", \"Polymer\", \"Natural\", \"Glass\"])\n",
    "    applications = random.choice([\n",
    "        \"Nanogenerators, Li-ion anodes, sensors\",\n",
    "        \"Ultrasound transducers, actuators\",\n",
    "        \"Thin-film capacitors, MEMS devices\",\n",
    "        \"Energy storage, actuators, capacitors\",\n",
    "        \"Optoelectronics, photonics\",\n",
    "        \"Medical imaging, sensors\",\n",
    "        \"RF filters, acoustic devices\"\n",
    "    ])\n",
    "\n",
    "    materials.append([material_name, bandgap, dielectric, d33, curie_temp, category, density, crystal_system, polarization_type, applications])\n",
    "\n",
    "df_large = pd.DataFrame(materials, columns=[\n",
    "    \"Material\", \"Bandgap_eV\", \"Dielectric_Constant\", \"Piezoelectric_Coeff_d33_pC_N\",\n",
    "    \"Curie_Temp_C\", \"Category\", \"Density_g_cm3\", \"Crystal_System\", \"Polarization_Type\", \"Applications\"\n",
    "])\n",
    "\n",
    "# Save to CSV\n",
    "df_large.to_csv(\"piezoelectric_materials_500_dataset.csv\", index=False)\n",
    "print(\"Dataset saved as piezoelectric_materials_500_dataset.csv with\", len(df_large), \"rows.\")\n"
   ],
   "outputs": [
    {
     "name": "stdout",
     "output_type": "stream",
     "text": [
      "Dataset saved as piezoelectric_materials_500_dataset.csv with 500 rows.\n"
     ]
    }
   ],
   "execution_count": 2
  }
 ],
 "metadata": {
  "kernelspec": {
   "display_name": "Python 3",
   "language": "python",
   "name": "python3"
  },
  "language_info": {
   "codemirror_mode": {
    "name": "ipython",
    "version": 2
   },
   "file_extension": ".py",
   "mimetype": "text/x-python",
   "name": "python",
   "nbconvert_exporter": "python",
   "pygments_lexer": "ipython2",
   "version": "2.7.6"
  }
 },
 "nbformat": 4,
 "nbformat_minor": 5
}
